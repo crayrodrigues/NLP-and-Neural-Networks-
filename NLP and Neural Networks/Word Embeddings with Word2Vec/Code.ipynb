{
  "cells": [
    {
      "cell_type": "markdown",
      "metadata": {
        "id": "t_yvQBKrD8Se"
      },
      "source": [
        "# **ECS 7001 - NN & NNLP**\n",
        "\n",
        "## **2021/22 Lab 1: Skip-gram Model for Word2Vec**\n",
        "\n",
        "<br>\n",
        "\n",
        "**26th and 27th January**\n",
        "\n",
        "There are two Word2Vec architectures for creating word embeddings: the Continuous Bag of Words (CBOW) architecture and the Skip Gram architecture . In this lab, we will obtain our own word embeddings by training a skip-gram neural network model. Some of the code for this will be supplied here but in some sections, you will be required to implement the code yourself. Hints and\n",
        "tips will be provided.\n",
        "\n",
        "\n",
        "The skip gram model is essentially a feedforward neural network with one hidden layer, trained to predict the context word given a target word. There are two ways to train this model: (1) using a hierarchical softmax function and/or (2) by negative sampling. In this lab, we will be training using\n",
        "negative sampling. To train with negative sampling, the model is cast as a binary classification problem. The dataset would consist of positive and negative examples of the form:\n",
        "\n",
        "Input | label\n",
        "--| --\n",
        "(target_word, word_in_its_context)       |  1 \n",
        "(target_word, word_not_in_its_context)   |  0\n",
        "\n",
        "created from the sentences in a corpus. The exact number of positive and negative examples will depend on the window size, and the balance ratio of positive:negative examples.  \n",
        "\n",
        "As an example, consider the sentence: “ **The quick brown\n",
        "fox jumped over the lazy dog** ”. For the target word ' **fox** ' and a window size of 2, all the positive and negative examples drawn from this sentence would be:\n",
        "\n",
        "Input | label\n",
        "--| --\n",
        "(fox, the) | 0\n",
        "(fox, quick) | 1\n",
        "(fox, brown) | 1\n",
        "(fox, jumped) | 1\n",
        "(fox, over) |1\n",
        "(fox, lazy) | 0\n",
        "(fox, dog) | 0\n",
        "\n",
        "The model is trained to learn to predict 1 when a word is in the context of the target word (i.e.in the window of the target word) and 0 otherwise. The model thus learns the statistics of the given corpus: the frequency with two words appear together would determine how similar they are (similarity is usually measured using cosine distance). After training, the trained hidden layer weights are the word embeddings.\n",
        "\n"
      ]
    },
    {
      "cell_type": "markdown",
      "metadata": {
        "id": "Ep2X91YdJpkG"
      },
      "source": [
        "### **0. Prepare the environment**\n",
        "\n",
        "Open Google Colab or activate the virtual environment you’ve created"
      ]
    },
    {
      "cell_type": "markdown",
      "metadata": {
        "id": "w6Pi5uvTLRCo"
      },
      "source": [
        "### **1. Downloading the Corpus**\n",
        "\n",
        "Our training data will be comprised of 3 documents from the Gutenberg corpus. We can find this and other corpora in nltk https://www.nltk.org/book/ch02.html"
      ]
    },
    {
      "cell_type": "code",
      "execution_count": 1,
      "metadata": {
        "colab": {
          "base_uri": "https://localhost:8080/"
        },
        "id": "xn7sWMG-KoBV",
        "outputId": "cffc9f2b-e4bd-4a7f-c17a-c30c552f4493"
      },
      "outputs": [
        {
          "output_type": "stream",
          "name": "stdout",
          "text": [
            "[nltk_data] Downloading package punkt to /root/nltk_data...\n",
            "[nltk_data]   Unzipping tokenizers/punkt.zip.\n",
            "[nltk_data] Downloading package gutenberg to /root/nltk_data...\n",
            "[nltk_data]   Unzipping corpora/gutenberg.zip.\n"
          ]
        }
      ],
      "source": [
        "import nltk\n",
        "\n",
        "nltk.download('punkt')\n",
        "nltk.download('gutenberg')\n",
        "from nltk.corpus import gutenberg\n",
        "austen = gutenberg.sents('austen-sense.txt') + gutenberg.sents('austen-emma.txt') + gutenberg.sents('austen-persuasion.txt')"
      ]
    },
    {
      "cell_type": "markdown",
      "metadata": {
        "id": "PYD16ST1MIOf"
      },
      "source": [
        "**Sanity check:**\n",
        "\n",
        "This training corpus contains 16498 sentences. The following print statement should return 16498."
      ]
    },
    {
      "cell_type": "markdown",
      "metadata": {
        "id": "4mY-1R53veH5"
      },
      "source": [
        ""
      ]
    },
    {
      "cell_type": "code",
      "execution_count": 2,
      "metadata": {
        "colab": {
          "base_uri": "https://localhost:8080/"
        },
        "id": "yCH0PmPcL83f",
        "outputId": "7bebc4b5-d731-4762-b22a-f687192523f8"
      },
      "outputs": [
        {
          "output_type": "stream",
          "name": "stdout",
          "text": [
            "16498\n"
          ]
        }
      ],
      "source": [
        "print(len(austen))"
      ]
    },
    {
      "cell_type": "code",
      "execution_count": 3,
      "metadata": {
        "colab": {
          "base_uri": "https://localhost:8080/"
        },
        "id": "APFWiEejv9i5",
        "outputId": "e0ee1a6a-d15e-401b-a67e-0559e2a4a0db"
      },
      "outputs": [
        {
          "output_type": "execute_result",
          "data": {
            "text/plain": [
              "['[', 'Sense', 'and', 'Sensibility', 'by', 'Jane', 'Austen', '1811', ']']"
            ]
          },
          "metadata": {},
          "execution_count": 3
        }
      ],
      "source": [
        "austen[0]"
      ]
    },
    {
      "cell_type": "markdown",
      "metadata": {
        "id": "4c14vElNvMGX"
      },
      "source": [
        "### **2. Preprocessing the Training Corpus**\n",
        "\n",
        "In this section, you will write code to remove special characters, empty strings, digits and\n",
        "stopwords from the sentences and put all the words into lower cases. You might also consider removing sentences with fewer than 3 words or at least empty sentences.\n",
        "\n",
        "\n",
        "**Hints:**\n",
        "*   The corpus can be accessed as you would a tokenized list, a list of lists, each inner list contains all the tokens in the sentence. Eg:\n",
        "\\>> austen[0] =['[', 'Sense', 'and', 'Sensibility', 'by','Jane', 'Austen', '1811', ']']\n",
        "\n",
        "*   the python <string> library contains a variable “punctuation”, a string containing all\n",
        "the special characters.\n",
        "\n",
        "*   You might want to write a function that takes the corpus as an argument and returns the preprocessed corpus as a list of lists.\n",
        "\n",
        " Alternatively, you can use the keras preprocessing library to preprocess the text. More information on the library can be found here:\n",
        "https://keras.io/preprocessing/text/\n",
        "\n",
        "\n",
        "**Sanity check:**\n",
        "\n",
        "After preprocessing the corpus, as a sanity check, print the following line of code. If you chose removed sentences of length with fewer than 3 words, it should be about 13651. \n",
        "\n",
        "As a test for your preprocessing function, preprocess the sample below and print the output of your function."
      ]
    },
    {
      "cell_type": "code",
      "execution_count": 7,
      "metadata": {
        "colab": {
          "base_uri": "https://localhost:8080/"
        },
        "id": "Ca30OMBbOy6N",
        "outputId": "721c7878-cc6c-4efc-eb3c-2e75c8a7e0cd"
      },
      "outputs": [
        {
          "output_type": "stream",
          "name": "stdout",
          "text": [
            "[nltk_data] Downloading package stopwords to /root/nltk_data...\n",
            "[nltk_data]   Unzipping corpora/stopwords.zip.\n"
          ]
        }
      ],
      "source": [
        "nltk.download('stopwords')\n",
        "from nltk.corpus import stopwords"
      ]
    },
    {
      "cell_type": "code",
      "execution_count": 8,
      "metadata": {
        "colab": {
          "base_uri": "https://localhost:8080/"
        },
        "id": "V2SIxzvwybiv",
        "outputId": "92d54a7b-c956-430c-d7b4-6bf0926e26c9"
      },
      "outputs": [
        {
          "output_type": "stream",
          "name": "stdout",
          "text": [
            "The new length of the preprocessed output 13651\n"
          ]
        }
      ],
      "source": [
        "def preprocess_corpus(corpus):\n",
        "    '''\n",
        "    Write code for preprocessing corpus here\n",
        "    '''\n",
        "    normalized_corpus=[]\n",
        "    for sentence in corpus:\n",
        "        sent=[]\n",
        "        for token in sentence: \n",
        "            if token.isalpha() and token not in stopwords.words('english'): \n",
        "                sent.append(token.lower())\n",
        "        if len(sent)>3:\n",
        "            normalized_corpus.append(sent)\n",
        "    return normalized_corpus\n",
        "\n",
        "\n",
        "normalized_corpus = preprocess_corpus(austen)\n",
        "print('The new length of the preprocessed output ' +str(len(normalized_corpus)))"
      ]
    },
    {
      "cell_type": "code",
      "execution_count": 13,
      "metadata": {
        "colab": {
          "base_uri": "https://localhost:8080/"
        },
        "id": "tJ1qxoq-8Kob",
        "outputId": "73dff2cb-2a65-4787-c961-bb4f681d022f"
      },
      "outputs": [
        {
          "output_type": "stream",
          "name": "stdout",
          "text": [
            "4 [['[', 'Sense', 'and', 'Sensibility', 'by', 'Jane', 'Austen', '1811', ']'], ['CHAPTER', '1'], ['But', ',', 'then', ',', 'if', 'Mrs', '.', 'Dashwood', 'should', 'live', 'fifteen', 'years', 'we', 'shall', 'be', 'completely', 'taken', 'in', '.\"'], ['\"', 'Fifteen', 'years', '!']]\n",
            "\n",
            "2 [['sense', 'sensibility', 'jane', 'austen'], ['but', 'mrs', 'dashwood', 'live', 'fifteen', 'years', 'shall', 'completely', 'taken']]\n"
          ]
        }
      ],
      "source": [
        "sample = austen[:2] + austen[100:102]\n",
        "preprocessed_sample = preprocess_corpus(sample)\n",
        "\n",
        "\n",
        "print(len(sample), sample)\n",
        "print()\n",
        "print(len(preprocessed_sample), preprocessed_sample)"
      ]
    },
    {
      "cell_type": "markdown",
      "metadata": {
        "id": "rghchHA66d-V"
      },
      "source": [
        "### **3. Creating the Corpus Vocabulary and Preparing the Data**\n",
        "\n",
        "\n",
        "To prepare the data for machine learning, you will write code to prepare 3 variables:\n",
        "\n",
        "1. \\<word2idx>: a lookup table, a dictionary of (word index: word) pairs where **word index** is a unique integer assigned to every **unique word** in the corpus.\n",
        "2. \\<idx2word>: a dictionary of (token: token index), a reversal of \\<word2idx>. \n",
        "3. \\<sents_as_ids>: The input to the model cannot be text, rather, each word needs to be represented by a unique integer and each sentence an array of integers.\n",
        "\n",
        "\n",
        "The incomplete code provided below is just a guide. "
      ]
    },
    {
      "cell_type": "code",
      "execution_count": 14,
      "metadata": {
        "id": "gmqUdSuU8PyK"
      },
      "outputs": [],
      "source": [
        "word2idx =dict()\n",
        "idx2word = dict()\n",
        "\n",
        "\n",
        "def prepareData(normalized_corpus):\n",
        "    '''\n",
        "    '''\n",
        "    for sentence in normalized_corpus: \n",
        "        for token in sentence: \n",
        "            if token not in word2idx.keys():\n",
        "                word2idx[token]=len(word2idx)\n",
        "                \n",
        "    return word2idx\n",
        "\n",
        "word2idx=prepareData(normalized_corpus)\n",
        "idx2word ={val: key for key, val in word2idx.items()}\n",
        "\n",
        "def prepareSentsAsId(normalized_corpus):\n",
        "    '''\n",
        "    '''\n",
        "    sents_as_ids=[]\n",
        "    for sentence in normalized_corpus:\n",
        "        sent=[]\n",
        "        for token in sentence: \n",
        "            sent.append(word2idx[token])\n",
        "        sents_as_ids.append(sent)\n",
        "    return sents_as_ids\n",
        "\n",
        "sents_as_ids=prepareSentsAsId(normalized_corpus) "
      ]
    },
    {
      "cell_type": "markdown",
      "metadata": {
        "id": "DCa7VGc59bCD"
      },
      "source": [
        "**Sanity Check**\n",
        "\n",
        "Copy and run the following lines of code:\n",
        "\n",
        "```\n",
        "print('Number of unique words:', len(word2idx)**\n",
        "```\n",
        "Returns a number between 9800 and 1200, the exact number depends on your preprocessing step. \n",
        "\n",
        "```\n",
        "print('\\nSample word2idx: ', list(word2idx.items())[:10])\n",
        "```\n",
        "\n",
        "Sample word2idx:  [('sense', 0), ('sensibility', 1), ('jane', 2), ('austen', 3), ('the', 4), ('family', 5), ('dashwood', 6), ('long', 7), ('settled', 8), ('sussex', 9)]\n",
        "\n",
        "\n",
        "```\n",
        "print('\\nSample idx2word:', list(idx2word.items())[:10])**\n",
        "```\n",
        "\n",
        "Sample idx2word: [(1, 'could'), (2, 'would'), (3, 'mr'), (4, 'mrs'), (5, 'must'), (6, 'said'), (7, 'one'), (8, 'much'), (9, 'miss'), (10, 'every')]\n",
        "\n",
        "```\n",
        "print('\\nSample sents_as_id:', prepareSentsAsId(preprocessed_sample))\n",
        "```\n",
        "\n",
        "Sample sents_as_id: [[0, 1, 2, 3], [41, 72, 6, 201, 619, 35, 620, 296, 621]]\n",
        "\n"
      ]
    },
    {
      "cell_type": "markdown",
      "metadata": {
        "id": "Uqw71xzzeYSm"
      },
      "source": [
        "After you have created the three variables, set the <vocab_size> and <embed_size> variables with the following commands:"
      ]
    },
    {
      "cell_type": "code",
      "execution_count": 15,
      "metadata": {
        "id": "WGsp5Lij8qUd"
      },
      "outputs": [],
      "source": [
        "VOCAB_SIZE = len(word2idx) \n",
        "EMBED_SIZE = 100 # We are creating 100D embeddings."
      ]
    },
    {
      "cell_type": "code",
      "execution_count": 16,
      "metadata": {
        "colab": {
          "base_uri": "https://localhost:8080/"
        },
        "id": "u_yjd5kgqiZi",
        "outputId": "a6eacb6d-0531-4306-a3af-13bca992f158"
      },
      "outputs": [
        {
          "output_type": "stream",
          "name": "stdout",
          "text": [
            "Number of unique words: 10180\n"
          ]
        }
      ],
      "source": [
        "print('Number of unique words:', len(word2idx))"
      ]
    },
    {
      "cell_type": "code",
      "execution_count": 17,
      "metadata": {
        "colab": {
          "base_uri": "https://localhost:8080/"
        },
        "id": "VrYf0v5ZVI8C",
        "outputId": "6e6e36e0-8704-4086-e2e1-61c47a3d8eda"
      },
      "outputs": [
        {
          "output_type": "stream",
          "name": "stdout",
          "text": [
            "\n",
            "Sample word2idx:  [('sense', 0), ('sensibility', 1), ('jane', 2), ('austen', 3), ('the', 4), ('family', 5), ('dashwood', 6), ('long', 7), ('settled', 8), ('sussex', 9)]\n"
          ]
        }
      ],
      "source": [
        "print('\\nSample word2idx: ', list(word2idx.items())[:10])"
      ]
    },
    {
      "cell_type": "code",
      "execution_count": 18,
      "metadata": {
        "colab": {
          "base_uri": "https://localhost:8080/"
        },
        "id": "sgNE1TYEVNac",
        "outputId": "48562916-4dd5-4851-bd98-829c0fcbd5b8"
      },
      "outputs": [
        {
          "output_type": "stream",
          "name": "stdout",
          "text": [
            "\n",
            "Sample idx2word: [(0, 'sense'), (1, 'sensibility'), (2, 'jane'), (3, 'austen'), (4, 'the'), (5, 'family'), (6, 'dashwood'), (7, 'long'), (8, 'settled'), (9, 'sussex')]\n"
          ]
        }
      ],
      "source": [
        "print('\\nSample idx2word:', list(idx2word.items())[:10])"
      ]
    },
    {
      "cell_type": "code",
      "execution_count": 19,
      "metadata": {
        "colab": {
          "base_uri": "https://localhost:8080/"
        },
        "id": "uuSnfvQAVhby",
        "outputId": "284158a0-7f19-4cee-d3e4-8e5ae8504177"
      },
      "outputs": [
        {
          "output_type": "stream",
          "name": "stdout",
          "text": [
            "\n",
            "Sample sents_as_id: [[0, 1, 2, 3], [41, 72, 6, 201, 619, 35, 620, 296, 621]]\n"
          ]
        }
      ],
      "source": [
        "print('\\nSample sents_as_id:', prepareSentsAsId(preprocessed_sample))"
      ]
    },
    {
      "cell_type": "markdown",
      "metadata": {
        "id": "WXhJNdf9TIed"
      },
      "source": [
        "### **4. Generating training instances**\n",
        "\n",
        "\n",
        "In this section we would generate the training examples of the format shown in introduction using the keras skip-gram generator https://keras.io/preprocessing/sequence/ "
      ]
    },
    {
      "cell_type": "code",
      "execution_count": 20,
      "metadata": {
        "id": "e3g0FLzb7ivg"
      },
      "outputs": [],
      "source": [
        "from keras.preprocessing.sequence import skipgrams\n",
        "\n",
        "skip_grams = [skipgrams(sequence, VOCAB_SIZE) for sequence in sents_as_ids] "
      ]
    },
    {
      "cell_type": "markdown",
      "metadata": {
        "id": "EDyy65QlTyf2"
      },
      "source": [
        "**Sanity Check:**\n",
        "\n",
        "To view the skip_grams for the first sentence in the training data, run the line of code that follows. The output should look like:\n",
        "\n",
        "(austen (3), sensibility (1)) -> 1\n",
        "\n",
        "(austen (3), jane (2)) -> 1\n",
        "\n",
        "(jane (2), sensibility (1)) -> 1\n",
        "\n",
        "(jane (2), walked (2639)) -> 0\n",
        "\n",
        "(jane (2), partridge (7948)) -> 0\n",
        "\n",
        "(sensibility (1), austen (3)) -> 1\n",
        "\n",
        "(sensibility (1), beneficial (5587)) -> 0\n",
        "\n",
        "(sensibility (1), jane (2)) -> 1\n",
        "\n",
        "(sensibility (1), dreamt (8308)) -> 0\n",
        "\n",
        "(austen (3), perception (6543)) -> 0\n",
        "\n",
        "(jane (2), austen (3)) -> 1\n",
        "\n",
        "(austen (3), imposing (8622)) -> 0\n"
      ]
    },
    {
      "cell_type": "code",
      "execution_count": 21,
      "metadata": {
        "colab": {
          "base_uri": "https://localhost:8080/"
        },
        "id": "Qa072PMvTvde",
        "outputId": "ebdca291-eb6b-4aec-f484-711aebcde963"
      },
      "outputs": [
        {
          "output_type": "stream",
          "name": "stdout",
          "text": [
            "(sensibility (1), parentage (6697)) -> 0\n",
            "(austen (3), sensibility (1)) -> 1\n",
            "(jane (2), sensibility (1)) -> 1\n",
            "(sensibility (1), jane (2)) -> 1\n",
            "(austen (3), jane (2)) -> 1\n",
            "(jane (2), austen (3)) -> 1\n",
            "(austen (3), walks (1952)) -> 0\n",
            "(austen (3), worth (623)) -> 0\n",
            "(jane (2), order (1772)) -> 0\n",
            "(sensibility (1), significant (3270)) -> 0\n",
            "(sensibility (1), austen (3)) -> 1\n",
            "(jane (2), musgrove (8923)) -> 0\n"
          ]
        }
      ],
      "source": [
        "pairs, labels = skip_grams[0][0], skip_grams[0][1]\n",
        "\n",
        "\n",
        "for i in range(len(pairs)):\n",
        "         \tprint('({:s} ({:d}), {:s} ({:d})) -> {:d}'.format(\n",
        "        \t# the first word and its index\n",
        "        \tidx2word[pairs[i][0]], pairs[i][0],\n",
        "        \t# the second word and its index\n",
        "        \tidx2word[pairs[i][1]], pairs[i][1],\n",
        "        \t# the label\n",
        "        \tlabels[i]))\n"
      ]
    },
    {
      "cell_type": "markdown",
      "metadata": {
        "id": "uMQJAolZWVLx"
      },
      "source": [
        "### **5. Building the Skip-gram Neural Network Architecture**\n",
        "\n",
        "In this section we would be building the skip-gram neural network architecture using the Keras Functional API and the Sequential model introduced in the previous lab. https://keras.io/getting-started/functional-api-guide/ "
      ]
    },
    {
      "cell_type": "code",
      "execution_count": 22,
      "metadata": {
        "id": "fi0JmuY-Tlsp"
      },
      "outputs": [],
      "source": [
        "from keras.layers import Dot, Input, Activation\n",
        "from keras.layers.core import Dense, Reshape\n",
        "from keras.layers.embeddings import Embedding\n",
        "from keras.models import Model\n",
        "from keras.utils.vis_utils import plot_model\n"
      ]
    },
    {
      "cell_type": "markdown",
      "metadata": {
        "id": "22d8UIg-cBOc"
      },
      "source": [
        "The skip-gram model is two input one output feedforward neural network with one hidden layer and this will be built over a series of steps.\n",
        "\n",
        "####**A. The first step is to initialize and transform the first input using the following lines of code:**"
      ]
    },
    {
      "cell_type": "code",
      "execution_count": 23,
      "metadata": {
        "id": "ggqykF7WUyGP"
      },
      "outputs": [],
      "source": [
        "# The input is an array of target indices e.g. [2, 45, 7, 23,...9]\n",
        "target_word = Input((1,), dtype='int32')\n",
        "\n",
        "\n",
        "# feed the words into the model using the Keras <Embedding> layer. This is the hidden layer \n",
        "# from whose weights we will get the word embeddings.\n",
        "target_embedding = Embedding(VOCAB_SIZE, EMBED_SIZE, name='target_embed_layer',\n",
        "                        \tembeddings_initializer='glorot_uniform',\n",
        "                         \tinput_length=1)(target_word)\n",
        "\n",
        "# at this point, the input would of the shape (num_inputs x 1 x embed_size) and has to be flattened \n",
        "# or reshaped into a (num_inputs x embed_size) tensor.\n",
        "target_input = Reshape((EMBED_SIZE, ))(target_embedding)\n"
      ]
    },
    {
      "cell_type": "markdown",
      "metadata": {
        "id": "GXn_SVjHckwL"
      },
      "source": [
        "####**B. Write similar code for the ‘context_word’ input.**"
      ]
    },
    {
      "cell_type": "code",
      "execution_count": 24,
      "metadata": {
        "id": "vkCyRztYcMsp"
      },
      "outputs": [],
      "source": [
        "# your code for the context_word goes here\n",
        "# your code for the context_word goes here\n",
        "context_word = Input((1,), dtype='int32')\n",
        "\n",
        "context_embedding = Embedding(VOCAB_SIZE, EMBED_SIZE, name='context_embed_layer',\n",
        "                        \tembeddings_initializer='glorot_uniform',\n",
        "                         \tinput_length=1)(context_word)\n",
        "\n",
        "context_input = Reshape((EMBED_SIZE, ))(context_embedding)"
      ]
    },
    {
      "cell_type": "markdown",
      "metadata": {
        "id": "btNWVWRqdBJV"
      },
      "source": [
        "####**C. Merge the inputs.**\n",
        "\n",
        "Recall, each training instance is a (target_word, context_word) combination. Since we are trying to learn the degree of closeness between the two words, the model will compute the cosine distance between the two inputs using the <Dot> layer. https://keras.io/layers/merge/, hence fusing the two inputs into one.\n"
      ]
    },
    {
      "cell_type": "code",
      "execution_count": 25,
      "metadata": {
        "id": "WL0_IgA0cYBx"
      },
      "outputs": [],
      "source": [
        "merged_inputs = Dot(axes=-1, normalize=False)([target_input, context_input])"
      ]
    },
    {
      "cell_type": "markdown",
      "metadata": {
        "id": "vQEsxQ6We1Ob"
      },
      "source": [
        "####**D. The Output Layer**\n",
        "\n",
        "Pass the merged inputs (now a vector with a single number the cosine distance between the two input vectors for each word) into a sigmoid activated neuron. The output of this layer is the output of the model.\n",
        "\n",
        "**Hint**: Use the <Dense> layer ( https://keras.io/layers/core/ ), with a ‘sigmoid’ activation function."
      ]
    },
    {
      "cell_type": "code",
      "execution_count": 26,
      "metadata": {
        "id": "uAUxsadqcj6Q"
      },
      "outputs": [],
      "source": [
        "# your code for the output layer goes here\n",
        "lb = Dense(1, activation='sigmoid')(merged_inputs)"
      ]
    },
    {
      "cell_type": "markdown",
      "metadata": {
        "id": "yQk1Yj8wfXrF"
      },
      "source": [
        "####**E. Initialize the model:**"
      ]
    },
    {
      "cell_type": "code",
      "execution_count": 27,
      "metadata": {
        "id": "YHRICxY7cdBB"
      },
      "outputs": [],
      "source": [
        "# label is the output of step D.\n",
        "model = Model(inputs=[target_word, context_word], outputs=[lb])  "
      ]
    },
    {
      "cell_type": "markdown",
      "metadata": {
        "id": "DdbRI0TGVZIt"
      },
      "source": [
        "####**F. Compile the model using the <model.compile> command.** Use Loss = ‘mean_squared_error’, optimizer = ‘rmsprop’."
      ]
    },
    {
      "cell_type": "code",
      "execution_count": 28,
      "metadata": {
        "id": "5LtWvavefueu"
      },
      "outputs": [],
      "source": [
        "# your code here\n",
        "model.compile(optimizer='rmsprop', loss='mean_squared_error')"
      ]
    },
    {
      "cell_type": "code",
      "execution_count": 29,
      "metadata": {
        "colab": {
          "base_uri": "https://localhost:8080/"
        },
        "id": "YAoXQ0mUhGZD",
        "outputId": "9fcad948-1300-4cdf-f916-2a23843c3eb5"
      },
      "outputs": [
        {
          "output_type": "stream",
          "name": "stdout",
          "text": [
            "Model: \"model\"\n",
            "__________________________________________________________________________________________________\n",
            " Layer (type)                   Output Shape         Param #     Connected to                     \n",
            "==================================================================================================\n",
            " input_1 (InputLayer)           [(None, 1)]          0           []                               \n",
            "                                                                                                  \n",
            " input_2 (InputLayer)           [(None, 1)]          0           []                               \n",
            "                                                                                                  \n",
            " target_embed_layer (Embedding)  (None, 1, 100)      1018000     ['input_1[0][0]']                \n",
            "                                                                                                  \n",
            " context_embed_layer (Embedding  (None, 1, 100)      1018000     ['input_2[0][0]']                \n",
            " )                                                                                                \n",
            "                                                                                                  \n",
            " reshape (Reshape)              (None, 100)          0           ['target_embed_layer[0][0]']     \n",
            "                                                                                                  \n",
            " reshape_1 (Reshape)            (None, 100)          0           ['context_embed_layer[0][0]']    \n",
            "                                                                                                  \n",
            " dot (Dot)                      (None, 1)            0           ['reshape[0][0]',                \n",
            "                                                                  'reshape_1[0][0]']              \n",
            "                                                                                                  \n",
            " dense (Dense)                  (None, 1)            2           ['dot[0][0]']                    \n",
            "                                                                                                  \n",
            "==================================================================================================\n",
            "Total params: 2,036,002\n",
            "Trainable params: 2,036,002\n",
            "Non-trainable params: 0\n",
            "__________________________________________________________________________________________________\n"
          ]
        }
      ],
      "source": [
        "model.summary()"
      ]
    },
    {
      "cell_type": "markdown",
      "metadata": {
        "id": "GC7IShG_fczC"
      },
      "source": [
        "**Sanity check:**\n",
        "\n",
        "Visualize the model and the model summary by running the following lines of code. \n",
        "view the model summary"
      ]
    },
    {
      "cell_type": "code",
      "execution_count": 30,
      "metadata": {
        "colab": {
          "base_uri": "https://localhost:8080/"
        },
        "id": "e0ki6JDkgJNA",
        "outputId": "3680175e-35dd-4458-9594-e8e626bca1c5"
      },
      "outputs": [
        {
          "output_type": "stream",
          "name": "stdout",
          "text": [
            "Model: \"model\"\n",
            "__________________________________________________________________________________________________\n",
            " Layer (type)                   Output Shape         Param #     Connected to                     \n",
            "==================================================================================================\n",
            " input_1 (InputLayer)           [(None, 1)]          0           []                               \n",
            "                                                                                                  \n",
            " input_2 (InputLayer)           [(None, 1)]          0           []                               \n",
            "                                                                                                  \n",
            " target_embed_layer (Embedding)  (None, 1, 100)      1018000     ['input_1[0][0]']                \n",
            "                                                                                                  \n",
            " context_embed_layer (Embedding  (None, 1, 100)      1018000     ['input_2[0][0]']                \n",
            " )                                                                                                \n",
            "                                                                                                  \n",
            " reshape (Reshape)              (None, 100)          0           ['target_embed_layer[0][0]']     \n",
            "                                                                                                  \n",
            " reshape_1 (Reshape)            (None, 100)          0           ['context_embed_layer[0][0]']    \n",
            "                                                                                                  \n",
            " dot (Dot)                      (None, 1)            0           ['reshape[0][0]',                \n",
            "                                                                  'reshape_1[0][0]']              \n",
            "                                                                                                  \n",
            " dense (Dense)                  (None, 1)            2           ['dot[0][0]']                    \n",
            "                                                                                                  \n",
            "==================================================================================================\n",
            "Total params: 2,036,002\n",
            "Trainable params: 2,036,002\n",
            "Non-trainable params: 0\n",
            "__________________________________________________________________________________________________\n"
          ]
        }
      ],
      "source": [
        "model.summary()"
      ]
    },
    {
      "cell_type": "markdown",
      "metadata": {
        "id": "3VVPnyFhgVr9"
      },
      "source": [
        "####**G. Plot the model using ```vis utils```.**"
      ]
    },
    {
      "cell_type": "code",
      "execution_count": 31,
      "metadata": {
        "colab": {
          "base_uri": "https://localhost:8080/",
          "height": 450
        },
        "id": "vvfO-ensggr4",
        "outputId": "4e0369ce-830e-4786-ecbd-6a579c156644"
      },
      "outputs": [
        {
          "output_type": "execute_result",
          "data": {
            "text/plain": [
              "<IPython.core.display.SVG object>"
            ],
            "image/svg+xml": "<svg height=\"322pt\" viewBox=\"0.00 0.00 758.50 387.00\" width=\"632pt\" xmlns=\"http://www.w3.org/2000/svg\" xmlns:xlink=\"http://www.w3.org/1999/xlink\">\n<g class=\"graph\" id=\"graph0\" transform=\"scale(.8333 .8333) rotate(0) translate(4 383)\">\n<title>G</title>\n<polygon fill=\"#ffffff\" points=\"-4,4 -4,-383 754.5,-383 754.5,4 -4,4\" stroke=\"transparent\"/>\n<!-- 140653110629584 -->\n<g class=\"node\" id=\"node1\">\n<title>140653110629584</title>\n<polygon fill=\"none\" points=\"30.5,-332.5 30.5,-378.5 330.5,-378.5 330.5,-332.5 30.5,-332.5\" stroke=\"#000000\"/>\n<text fill=\"#000000\" font-family=\"Times,serif\" font-size=\"14.00\" text-anchor=\"middle\" x=\"70.5\" y=\"-363.3\">input_1</text>\n<polyline fill=\"none\" points=\"30.5,-355.5 110.5,-355.5 \" stroke=\"#000000\"/>\n<text fill=\"#000000\" font-family=\"Times,serif\" font-size=\"14.00\" text-anchor=\"middle\" x=\"70.5\" y=\"-340.3\">InputLayer</text>\n<polyline fill=\"none\" points=\"110.5,-332.5 110.5,-378.5 \" stroke=\"#000000\"/>\n<text fill=\"#000000\" font-family=\"Times,serif\" font-size=\"14.00\" text-anchor=\"middle\" x=\"139.5\" y=\"-363.3\">input:</text>\n<polyline fill=\"none\" points=\"110.5,-355.5 168.5,-355.5 \" stroke=\"#000000\"/>\n<text fill=\"#000000\" font-family=\"Times,serif\" font-size=\"14.00\" text-anchor=\"middle\" x=\"139.5\" y=\"-340.3\">output:</text>\n<polyline fill=\"none\" points=\"168.5,-332.5 168.5,-378.5 \" stroke=\"#000000\"/>\n<text fill=\"#000000\" font-family=\"Times,serif\" font-size=\"14.00\" text-anchor=\"middle\" x=\"209\" y=\"-351.8\">[(None, 1)]</text>\n<polyline fill=\"none\" points=\"249.5,-332.5 249.5,-378.5 \" stroke=\"#000000\"/>\n<text fill=\"#000000\" font-family=\"Times,serif\" font-size=\"14.00\" text-anchor=\"middle\" x=\"290\" y=\"-351.8\">[(None, 1)]</text>\n</g>\n<!-- 140653110629776 -->\n<g class=\"node\" id=\"node3\">\n<title>140653110629776</title>\n<polygon fill=\"none\" points=\"0,-249.5 0,-295.5 361,-295.5 361,-249.5 0,-249.5\" stroke=\"#000000\"/>\n<text fill=\"#000000\" font-family=\"Times,serif\" font-size=\"14.00\" text-anchor=\"middle\" x=\"64.5\" y=\"-280.3\">target_embed_layer</text>\n<polyline fill=\"none\" points=\"0,-272.5 129,-272.5 \" stroke=\"#000000\"/>\n<text fill=\"#000000\" font-family=\"Times,serif\" font-size=\"14.00\" text-anchor=\"middle\" x=\"64.5\" y=\"-257.3\">Embedding</text>\n<polyline fill=\"none\" points=\"129,-249.5 129,-295.5 \" stroke=\"#000000\"/>\n<text fill=\"#000000\" font-family=\"Times,serif\" font-size=\"14.00\" text-anchor=\"middle\" x=\"158\" y=\"-280.3\">input:</text>\n<polyline fill=\"none\" points=\"129,-272.5 187,-272.5 \" stroke=\"#000000\"/>\n<text fill=\"#000000\" font-family=\"Times,serif\" font-size=\"14.00\" text-anchor=\"middle\" x=\"158\" y=\"-257.3\">output:</text>\n<polyline fill=\"none\" points=\"187,-249.5 187,-295.5 \" stroke=\"#000000\"/>\n<text fill=\"#000000\" font-family=\"Times,serif\" font-size=\"14.00\" text-anchor=\"middle\" x=\"223\" y=\"-268.8\">(None, 1)</text>\n<polyline fill=\"none\" points=\"259,-249.5 259,-295.5 \" stroke=\"#000000\"/>\n<text fill=\"#000000\" font-family=\"Times,serif\" font-size=\"14.00\" text-anchor=\"middle\" x=\"310\" y=\"-268.8\">(None, 1, 100)</text>\n</g>\n<!-- 140653110629584&#45;&gt;140653110629776 -->\n<g class=\"edge\" id=\"edge1\">\n<title>140653110629584-&gt;140653110629776</title>\n<path d=\"M180.5,-332.3799C180.5,-324.1745 180.5,-314.7679 180.5,-305.8786\" fill=\"none\" stroke=\"#000000\"/>\n<polygon fill=\"#000000\" points=\"184.0001,-305.784 180.5,-295.784 177.0001,-305.784 184.0001,-305.784\" stroke=\"#000000\"/>\n</g>\n<!-- 140653042106640 -->\n<g class=\"node\" id=\"node2\">\n<title>140653042106640</title>\n<polygon fill=\"none\" points=\"414.5,-332.5 414.5,-378.5 714.5,-378.5 714.5,-332.5 414.5,-332.5\" stroke=\"#000000\"/>\n<text fill=\"#000000\" font-family=\"Times,serif\" font-size=\"14.00\" text-anchor=\"middle\" x=\"454.5\" y=\"-363.3\">input_2</text>\n<polyline fill=\"none\" points=\"414.5,-355.5 494.5,-355.5 \" stroke=\"#000000\"/>\n<text fill=\"#000000\" font-family=\"Times,serif\" font-size=\"14.00\" text-anchor=\"middle\" x=\"454.5\" y=\"-340.3\">InputLayer</text>\n<polyline fill=\"none\" points=\"494.5,-332.5 494.5,-378.5 \" stroke=\"#000000\"/>\n<text fill=\"#000000\" font-family=\"Times,serif\" font-size=\"14.00\" text-anchor=\"middle\" x=\"523.5\" y=\"-363.3\">input:</text>\n<polyline fill=\"none\" points=\"494.5,-355.5 552.5,-355.5 \" stroke=\"#000000\"/>\n<text fill=\"#000000\" font-family=\"Times,serif\" font-size=\"14.00\" text-anchor=\"middle\" x=\"523.5\" y=\"-340.3\">output:</text>\n<polyline fill=\"none\" points=\"552.5,-332.5 552.5,-378.5 \" stroke=\"#000000\"/>\n<text fill=\"#000000\" font-family=\"Times,serif\" font-size=\"14.00\" text-anchor=\"middle\" x=\"593\" y=\"-351.8\">[(None, 1)]</text>\n<polyline fill=\"none\" points=\"633.5,-332.5 633.5,-378.5 \" stroke=\"#000000\"/>\n<text fill=\"#000000\" font-family=\"Times,serif\" font-size=\"14.00\" text-anchor=\"middle\" x=\"674\" y=\"-351.8\">[(None, 1)]</text>\n</g>\n<!-- 140653042106832 -->\n<g class=\"node\" id=\"node4\">\n<title>140653042106832</title>\n<polygon fill=\"none\" points=\"378.5,-249.5 378.5,-295.5 750.5,-295.5 750.5,-249.5 378.5,-249.5\" stroke=\"#000000\"/>\n<text fill=\"#000000\" font-family=\"Times,serif\" font-size=\"14.00\" text-anchor=\"middle\" x=\"448.5\" y=\"-280.3\">context_embed_layer</text>\n<polyline fill=\"none\" points=\"378.5,-272.5 518.5,-272.5 \" stroke=\"#000000\"/>\n<text fill=\"#000000\" font-family=\"Times,serif\" font-size=\"14.00\" text-anchor=\"middle\" x=\"448.5\" y=\"-257.3\">Embedding</text>\n<polyline fill=\"none\" points=\"518.5,-249.5 518.5,-295.5 \" stroke=\"#000000\"/>\n<text fill=\"#000000\" font-family=\"Times,serif\" font-size=\"14.00\" text-anchor=\"middle\" x=\"547.5\" y=\"-280.3\">input:</text>\n<polyline fill=\"none\" points=\"518.5,-272.5 576.5,-272.5 \" stroke=\"#000000\"/>\n<text fill=\"#000000\" font-family=\"Times,serif\" font-size=\"14.00\" text-anchor=\"middle\" x=\"547.5\" y=\"-257.3\">output:</text>\n<polyline fill=\"none\" points=\"576.5,-249.5 576.5,-295.5 \" stroke=\"#000000\"/>\n<text fill=\"#000000\" font-family=\"Times,serif\" font-size=\"14.00\" text-anchor=\"middle\" x=\"612.5\" y=\"-268.8\">(None, 1)</text>\n<polyline fill=\"none\" points=\"648.5,-249.5 648.5,-295.5 \" stroke=\"#000000\"/>\n<text fill=\"#000000\" font-family=\"Times,serif\" font-size=\"14.00\" text-anchor=\"middle\" x=\"699.5\" y=\"-268.8\">(None, 1, 100)</text>\n</g>\n<!-- 140653042106640&#45;&gt;140653042106832 -->\n<g class=\"edge\" id=\"edge2\">\n<title>140653042106640-&gt;140653042106832</title>\n<path d=\"M564.5,-332.3799C564.5,-324.1745 564.5,-314.7679 564.5,-305.8786\" fill=\"none\" stroke=\"#000000\"/>\n<polygon fill=\"#000000\" points=\"568.0001,-305.784 564.5,-295.784 561.0001,-305.784 568.0001,-305.784\" stroke=\"#000000\"/>\n</g>\n<!-- 140653380233808 -->\n<g class=\"node\" id=\"node5\">\n<title>140653380233808</title>\n<polygon fill=\"none\" points=\"48.5,-166.5 48.5,-212.5 360.5,-212.5 360.5,-166.5 48.5,-166.5\" stroke=\"#000000\"/>\n<text fill=\"#000000\" font-family=\"Times,serif\" font-size=\"14.00\" text-anchor=\"middle\" x=\"81\" y=\"-197.3\">reshape</text>\n<polyline fill=\"none\" points=\"48.5,-189.5 113.5,-189.5 \" stroke=\"#000000\"/>\n<text fill=\"#000000\" font-family=\"Times,serif\" font-size=\"14.00\" text-anchor=\"middle\" x=\"81\" y=\"-174.3\">Reshape</text>\n<polyline fill=\"none\" points=\"113.5,-166.5 113.5,-212.5 \" stroke=\"#000000\"/>\n<text fill=\"#000000\" font-family=\"Times,serif\" font-size=\"14.00\" text-anchor=\"middle\" x=\"142.5\" y=\"-197.3\">input:</text>\n<polyline fill=\"none\" points=\"113.5,-189.5 171.5,-189.5 \" stroke=\"#000000\"/>\n<text fill=\"#000000\" font-family=\"Times,serif\" font-size=\"14.00\" text-anchor=\"middle\" x=\"142.5\" y=\"-174.3\">output:</text>\n<polyline fill=\"none\" points=\"171.5,-166.5 171.5,-212.5 \" stroke=\"#000000\"/>\n<text fill=\"#000000\" font-family=\"Times,serif\" font-size=\"14.00\" text-anchor=\"middle\" x=\"222.5\" y=\"-185.8\">(None, 1, 100)</text>\n<polyline fill=\"none\" points=\"273.5,-166.5 273.5,-212.5 \" stroke=\"#000000\"/>\n<text fill=\"#000000\" font-family=\"Times,serif\" font-size=\"14.00\" text-anchor=\"middle\" x=\"317\" y=\"-185.8\">(None, 100)</text>\n</g>\n<!-- 140653110629776&#45;&gt;140653380233808 -->\n<g class=\"edge\" id=\"edge3\">\n<title>140653110629776-&gt;140653380233808</title>\n<path d=\"M187.1853,-249.3799C189.5838,-241.0854 192.3371,-231.5633 194.9321,-222.5889\" fill=\"none\" stroke=\"#000000\"/>\n<polygon fill=\"#000000\" points=\"198.3517,-223.3627 197.7673,-212.784 191.6272,-221.4182 198.3517,-223.3627\" stroke=\"#000000\"/>\n</g>\n<!-- 140653042107920 -->\n<g class=\"node\" id=\"node6\">\n<title>140653042107920</title>\n<polygon fill=\"none\" points=\"391,-166.5 391,-212.5 712,-212.5 712,-166.5 391,-166.5\" stroke=\"#000000\"/>\n<text fill=\"#000000\" font-family=\"Times,serif\" font-size=\"14.00\" text-anchor=\"middle\" x=\"428\" y=\"-197.3\">reshape_1</text>\n<polyline fill=\"none\" points=\"391,-189.5 465,-189.5 \" stroke=\"#000000\"/>\n<text fill=\"#000000\" font-family=\"Times,serif\" font-size=\"14.00\" text-anchor=\"middle\" x=\"428\" y=\"-174.3\">Reshape</text>\n<polyline fill=\"none\" points=\"465,-166.5 465,-212.5 \" stroke=\"#000000\"/>\n<text fill=\"#000000\" font-family=\"Times,serif\" font-size=\"14.00\" text-anchor=\"middle\" x=\"494\" y=\"-197.3\">input:</text>\n<polyline fill=\"none\" points=\"465,-189.5 523,-189.5 \" stroke=\"#000000\"/>\n<text fill=\"#000000\" font-family=\"Times,serif\" font-size=\"14.00\" text-anchor=\"middle\" x=\"494\" y=\"-174.3\">output:</text>\n<polyline fill=\"none\" points=\"523,-166.5 523,-212.5 \" stroke=\"#000000\"/>\n<text fill=\"#000000\" font-family=\"Times,serif\" font-size=\"14.00\" text-anchor=\"middle\" x=\"574\" y=\"-185.8\">(None, 1, 100)</text>\n<polyline fill=\"none\" points=\"625,-166.5 625,-212.5 \" stroke=\"#000000\"/>\n<text fill=\"#000000\" font-family=\"Times,serif\" font-size=\"14.00\" text-anchor=\"middle\" x=\"668.5\" y=\"-185.8\">(None, 100)</text>\n</g>\n<!-- 140653042106832&#45;&gt;140653042107920 -->\n<g class=\"edge\" id=\"edge4\">\n<title>140653042106832-&gt;140653042107920</title>\n<path d=\"M560.8788,-249.3799C559.5936,-241.1745 558.1203,-231.7679 556.728,-222.8786\" fill=\"none\" stroke=\"#000000\"/>\n<polygon fill=\"#000000\" points=\"560.1522,-222.1219 555.1469,-212.784 553.2365,-223.2052 560.1522,-222.1219\" stroke=\"#000000\"/>\n</g>\n<!-- 140653110606224 -->\n<g class=\"node\" id=\"node7\">\n<title>140653110606224</title>\n<polygon fill=\"none\" points=\"200.5,-83.5 200.5,-129.5 542.5,-129.5 542.5,-83.5 200.5,-83.5\" stroke=\"#000000\"/>\n<text fill=\"#000000\" font-family=\"Times,serif\" font-size=\"14.00\" text-anchor=\"middle\" x=\"219.5\" y=\"-114.3\">dot</text>\n<polyline fill=\"none\" points=\"200.5,-106.5 238.5,-106.5 \" stroke=\"#000000\"/>\n<text fill=\"#000000\" font-family=\"Times,serif\" font-size=\"14.00\" text-anchor=\"middle\" x=\"219.5\" y=\"-91.3\">Dot</text>\n<polyline fill=\"none\" points=\"238.5,-83.5 238.5,-129.5 \" stroke=\"#000000\"/>\n<text fill=\"#000000\" font-family=\"Times,serif\" font-size=\"14.00\" text-anchor=\"middle\" x=\"267.5\" y=\"-114.3\">input:</text>\n<polyline fill=\"none\" points=\"238.5,-106.5 296.5,-106.5 \" stroke=\"#000000\"/>\n<text fill=\"#000000\" font-family=\"Times,serif\" font-size=\"14.00\" text-anchor=\"middle\" x=\"267.5\" y=\"-91.3\">output:</text>\n<polyline fill=\"none\" points=\"296.5,-83.5 296.5,-129.5 \" stroke=\"#000000\"/>\n<text fill=\"#000000\" font-family=\"Times,serif\" font-size=\"14.00\" text-anchor=\"middle\" x=\"383.5\" y=\"-102.8\">[(None, 100), (None, 100)]</text>\n<polyline fill=\"none\" points=\"470.5,-83.5 470.5,-129.5 \" stroke=\"#000000\"/>\n<text fill=\"#000000\" font-family=\"Times,serif\" font-size=\"14.00\" text-anchor=\"middle\" x=\"506.5\" y=\"-102.8\">(None, 1)</text>\n</g>\n<!-- 140653380233808&#45;&gt;140653110606224 -->\n<g class=\"edge\" id=\"edge5\">\n<title>140653380233808-&gt;140653110606224</title>\n<path d=\"M251.0188,-166.3799C271.1117,-156.3936 294.7848,-144.6279 315.8043,-134.1811\" fill=\"none\" stroke=\"#000000\"/>\n<polygon fill=\"#000000\" points=\"317.5441,-137.2249 324.9413,-129.6399 314.4286,-130.9564 317.5441,-137.2249\" stroke=\"#000000\"/>\n</g>\n<!-- 140653042107920&#45;&gt;140653110606224 -->\n<g class=\"edge\" id=\"edge6\">\n<title>140653042107920-&gt;140653110606224</title>\n<path d=\"M501.36,-166.3799C479.5087,-156.304 453.729,-144.4167 430.9224,-133.9003\" fill=\"none\" stroke=\"#000000\"/>\n<polygon fill=\"#000000\" points=\"432.2297,-130.649 421.683,-129.6399 429.2985,-137.0058 432.2297,-130.649\" stroke=\"#000000\"/>\n</g>\n<!-- 140653041673680 -->\n<g class=\"node\" id=\"node8\">\n<title>140653041673680</title>\n<polygon fill=\"none\" points=\"244.5,-.5 244.5,-46.5 498.5,-46.5 498.5,-.5 244.5,-.5\" stroke=\"#000000\"/>\n<text fill=\"#000000\" font-family=\"Times,serif\" font-size=\"14.00\" text-anchor=\"middle\" x=\"270.5\" y=\"-31.3\">dense</text>\n<polyline fill=\"none\" points=\"244.5,-23.5 296.5,-23.5 \" stroke=\"#000000\"/>\n<text fill=\"#000000\" font-family=\"Times,serif\" font-size=\"14.00\" text-anchor=\"middle\" x=\"270.5\" y=\"-8.3\">Dense</text>\n<polyline fill=\"none\" points=\"296.5,-.5 296.5,-46.5 \" stroke=\"#000000\"/>\n<text fill=\"#000000\" font-family=\"Times,serif\" font-size=\"14.00\" text-anchor=\"middle\" x=\"325.5\" y=\"-31.3\">input:</text>\n<polyline fill=\"none\" points=\"296.5,-23.5 354.5,-23.5 \" stroke=\"#000000\"/>\n<text fill=\"#000000\" font-family=\"Times,serif\" font-size=\"14.00\" text-anchor=\"middle\" x=\"325.5\" y=\"-8.3\">output:</text>\n<polyline fill=\"none\" points=\"354.5,-.5 354.5,-46.5 \" stroke=\"#000000\"/>\n<text fill=\"#000000\" font-family=\"Times,serif\" font-size=\"14.00\" text-anchor=\"middle\" x=\"390.5\" y=\"-19.8\">(None, 1)</text>\n<polyline fill=\"none\" points=\"426.5,-.5 426.5,-46.5 \" stroke=\"#000000\"/>\n<text fill=\"#000000\" font-family=\"Times,serif\" font-size=\"14.00\" text-anchor=\"middle\" x=\"462.5\" y=\"-19.8\">(None, 1)</text>\n</g>\n<!-- 140653110606224&#45;&gt;140653041673680 -->\n<g class=\"edge\" id=\"edge7\">\n<title>140653110606224-&gt;140653041673680</title>\n<path d=\"M371.5,-83.3799C371.5,-75.1745 371.5,-65.7679 371.5,-56.8786\" fill=\"none\" stroke=\"#000000\"/>\n<polygon fill=\"#000000\" points=\"375.0001,-56.784 371.5,-46.784 368.0001,-56.784 375.0001,-56.784\" stroke=\"#000000\"/>\n</g>\n</g>\n</svg>"
          },
          "metadata": {},
          "execution_count": 31
        }
      ],
      "source": [
        "from IPython.display import SVG\n",
        "from keras.utils import vis_utils\n",
        "SVG(vis_utils.model_to_dot(model, show_shapes=True, show_layer_names=True, dpi=60).create(prog='dot', format='svg'))  \n"
      ]
    },
    {
      "cell_type": "markdown",
      "metadata": {
        "id": "zbOcZD6igpxy"
      },
      "source": [
        "###**6.Training the Model**\n",
        "\n",
        "Run the following block of code to train the model for 5 epochs:"
      ]
    },
    {
      "cell_type": "code",
      "execution_count": 32,
      "metadata": {
        "colab": {
          "base_uri": "https://localhost:8080/"
        },
        "id": "RmQN4r52gmLR",
        "outputId": "5d2b5c64-04ac-44b9-c0b4-7fad97cae204"
      },
      "outputs": [
        {
          "output_type": "stream",
          "name": "stdout",
          "text": [
            "Processed 0 sentences\n",
            "Processed 5000 sentences\n",
            "Processed 10000 sentences\n",
            "Processed all 13650 sentences\n",
            "Epoch: 1 Loss: 2270.8955952203833 \n",
            "\n",
            "Processed 0 sentences\n",
            "Processed 5000 sentences\n",
            "Processed 10000 sentences\n",
            "Processed all 13650 sentences\n",
            "Epoch: 2 Loss: 1841.7342420779169 \n",
            "\n",
            "Processed 0 sentences\n",
            "Processed 5000 sentences\n",
            "Processed 10000 sentences\n",
            "Processed all 13650 sentences\n",
            "Epoch: 3 Loss: 1764.898014975246 \n",
            "\n",
            "Processed 0 sentences\n",
            "Processed 5000 sentences\n",
            "Processed 10000 sentences\n",
            "Processed all 13650 sentences\n",
            "Epoch: 4 Loss: 1722.9489823202603 \n",
            "\n",
            "Processed 0 sentences\n",
            "Processed 5000 sentences\n",
            "Processed 10000 sentences\n",
            "Processed all 13650 sentences\n",
            "Epoch: 5 Loss: 1697.188710235525 \n",
            "\n"
          ]
        }
      ],
      "source": [
        "import numpy as np\n",
        "\n",
        "NUM_EPOCHS = 5\n",
        "\n",
        "for epoch in range(1, NUM_EPOCHS+1):\n",
        "    epoch_loss = 0\n",
        "    for i, sent_examples in enumerate(skip_grams):\n",
        "        target_wds = np.array([pair[0] for pair in sent_examples[0]], dtype='int32')\n",
        "        context_wds = np.array([pair[1] for pair in sent_examples[0]], dtype='int32')\n",
        "        labels = np.array(sent_examples[1], dtype='int32')\n",
        "        X = [target_wds, context_wds]\n",
        "        Y = labels\n",
        "        if i % 5000 == 0: \n",
        "        \tprint('Processed %d sentences' %i)\n",
        "        epoch_loss += model.train_on_batch(X, Y)\n",
        "    print('Processed all %d sentences' %i)\n",
        "    print('Epoch:', epoch, 'Loss:', epoch_loss, '\\n')\n",
        "\n"
      ]
    },
    {
      "cell_type": "markdown",
      "metadata": {
        "id": "Sj6BiOKfiI7R"
      },
      "source": [
        "The training takes about 10 minutes to run.\n",
        "\n",
        "<br>\n",
        "\n",
        "In the introduction, we outlined two approaches to training using the skipgram architecture. In this tutorial, we implemented the negative sampling training approach. While waiting for the training to complete, read this article http://mccormickml.com/2016/04/19/word2vec-tutorial-the-skip-gram-model/. It contains the skipgram model with softmax training. \n",
        "\n",
        "<br>\n",
        "\n",
        "After reading the article, answer the following questions:  \n",
        "●\tWhat would the inputs and outputs to the model be?\n",
        "\n",
        "●\tHow would you use the Keras framework to create this architecture?\n",
        "\n",
        "●\tWhat are the reasons this training approach is \n",
        "considered inefficient?\n"
      ]
    },
    {
      "cell_type": "markdown",
      "metadata": {
        "id": "Bwz_8kTZ6UVF"
      },
      "source": [
        "###**7. Getting the Word Embeddings**\n",
        "\n",
        "The word embeddings are the weights of the target word embedding layer.\n"
      ]
    },
    {
      "cell_type": "code",
      "execution_count": 33,
      "metadata": {
        "id": "kiQTO6VgcN90",
        "colab": {
          "base_uri": "https://localhost:8080/"
        },
        "outputId": "2ec12a8a-15ba-4d72-845c-04075bd95179"
      },
      "outputs": [
        {
          "output_type": "stream",
          "name": "stdout",
          "text": [
            "(10180, 100)\n"
          ]
        }
      ],
      "source": [
        "word_embeddings = model.get_layer('target_embed_layer').get_weights()[0] \n",
        "\n",
        "# should return (VOCAB_SIZE, EMBED_SIZE)\n",
        "print(word_embeddings.shape)"
      ]
    },
    {
      "cell_type": "markdown",
      "metadata": {
        "id": "33-QRJFv6v5t"
      },
      "source": [
        "Print out a few words and their embeddings using the next block of code. Your output may not be exactly as above but the command should print 10 words and their respective vectors."
      ]
    },
    {
      "cell_type": "code",
      "execution_count": 34,
      "metadata": {
        "id": "HffZwwLUcXb1",
        "colab": {
          "base_uri": "https://localhost:8080/"
        },
        "outputId": "d693f353-028e-4639-9d47-897ba5795ed6"
      },
      "outputs": [
        {
          "output_type": "stream",
          "name": "stdout",
          "text": [
            "                   0         1         2         3         4         5   \\\n",
            "sense       -0.014069 -0.019834  0.007960  0.000510  0.009431 -0.004584   \n",
            "sensibility  0.025847  0.016856  0.003646  0.014234  0.014886  0.020101   \n",
            "jane         0.081871 -0.015852 -0.023898 -0.040498 -0.000613  0.025663   \n",
            "austen      -0.009980  0.028213 -0.018417 -0.019399 -0.026655 -0.009323   \n",
            "the         -0.072552  0.056978  0.258114  0.191186  0.276420 -0.118340   \n",
            "family      -0.066025  0.021754  0.024663 -0.135766  0.063478  0.002391   \n",
            "dashwood    -0.228735  0.036375  0.101622  0.003765 -0.029925 -0.119783   \n",
            "long         0.045380 -0.088268 -0.043694  0.043814  0.122734 -0.022813   \n",
            "settled     -0.033586  0.005880 -0.020513  0.002305 -0.083846 -0.031689   \n",
            "sussex       0.014820  0.016307 -0.004235  0.025239 -0.020236 -0.016413   \n",
            "\n",
            "                   6         7         8         9   ...        90        91  \\\n",
            "sense       -0.004512 -0.003312 -0.023638  0.016233  ...  0.005399  0.013189   \n",
            "sensibility  0.049201 -0.016771 -0.031622 -0.022082  ...  0.001444  0.001793   \n",
            "jane         0.064643  0.077026  0.015230 -0.030037  ...  0.054429  0.081874   \n",
            "austen      -0.008858  0.007038  0.032623  0.011475  ... -0.006973  0.000507   \n",
            "the          0.085149  0.221665  0.098430  0.117595  ...  0.028682 -0.187784   \n",
            "family       0.070167  0.075717  0.048968  0.009317  ... -0.087342  0.039298   \n",
            "dashwood     0.090160 -0.048279 -0.035881 -0.034254  ...  0.069803  0.050050   \n",
            "long         0.043479  0.032453  0.021386  0.095519  ...  0.012917  0.062668   \n",
            "settled      0.036935  0.002358 -0.039525 -0.029657  ... -0.014264  0.014493   \n",
            "sussex       0.016861 -0.020777  0.002717 -0.011895  ... -0.010724  0.025423   \n",
            "\n",
            "                   92        93        94        95        96        97  \\\n",
            "sense       -0.020886  0.022595  0.002627 -0.000897  0.011337 -0.004021   \n",
            "sensibility  0.007781 -0.006217  0.023820 -0.012309  0.042115 -0.014899   \n",
            "jane        -0.063162  0.058654  0.057724 -0.028255  0.036595 -0.045761   \n",
            "austen      -0.006271  0.012361  0.011037 -0.002998  0.023537  0.018732   \n",
            "the          0.133612  0.117041 -0.145206  0.074513 -0.016879  0.208492   \n",
            "family       0.095242 -0.094997  0.032848  0.107701  0.055708 -0.018135   \n",
            "dashwood     0.118950  0.076704  0.072811  0.044862  0.053795  0.059569   \n",
            "long         0.065883  0.006015 -0.029973  0.031503  0.037917  0.011674   \n",
            "settled     -0.036342  0.002372  0.025343  0.005568  0.022043 -0.030636   \n",
            "sussex      -0.005864  0.011711 -0.006117  0.000140 -0.024765 -0.011585   \n",
            "\n",
            "                   98        99  \n",
            "sense        0.019124  0.021665  \n",
            "sensibility -0.030631 -0.002957  \n",
            "jane        -0.001794  0.030166  \n",
            "austen       0.005182  0.014090  \n",
            "the         -0.152499  0.065266  \n",
            "family      -0.056516  0.001447  \n",
            "dashwood    -0.082094  0.128795  \n",
            "long        -0.037766  0.106429  \n",
            "settled      0.019056 -0.053169  \n",
            "sussex      -0.007162  0.015723  \n",
            "\n",
            "[10 rows x 100 columns]\n"
          ]
        }
      ],
      "source": [
        "from pandas import DataFrame\n",
        "\n",
        "print(DataFrame(word_embeddings, index=idx2word.values()).head(10))"
      ]
    },
    {
      "cell_type": "markdown",
      "metadata": {
        "id": "-Ki8NtrS7ezr"
      },
      "source": [
        "###**8.  Measuring Similarity Between Word Pairs**\n",
        "\n"
      ]
    },
    {
      "cell_type": "code",
      "execution_count": 35,
      "metadata": {
        "id": "dbb-uoe666oV",
        "colab": {
          "base_uri": "https://localhost:8080/"
        },
        "outputId": "7225ca0a-bbef-477e-8f3a-cd9908d37272"
      },
      "outputs": [
        {
          "output_type": "stream",
          "name": "stdout",
          "text": [
            "(10180, 10180)\n"
          ]
        }
      ],
      "source": [
        "from sklearn.metrics.pairwise import cosine_similarity\n",
        "\n",
        "similarity_matrix = cosine_similarity(word_embeddings)\n",
        "\n",
        "# should print(VOCAB_SIZE, VOCAB_SIZE)\n",
        "print(similarity_matrix.shape)   "
      ]
    },
    {
      "cell_type": "markdown",
      "metadata": {
        "id": "k0fyfgvB90G5"
      },
      "source": [
        "###**9. Exploring and Visualizing your Word Embeddings using t-SNE**\n",
        "\n",
        "**A.\tGet the most similar words to the search items in the list below**\n",
        "\n",
        "search_terms = ['family', 'love', 'equality', 'wisdom', 'justice',  'humour', 'rejection']\n",
        "\n",
        "\n",
        "**Sanity check:**\n",
        "The similar words obtained would depend on your training but the above command should print a dictionary. Each key is a search term and each value is a list of the 5 words the model predicts to be most similar to the key word. \n"
      ]
    },
    {
      "cell_type": "code",
      "execution_count": 36,
      "metadata": {
        "id": "hWbSfqYschRs",
        "colab": {
          "base_uri": "https://localhost:8080/"
        },
        "outputId": "bd7ae9a9-bd1b-4367-e568-29fc5d53a0b0"
      },
      "outputs": [
        {
          "output_type": "stream",
          "name": "stdout",
          "text": [
            "{'family': ['face', 'bath', 'assure', 'ought', 'walter'], 'love': ['i', 'justice', 'not', 'marry', 'replied'], 'equality': ['vicinity', 'acquiescence', 'oddities', 'godby', 'charmingly'], 'wisdom': ['admirable', 'devote', 'residue', 'assigned', 'viscount'], 'justice': ['change', 'word', 'let', 'thinking', 'sure'], 'humour': ['tired', 'manner', 'afraid', 'tenderness', 'shall'], 'rejection': ['ebullition', 'em', 'regiment', 'solidly', 'prenticed']}\n"
          ]
        }
      ],
      "source": [
        "search_terms = ['family', 'love', 'equality', 'wisdom', 'justice', 'humour', 'rejection']\n",
        "similar_words=dict()\n",
        "# write code to get the 5 words most similar to the words in search_terms\n",
        "for w in search_terms: \n",
        "  array_similarity = similarity_matrix[word2idx[w]]\n",
        "  index_5 = sorted(range(len(array_similarity)), key=lambda x: array_similarity[x])[VOCAB_SIZE-6:VOCAB_SIZE-1]\n",
        "  similarity_words=[idx2word[idx] for idx in index_5]\n",
        "  similar_words[w]=similarity_words\n",
        "\n",
        "print(similar_words)"
      ]
    },
    {
      "cell_type": "markdown",
      "metadata": {
        "id": "5I_X9W-vGXiZ"
      },
      "source": [
        "**B. Plot the words in the dictionary above using t-SN**E \n",
        "\n",
        "1.   List item\n",
        "\n",
        "1.   List item\n",
        "2.   List item\n",
        "\n",
        "\n",
        "2.   List item\n",
        "\n",
        "https://lvdmaaten.github.io/tsne/ \n",
        "\n",
        "Plot 50 of the word embeddings using the code snippets below:\n",
        "\n",
        "\n",
        "\n",
        "\n",
        "\n",
        "\n",
        "\n",
        "\n",
        "\n",
        "\n",
        "\n",
        "\n"
      ]
    },
    {
      "cell_type": "code",
      "execution_count": null,
      "metadata": {
        "colab": {
          "base_uri": "https://localhost:8080/",
          "height": 482
        },
        "id": "FMnyCjS4cnb8",
        "outputId": "199acfb7-fef3-47d4-9dfa-32f534a7e498"
      },
      "outputs": [
        {
          "data": {
            "image/png": "[encoded data removed]",
            "text/plain": [
              "<Figure size 1008x576 with 1 Axes>"
            ]
          },
          "metadata": {
            "tags": []
          },
          "output_type": "display_data"
        }
      ],
      "source": [
        "from sklearn.manifold import TSNE\n",
        "import matplotlib.pyplot as plt\n",
        "\n",
        "tsne = TSNE(perplexity=3, n_components=2, init='pca', n_iter=5000, method='exact')\n",
        "np.set_printoptions(suppress=True)\n",
        "plot_only = 50 \n",
        "\n",
        "T = tsne.fit_transform(word_embeddings[:plot_only, :])\n",
        "labels = [idx2word[i+1] for i in range(plot_only)]\n",
        "plt.figure(figsize=(14, 8))\n",
        "plt.scatter(T[:, 0], T[:, 1])\n",
        "for label, x, y in zip(labels, T[:, 0], T[:, 1]):\n",
        "    plt.annotate(label, xy=(x+1, y+1), xytext=(0, 0), textcoords='offset points', ha='right', va='bottom')                      \t                        \n",
        "\n"
      ]
    },
    {
      "cell_type": "markdown",
      "metadata": {
        "id": "OsCVTRUMP1qi"
      },
      "source": [
        "**10. Resources used**\n",
        "\n",
        "http://jalammar.github.io/illustrated-word2vec/\n",
        "https://adventuresinmachinelearning.com/word2vec-tutorial-tensorflow/ \n",
        "https://towardsdatascience.com/understanding-feature-engineering-part-4-deep-learning-methods-for-text-data-96c44370bbfa \n",
        "https://adventuresinmachinelearning.com/word2vec-keras-tutorial/ \n",
        "https://www.tensorflow.org/tutorials/representation/word2vec#the_skip-gram_model \n",
        "https://github.com/tensorflow/tensorflow/blob/master/tensorflow/examples/tutorials/word2vec/word2vec_basic.py \n",
        "\n"
      ]
    },
    {
      "cell_type": "code",
      "execution_count": null,
      "metadata": {
        "id": "HCAYO90bV-DR"
      },
      "outputs": [],
      "source": [
        ""
      ]
    }
  ],
  "metadata": {
    "colab": {
      "collapsed_sections": [],
      "name": "7001_2021_22_lab1_wordEmbeddings.ipynb",
      "provenance": []
    },
    "kernelspec": {
      "display_name": "Python 3",
      "name": "python3"
    }
  },
  "nbformat": 4,
  "nbformat_minor": 0
}