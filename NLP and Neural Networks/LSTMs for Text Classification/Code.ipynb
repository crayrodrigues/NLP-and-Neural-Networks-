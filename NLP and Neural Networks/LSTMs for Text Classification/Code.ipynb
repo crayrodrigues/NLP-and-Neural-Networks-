{
  "cells": [
    {
      "cell_type": "markdown",
      "metadata": {
        "id": "t_yvQBKrD8Se"
      },
      "source": [
        "# **ECS 7001 - NN & NNLP**\n",
        "\n",
        "## **Lab 2: LSTM for Text Classification**\n",
        "\n",
        "<br>\n",
        "\n",
        "**February 2nd and 3rd**\n",
        "\n",
        "In Lab 2, you trained word embeddings by casting the unsupervised learning problem as a binary classification problem (i.e. using the skip-gram model). This week, you will build an LSTM model to classify movie reviews as either positive or negative. After training, you will extract the word embeddings learned by the model.\n",
        "\n"
      ]
    },
    {
      "cell_type": "markdown",
      "metadata": {
        "id": "Ep2X91YdJpkG"
      },
      "source": [
        "### **0. Prepare the environment**\n",
        "\n",
        "Open Google Colab or activate the virtual environment you’ve created"
      ]
    },
    {
      "cell_type": "markdown",
      "metadata": {
        "id": "w6Pi5uvTLRCo"
      },
      "source": [
        "### **1. Getting the Dataset**\n",
        "\n",
        "You will be using the imdb dataset from Lab 0. This is a dataset of 25,000 movie reviews from IMDB, labeled by sentiment - positive (1) or negative (0). \n",
        "<br>\n",
        "\n",
        "The reviews have been preprocessed, and each review is encoded as a list of word indices. Last week, you assigned the indices to the word randomly (or in order of their first appearance in the corpus) but in this preprocessed corpus, the words are indexed by overall frequency in the dataset, such that a word with index 3 occurs more frequently than a word with index 10.\n",
        "<br>\n",
        "\n",
        "In the following blocks of code in this section, we will load and visualize the data.\n"
      ]
    },
    {
      "cell_type": "code",
      "execution_count": null,
      "metadata": {
        "id": "xn7sWMG-KoBV"
      },
      "outputs": [],
      "source": [
        "from tensorflow.keras import datasets\n",
        "\n",
        "imdb = datasets.imdb"
      ]
    },
    {
      "cell_type": "code",
      "execution_count": null,
      "metadata": {
        "id": "yCH0PmPcL83f"
      },
      "outputs": [],
      "source": [
        "%%capture\n",
        "\n",
        "# we'll use the most frequent 10000 words in the vocabulary\n",
        "VOCAB_SIZE = 10000\n",
        "\n",
        "# 0 is reserved for ‘<PAD>’, 1 for ‘<START>’ and 2 for ‘<UNK>’ i.e. words not in vocabulary\n",
        "# the documentation says index_from = 3 but actually uses the value as an offset. The words\n",
        "# in the dictionary are indexed from 1 by default so, saying index_from=3 means any actual\n",
        "# words would start from 4 (1+3) and index 3 will be left unused. We use index_from=offset=2 to avoid this\n",
        "# If you want to explore this further, you may look up the source_code for load_data here\n",
        "# https://github.com/tensorflow/tensorflow/blob/v2.4.1/tensorflow/python/keras/datasets/imdb.py#L31-L162\n",
        "OFFSET = 2\n",
        "\n",
        "# for more information on the load_data method, type(help(load_data))\n",
        "(train_data,train_labels),(test_data,test_labels) = imdb.load_data(num_words=VOCAB_SIZE, index_from=OFFSET)"
      ]
    },
    {
      "cell_type": "markdown",
      "metadata": {
        "id": "lVgaL5JIYBRm"
      },
      "source": [
        "***Sanity Check***\n",
        "\n",
        "Each instance in the training data is a list of word indices representing the words in a movie review.\n",
        "\n",
        "Each label is 1 if that review is positive, else 0."
      ]
    },
    {
      "cell_type": "code",
      "execution_count": null,
      "metadata": {
        "colab": {
          "base_uri": "https://localhost:8080/"
        },
        "id": "APFWiEejv9i5",
        "outputId": "33b0bfb6-736a-4879-ff34-f44c2098dc55"
      },
      "outputs": [
        {
          "name": "stdout",
          "output_type": "stream",
          "text": [
            "Sample review: [1, 13, 21, 15, 42, 529, 972, 1621, 1384, 64, 457, 4467, 65, 3940, 3, 172, 35, 255, 4, 24, 99, 42, 837, 111, 49, 669, 2, 8, 34, 479, 283, 4, 149, 3, 171, 111, 166, 2, 335, 384, 38, 3, 171, 4535, 1110, 16, 545, 37, 12, 446, 3, 191, 49, 15, 5, 146, 2024, 18, 13, 21, 3, 1919, 4612, 468, 3, 21, 70, 86, 11, 15, 42, 529, 37, 75, 14, 12, 1246, 3, 21, 16, 514, 16, 11, 15, 625, 17, 2, 4, 61, 385, 11, 7, 315, 7, 105, 4, 3, 2222, 5243, 15, 479, 65, 3784, 32, 3, 129, 11, 15, 37, 618, 4, 24, 123, 50, 35, 134, 47, 24, 1414, 32, 5, 21, 11, 214, 27, 76, 51, 4, 13, 406, 15, 81, 2, 7, 3, 106, 116, 5951, 14, 255, 3, 2, 6, 3765, 4, 722, 35, 70, 42, 529, 475, 25, 399, 316, 45, 6, 3, 2, 1028, 12, 103, 87, 3, 380, 14, 296, 97, 31, 2070, 55, 25, 140, 5, 193, 7485, 17, 3, 225, 21, 20, 133, 475, 25, 479, 4, 143, 29, 5534, 17, 50, 35, 27, 223, 91, 24, 103, 3, 225, 64, 15, 37, 1333, 87, 11, 15, 282, 4, 15, 4471, 112, 102, 31, 14, 15, 5344, 18, 177, 31]\n"
          ]
        }
      ],
      "source": [
        "print('Sample review:', train_data[0])"
      ]
    },
    {
      "cell_type": "code",
      "execution_count": null,
      "metadata": {
        "colab": {
          "base_uri": "https://localhost:8080/"
        },
        "id": "CwgeiaF7n_lX",
        "outputId": "9b0ba0e3-bc4c-4eea-9d7a-481f7ed2c678"
      },
      "outputs": [
        {
          "name": "stdout",
          "output_type": "stream",
          "text": [
            "\n",
            " Sample label: 1\n"
          ]
        }
      ],
      "source": [
        "print('\\n Sample label:', train_labels[0])"
      ]
    },
    {
      "cell_type": "markdown",
      "metadata": {
        "id": "4c14vElNvMGX"
      },
      "source": [
        "### **2. Readying the Inputs for the LSTM**\n",
        "\n",
        "The movie reviews are of different lengths. The standard way of dealing with varying length inputs is to ***pad*** or ***truncate*** each sentence to a fixed length (which we choose heuristically). \n",
        "\n",
        "Keras provides a way to do this.  In this section, you will use the keras.preprocessing.sequence method <pad_sequences> handle padding and truncating.\n",
        "\n",
        "**Hints**\n",
        "\n",
        "*  help(pad_sequences) will give you more information about how this works.\n",
        "*  You can experiment with 'pre' vs 'post' padding/truncating. In practice, 'pre' padding is more effective for our purposes; can you hypothesize about why this is?\n",
        "*  Since we have reserved 0 for \\<PAD\\>, your pad value should be set to 0.\n",
        "*  The maximum length has been specified below as MAX_LENGTH."
      ]
    },
    {
      "cell_type": "code",
      "execution_count": null,
      "metadata": {
        "id": "7XPwN_COagT9"
      },
      "outputs": [],
      "source": [
        "from keras.preprocessing.sequence import pad_sequences\n",
        "\n",
        "\n",
        "MAX_LENGHT = 500\n",
        "\n",
        "# YOUR CODE GOES HERE\n",
        "padded_train_data = []\n",
        "padded_test_data = []\n",
        "\n",
        "padded_train_data= pad_sequences(train_data, maxlen=MAX_LENGHT, dtype='int32', padding='pre',truncating='pre', value=0.0)\n",
        "padded_test_data= pad_sequences(test_data, maxlen=MAX_LENGHT, dtype='int32', padding='pre', truncating='pre', value=0.0)"
      ]
    },
    {
      "cell_type": "markdown",
      "metadata": {
        "id": "RhrUvhC2dO87"
      },
      "source": [
        "***Sanity Check***\n",
        "\n",
        "For the first training example, print its length and the padded sequence to see the effect of your padding process. \n",
        "\n",
        "PS: Pre-padding was used for the output you see below."
      ]
    },
    {
      "cell_type": "code",
      "execution_count": null,
      "metadata": {
        "colab": {
          "base_uri": "https://localhost:8080/"
        },
        "id": "DZb7keBfdKc_",
        "outputId": "b367121f-358e-4945-8f31-ef651fa13f4b"
      },
      "outputs": [
        {
          "name": "stdout",
          "output_type": "stream",
          "text": [
            "Length of sample train_data before preprocessing: 218\n",
            "Length of sample train_data after preprocessing: 500\n",
            "Sample train data: [   0    0    0    0    0    0    0    0    0    0    0    0    0    0\n",
            "    0    0    0    0    0    0    0    0    0    0    0    0    0    0\n",
            "    0    0    0    0    0    0    0    0    0    0    0    0    0    0\n",
            "    0    0    0    0    0    0    0    0    0    0    0    0    0    0\n",
            "    0    0    0    0    0    0    0    0    0    0    0    0    0    0\n",
            "    0    0    0    0    0    0    0    0    0    0    0    0    0    0\n",
            "    0    0    0    0    0    0    0    0    0    0    0    0    0    0\n",
            "    0    0    0    0    0    0    0    0    0    0    0    0    0    0\n",
            "    0    0    0    0    0    0    0    0    0    0    0    0    0    0\n",
            "    0    0    0    0    0    0    0    0    0    0    0    0    0    0\n",
            "    0    0    0    0    0    0    0    0    0    0    0    0    0    0\n",
            "    0    0    0    0    0    0    0    0    0    0    0    0    0    0\n",
            "    0    0    0    0    0    0    0    0    0    0    0    0    0    0\n",
            "    0    0    0    0    0    0    0    0    0    0    0    0    0    0\n",
            "    0    0    0    0    0    0    0    0    0    0    0    0    0    0\n",
            "    0    0    0    0    0    0    0    0    0    0    0    0    0    0\n",
            "    0    0    0    0    0    0    0    0    0    0    0    0    0    0\n",
            "    0    0    0    0    0    0    0    0    0    0    0    0    0    0\n",
            "    0    0    0    0    0    0    0    0    0    0    0    0    0    0\n",
            "    0    0    0    0    0    0    0    0    0    0    0    0    0    0\n",
            "    0    0    1   13   21   15   42  529  972 1621 1384   64  457 4467\n",
            "   65 3940    3  172   35  255    4   24   99   42  837  111   49  669\n",
            "    2    8   34  479  283    4  149    3  171  111  166    2  335  384\n",
            "   38    3  171 4535 1110   16  545   37   12  446    3  191   49   15\n",
            "    5  146 2024   18   13   21    3 1919 4612  468    3   21   70   86\n",
            "   11   15   42  529   37   75   14   12 1246    3   21   16  514   16\n",
            "   11   15  625   17    2    4   61  385   11    7  315    7  105    4\n",
            "    3 2222 5243   15  479   65 3784   32    3  129   11   15   37  618\n",
            "    4   24  123   50   35  134   47   24 1414   32    5   21   11  214\n",
            "   27   76   51    4   13  406   15   81    2    7    3  106  116 5951\n",
            "   14  255    3    2    6 3765    4  722   35   70   42  529  475   25\n",
            "  399  316   45    6    3    2 1028   12  103   87    3  380   14  296\n",
            "   97   31 2070   55   25  140    5  193 7485   17    3  225   21   20\n",
            "  133  475   25  479    4  143   29 5534   17   50   35   27  223   91\n",
            "   24  103    3  225   64   15   37 1333   87   11   15  282    4   15\n",
            " 4471  112  102   31   14   15 5344   18  177   31]\n"
          ]
        }
      ],
      "source": [
        "print('Length of sample train_data before preprocessing:', len(train_data[0]))\n",
        "print('Length of sample train_data after preprocessing:', len(padded_train_data[0]))\n",
        "print('Sample train data:', padded_train_data[0])"
      ]
    },
    {
      "cell_type": "markdown",
      "metadata": {
        "id": "rghchHA66d-V"
      },
      "source": [
        "### **3. Building the Model**\n",
        "\n",
        "In this section, you will use the keras Model API to build a classification model.\n",
        "\n",
        "*   The first step is to tell the model what sort of input to expect using the keras \\<Input\\> layer \n",
        "*   The second step is to add an embedding layer like we did last week. \n",
        "This embedding layer creates a lookup table of the form {word:embedding} for each of the unique words in our corpus. Use EMBED_SIZE = 100 (i.e each word is represented by a 100D vector such that each movie review is 500 X 100 in dimension.  Don't forget to set mask_zero=True since we are using 0 index as out padding.\n",
        "*  The third step is to add an LSTM with 100 units. By leaving 'return_sequences' as False, the output of this model will be the output of the final time step of the LSTM. https://keras.io/api/layers/recurrent_layers/lstm/ \n",
        "*  The final layer of the model is a fully connected (Dense) layer. Can you figure out what activation function would be appropriate for this layer given the binary nature of the task?\n",
        "*  The model should be compiled with a 'binary_crossentropy' loss function, an 'adam' optimizer. We also want to visualize the model accuracy during training so the 'metrics' parameter of the compile method should be set to ['accuracy']."
      ]
    },
    {
      "cell_type": "code",
      "execution_count": null,
      "metadata": {
        "id": "L1EHilHl1l2m"
      },
      "outputs": [],
      "source": [
        "from keras.layers import Input, Embedding, Dense, LSTM\n",
        "from keras.models import Model\n",
        "from keras.layers.core import Reshape\n",
        "EMBED_SIZE = 100\n",
        "# YOUR CODE GOES HERE\n",
        "#Input layer. \n",
        "target_word = Input((MAX_LENGHT,), dtype='int32')\n",
        "\n",
        "#Embedding layer. \n",
        "target_embedding = Embedding(VOCAB_SIZE, EMBED_SIZE, name='target_embed_layer',\n",
        "                        \tembeddings_initializer='glorot_uniform',mask_zero=True ,\n",
        "                         \tinput_length=1)(target_word)\n",
        "#LSTM layer.\n",
        "target_lstm= LSTM(100, return_sequences=False )(target_embedding)\n",
        "\n",
        "#Output layer. \n",
        "lb = Dense(1, \"sigmoid\")(target_lstm)\n",
        "\n",
        "#Initialise model. \n",
        "model = Model(inputs=target_word, outputs=[lb]) \n",
        "\n",
        "#Compile the model using the <model.compile> command. Use Loss = binary_crossentropy, optimizer = 'adam'.\n",
        "model.compile(loss='binary_crossentropy', optimizer=\"adam\", metrics=[\"accuracy\"])   "
      ]
    },
    {
      "cell_type": "markdown",
      "metadata": {
        "id": "6OMqaFQusbp-"
      },
      "source": [
        "***Sanity Check***\n",
        "\n",
        "Print the model summary and visualize it using vis_utils."
      ]
    },
    {
      "cell_type": "code",
      "execution_count": null,
      "metadata": {
        "colab": {
          "base_uri": "https://localhost:8080/"
        },
        "id": "vhnQB6sEozZ3",
        "outputId": "04f0ad2b-8230-4c9c-eea8-7c4d638d366f"
      },
      "outputs": [
        {
          "name": "stdout",
          "output_type": "stream",
          "text": [
            "Model: \"model\"\n",
            "_________________________________________________________________\n",
            " Layer (type)                Output Shape              Param #   \n",
            "=================================================================\n",
            " input_1 (InputLayer)        [(None, 500)]             0         \n",
            "                                                                 \n",
            " target_embed_layer (Embeddi  (None, 500, 100)         1000000   \n",
            " ng)                                                             \n",
            "                                                                 \n",
            " lstm (LSTM)                 (None, 100)               80400     \n",
            "                                                                 \n",
            " dense (Dense)               (None, 1)                 101       \n",
            "                                                                 \n",
            "=================================================================\n",
            "Total params: 1,080,501\n",
            "Trainable params: 1,080,501\n",
            "Non-trainable params: 0\n",
            "_________________________________________________________________\n"
          ]
        }
      ],
      "source": [
        "model.summary()"
      ]
    },
    {
      "cell_type": "code",
      "execution_count": null,
      "metadata": {
        "colab": {
          "base_uri": "https://localhost:8080/",
          "height": 359
        },
        "id": "ZTq8GsWgsqCe",
        "outputId": "7ffa9799-d7e4-4e0e-b038-755f5cd275ba"
      },
      "outputs": [
        {
          "data": {
            "image/svg+xml": "<svg height=\"253pt\" viewBox=\"0.00 0.00 399.00 304.00\" width=\"332pt\" xmlns=\"http://www.w3.org/2000/svg\" xmlns:xlink=\"http://www.w3.org/1999/xlink\">\n<g class=\"graph\" id=\"graph0\" transform=\"scale(.8333 .8333) rotate(0) translate(4 300)\">\n<title>G</title>\n<polygon fill=\"#ffffff\" points=\"-4,4 -4,-300 395,-300 395,4 -4,4\" stroke=\"transparent\"/>\n<!-- 140122650017744 -->\n<g class=\"node\" id=\"node1\">\n<title>140122650017744</title>\n<polygon fill=\"none\" points=\"30.5,-249.5 30.5,-295.5 360.5,-295.5 360.5,-249.5 30.5,-249.5\" stroke=\"#000000\"/>\n<text fill=\"#000000\" font-family=\"Times,serif\" font-size=\"14.00\" text-anchor=\"middle\" x=\"70.5\" y=\"-280.3\">input_1</text>\n<polyline fill=\"none\" points=\"30.5,-272.5 110.5,-272.5 \" stroke=\"#000000\"/>\n<text fill=\"#000000\" font-family=\"Times,serif\" font-size=\"14.00\" text-anchor=\"middle\" x=\"70.5\" y=\"-257.3\">InputLayer</text>\n<polyline fill=\"none\" points=\"110.5,-249.5 110.5,-295.5 \" stroke=\"#000000\"/>\n<text fill=\"#000000\" font-family=\"Times,serif\" font-size=\"14.00\" text-anchor=\"middle\" x=\"139.5\" y=\"-280.3\">input:</text>\n<polyline fill=\"none\" points=\"110.5,-272.5 168.5,-272.5 \" stroke=\"#000000\"/>\n<text fill=\"#000000\" font-family=\"Times,serif\" font-size=\"14.00\" text-anchor=\"middle\" x=\"139.5\" y=\"-257.3\">output:</text>\n<polyline fill=\"none\" points=\"168.5,-249.5 168.5,-295.5 \" stroke=\"#000000\"/>\n<text fill=\"#000000\" font-family=\"Times,serif\" font-size=\"14.00\" text-anchor=\"middle\" x=\"216.5\" y=\"-268.8\">[(None, 500)]</text>\n<polyline fill=\"none\" points=\"264.5,-249.5 264.5,-295.5 \" stroke=\"#000000\"/>\n<text fill=\"#000000\" font-family=\"Times,serif\" font-size=\"14.00\" text-anchor=\"middle\" x=\"312.5\" y=\"-268.8\">[(None, 500)]</text>\n</g>\n<!-- 140122671105424 -->\n<g class=\"node\" id=\"node2\">\n<title>140122671105424</title>\n<polygon fill=\"none\" points=\"0,-166.5 0,-212.5 391,-212.5 391,-166.5 0,-166.5\" stroke=\"#000000\"/>\n<text fill=\"#000000\" font-family=\"Times,serif\" font-size=\"14.00\" text-anchor=\"middle\" x=\"64.5\" y=\"-197.3\">target_embed_layer</text>\n<polyline fill=\"none\" points=\"0,-189.5 129,-189.5 \" stroke=\"#000000\"/>\n<text fill=\"#000000\" font-family=\"Times,serif\" font-size=\"14.00\" text-anchor=\"middle\" x=\"64.5\" y=\"-174.3\">Embedding</text>\n<polyline fill=\"none\" points=\"129,-166.5 129,-212.5 \" stroke=\"#000000\"/>\n<text fill=\"#000000\" font-family=\"Times,serif\" font-size=\"14.00\" text-anchor=\"middle\" x=\"158\" y=\"-197.3\">input:</text>\n<polyline fill=\"none\" points=\"129,-189.5 187,-189.5 \" stroke=\"#000000\"/>\n<text fill=\"#000000\" font-family=\"Times,serif\" font-size=\"14.00\" text-anchor=\"middle\" x=\"158\" y=\"-174.3\">output:</text>\n<polyline fill=\"none\" points=\"187,-166.5 187,-212.5 \" stroke=\"#000000\"/>\n<text fill=\"#000000\" font-family=\"Times,serif\" font-size=\"14.00\" text-anchor=\"middle\" x=\"230.5\" y=\"-185.8\">(None, 500)</text>\n<polyline fill=\"none\" points=\"274,-166.5 274,-212.5 \" stroke=\"#000000\"/>\n<text fill=\"#000000\" font-family=\"Times,serif\" font-size=\"14.00\" text-anchor=\"middle\" x=\"332.5\" y=\"-185.8\">(None, 500, 100)</text>\n</g>\n<!-- 140122650017744&#45;&gt;140122671105424 -->\n<g class=\"edge\" id=\"edge1\">\n<title>140122650017744-&gt;140122671105424</title>\n<path d=\"M195.5,-249.3799C195.5,-241.1745 195.5,-231.7679 195.5,-222.8786\" fill=\"none\" stroke=\"#000000\"/>\n<polygon fill=\"#000000\" points=\"199.0001,-222.784 195.5,-212.784 192.0001,-222.784 199.0001,-222.784\" stroke=\"#000000\"/>\n</g>\n<!-- 140122683928528 -->\n<g class=\"node\" id=\"node3\">\n<title>140122683928528</title>\n<polygon fill=\"none\" points=\"36.5,-83.5 36.5,-129.5 354.5,-129.5 354.5,-83.5 36.5,-83.5\" stroke=\"#000000\"/>\n<text fill=\"#000000\" font-family=\"Times,serif\" font-size=\"14.00\" text-anchor=\"middle\" x=\"64.5\" y=\"-114.3\">lstm</text>\n<polyline fill=\"none\" points=\"36.5,-106.5 92.5,-106.5 \" stroke=\"#000000\"/>\n<text fill=\"#000000\" font-family=\"Times,serif\" font-size=\"14.00\" text-anchor=\"middle\" x=\"64.5\" y=\"-91.3\">LSTM</text>\n<polyline fill=\"none\" points=\"92.5,-83.5 92.5,-129.5 \" stroke=\"#000000\"/>\n<text fill=\"#000000\" font-family=\"Times,serif\" font-size=\"14.00\" text-anchor=\"middle\" x=\"121.5\" y=\"-114.3\">input:</text>\n<polyline fill=\"none\" points=\"92.5,-106.5 150.5,-106.5 \" stroke=\"#000000\"/>\n<text fill=\"#000000\" font-family=\"Times,serif\" font-size=\"14.00\" text-anchor=\"middle\" x=\"121.5\" y=\"-91.3\">output:</text>\n<polyline fill=\"none\" points=\"150.5,-83.5 150.5,-129.5 \" stroke=\"#000000\"/>\n<text fill=\"#000000\" font-family=\"Times,serif\" font-size=\"14.00\" text-anchor=\"middle\" x=\"209\" y=\"-102.8\">(None, 500, 100)</text>\n<polyline fill=\"none\" points=\"267.5,-83.5 267.5,-129.5 \" stroke=\"#000000\"/>\n<text fill=\"#000000\" font-family=\"Times,serif\" font-size=\"14.00\" text-anchor=\"middle\" x=\"311\" y=\"-102.8\">(None, 100)</text>\n</g>\n<!-- 140122671105424&#45;&gt;140122683928528 -->\n<g class=\"edge\" id=\"edge2\">\n<title>140122671105424-&gt;140122683928528</title>\n<path d=\"M195.5,-166.3799C195.5,-158.1745 195.5,-148.7679 195.5,-139.8786\" fill=\"none\" stroke=\"#000000\"/>\n<polygon fill=\"#000000\" points=\"199.0001,-139.784 195.5,-129.784 192.0001,-139.784 199.0001,-139.784\" stroke=\"#000000\"/>\n</g>\n<!-- 140122675186512 -->\n<g class=\"node\" id=\"node4\">\n<title>140122675186512</title>\n<polygon fill=\"none\" points=\"61,-.5 61,-46.5 330,-46.5 330,-.5 61,-.5\" stroke=\"#000000\"/>\n<text fill=\"#000000\" font-family=\"Times,serif\" font-size=\"14.00\" text-anchor=\"middle\" x=\"87\" y=\"-31.3\">dense</text>\n<polyline fill=\"none\" points=\"61,-23.5 113,-23.5 \" stroke=\"#000000\"/>\n<text fill=\"#000000\" font-family=\"Times,serif\" font-size=\"14.00\" text-anchor=\"middle\" x=\"87\" y=\"-8.3\">Dense</text>\n<polyline fill=\"none\" points=\"113,-.5 113,-46.5 \" stroke=\"#000000\"/>\n<text fill=\"#000000\" font-family=\"Times,serif\" font-size=\"14.00\" text-anchor=\"middle\" x=\"142\" y=\"-31.3\">input:</text>\n<polyline fill=\"none\" points=\"113,-23.5 171,-23.5 \" stroke=\"#000000\"/>\n<text fill=\"#000000\" font-family=\"Times,serif\" font-size=\"14.00\" text-anchor=\"middle\" x=\"142\" y=\"-8.3\">output:</text>\n<polyline fill=\"none\" points=\"171,-.5 171,-46.5 \" stroke=\"#000000\"/>\n<text fill=\"#000000\" font-family=\"Times,serif\" font-size=\"14.00\" text-anchor=\"middle\" x=\"214.5\" y=\"-19.8\">(None, 100)</text>\n<polyline fill=\"none\" points=\"258,-.5 258,-46.5 \" stroke=\"#000000\"/>\n<text fill=\"#000000\" font-family=\"Times,serif\" font-size=\"14.00\" text-anchor=\"middle\" x=\"294\" y=\"-19.8\">(None, 1)</text>\n</g>\n<!-- 140122683928528&#45;&gt;140122675186512 -->\n<g class=\"edge\" id=\"edge3\">\n<title>140122683928528-&gt;140122675186512</title>\n<path d=\"M195.5,-83.3799C195.5,-75.1745 195.5,-65.7679 195.5,-56.8786\" fill=\"none\" stroke=\"#000000\"/>\n<polygon fill=\"#000000\" points=\"199.0001,-56.784 195.5,-46.784 192.0001,-56.784 199.0001,-56.784\" stroke=\"#000000\"/>\n</g>\n</g>\n</svg>",
            "text/plain": [
              "<IPython.core.display.SVG object>"
            ]
          },
          "execution_count": 9,
          "metadata": {},
          "output_type": "execute_result"
        }
      ],
      "source": [
        "from IPython.display import SVG\n",
        "from keras.utils import vis_utils\n",
        "SVG(vis_utils.model_to_dot(model, show_shapes=True, show_layer_names=True, dpi=60).create(prog='dot', format='svg'))  \n"
      ]
    },
    {
      "cell_type": "markdown",
      "metadata": {
        "id": "WXhJNdf9TIed"
      },
      "source": [
        "### **4. Training the Model**\n",
        "\n",
        "A model can memorize the training data (this is called 'overfitting' and when it does so, it's training accuracy can continue to go up but it's accuracy on previously unseen (i.e. non-training) examples can be very poor. To ensure that this doesn't happen, researchers often intermittently check the performance of a model being trained on a held back dataset called the ***validation dataset***. This way, 'early stopping' or 'random search' can be used to select the model that will generalize best to unseen data. \n",
        "<br>\n",
        "\n",
        "\n",
        "In this lab, you will just plot training accuracy against validation accuracy to monitor the progress of your model. And, using the plot, you will theorize about what the optimal stopping point for your model should have been.\n"
      ]
    },
    {
      "cell_type": "markdown",
      "metadata": {
        "id": "LFJtD1EgvPND"
      },
      "source": [
        "**Step 1: Getting a validation dataset**\n",
        "\n",
        "Before we begin training, you will split the padded training data into training and validation data. To avoid losing too much training data, use 2000 samples (i.e 8%) for validation and the other 23000 for training.\n",
        "\n",
        "We will do this using the sklearn train_test_split function. "
      ]
    },
    {
      "cell_type": "code",
      "execution_count": null,
      "metadata": {
        "id": "zqHSAlOev6kB"
      },
      "outputs": [],
      "source": [
        "from sklearn.model_selection import train_test_split\n",
        "\n",
        "train_x, validation_x, train_y, validation_y = train_test_split(padded_train_data, train_labels, test_size=0.08) "
      ]
    },
    {
      "cell_type": "markdown",
      "metadata": {
        "id": "xArEfNkX0DnN"
      },
      "source": [
        "Alternatively, we could have chosen to set validation_size=0.08 in our model.fit() function below instead of passing in a separate validation dataset."
      ]
    },
    {
      "cell_type": "markdown",
      "metadata": {
        "id": "3oXtkSBuyiWt"
      },
      "source": [
        "**Step 2: Training the model**\n",
        "\n",
        "We will use model.fit() to train the model. We will set our batch_size to 1000, which means the model will train int(23000/1000) batches each epoch. In other words, at each epoch the model will train 23 batches, each one consisting of 1000 movie reviews."
      ]
    },
    {
      "cell_type": "code",
      "execution_count": null,
      "metadata": {
        "colab": {
          "base_uri": "https://localhost:8080/"
        },
        "id": "TCIWm1bisy7L",
        "outputId": "b1a9da3d-1701-4ba8-b729-b636c7164129"
      },
      "outputs": [
        {
          "name": "stdout",
          "output_type": "stream",
          "text": [
            "Epoch 1/6\n",
            "23/23 [==============================] - 231s 10s/step - loss: 0.6302 - accuracy: 0.6823 - val_loss: 0.4700 - val_accuracy: 0.7890\n",
            "Epoch 2/6\n",
            "23/23 [==============================] - 221s 10s/step - loss: 0.3689 - accuracy: 0.8588 - val_loss: 0.3095 - val_accuracy: 0.8745\n",
            "Epoch 3/6\n",
            "23/23 [==============================] - 214s 9s/step - loss: 0.2610 - accuracy: 0.9051 - val_loss: 0.2823 - val_accuracy: 0.8830\n",
            "Epoch 4/6\n",
            "23/23 [==============================] - 212s 9s/step - loss: 0.1981 - accuracy: 0.9306 - val_loss: 0.2736 - val_accuracy: 0.8830\n",
            "Epoch 5/6\n",
            "23/23 [==============================] - 214s 9s/step - loss: 0.1595 - accuracy: 0.9472 - val_loss: 0.2773 - val_accuracy: 0.8900\n",
            "Epoch 6/6\n",
            "23/23 [==============================] - 214s 9s/step - loss: 0.1343 - accuracy: 0.9584 - val_loss: 0.3543 - val_accuracy: 0.8725\n"
          ]
        }
      ],
      "source": [
        "history = model.fit(train_x, train_y, epochs=6, batch_size=1000, validation_data=(validation_x, validation_y))"
      ]
    },
    {
      "cell_type": "markdown",
      "metadata": {
        "id": "2OaWng6v835A"
      },
      "source": [
        "**Step 3: Visualize the model plot**"
      ]
    },
    {
      "cell_type": "code",
      "execution_count": null,
      "metadata": {
        "colab": {
          "base_uri": "https://localhost:8080/"
        },
        "id": "R6xASJOM897O",
        "outputId": "5ef0ed83-6869-4ddc-da84-bb2f89fb9510"
      },
      "outputs": [
        {
          "output_type": "stream",
          "name": "stdout",
          "text": [
            "Collecting plot_keras_history\n",
            "  Downloading plot_keras_history-1.1.30.tar.gz (8.6 kB)\n",
            "Requirement already satisfied: matplotlib in /usr/local/lib/python3.7/dist-packages (from plot_keras_history) (3.2.2)\n",
            "Requirement already satisfied: pandas in /usr/local/lib/python3.7/dist-packages (from plot_keras_history) (1.3.5)\n",
            "Requirement already satisfied: scipy in /usr/local/lib/python3.7/dist-packages (from plot_keras_history) (1.4.1)\n",
            "Collecting sanitize_ml_labels>=1.0.28\n",
            "  Downloading sanitize_ml_labels-1.0.29.tar.gz (7.4 kB)\n",
            "Collecting compress_json\n",
            "  Downloading compress_json-1.0.4.tar.gz (4.7 kB)\n",
            "Requirement already satisfied: numpy>=1.11 in /usr/local/lib/python3.7/dist-packages (from matplotlib->plot_keras_history) (1.21.5)\n",
            "Requirement already satisfied: kiwisolver>=1.0.1 in /usr/local/lib/python3.7/dist-packages (from matplotlib->plot_keras_history) (1.3.2)\n",
            "Requirement already satisfied: cycler>=0.10 in /usr/local/lib/python3.7/dist-packages (from matplotlib->plot_keras_history) (0.11.0)\n",
            "Requirement already satisfied: pyparsing!=2.0.4,!=2.1.2,!=2.1.6,>=2.0.1 in /usr/local/lib/python3.7/dist-packages (from matplotlib->plot_keras_history) (3.0.7)\n",
            "Requirement already satisfied: python-dateutil>=2.1 in /usr/local/lib/python3.7/dist-packages (from matplotlib->plot_keras_history) (2.8.2)\n",
            "Requirement already satisfied: six>=1.5 in /usr/local/lib/python3.7/dist-packages (from python-dateutil>=2.1->matplotlib->plot_keras_history) (1.15.0)\n",
            "Requirement already satisfied: pytz>=2017.3 in /usr/local/lib/python3.7/dist-packages (from pandas->plot_keras_history) (2018.9)\n",
            "Building wheels for collected packages: plot-keras-history, sanitize-ml-labels, compress-json\n",
            "  Building wheel for plot-keras-history (setup.py) ... \u001b[?25l\u001b[?25hdone\n",
            "  Created wheel for plot-keras-history: filename=plot_keras_history-1.1.30-py3-none-any.whl size=8794 sha256=d22a18b78e801431ad7a7d31b931b87c82f380812ba53a516b4f164484e94960\n",
            "  Stored in directory: /root/.cache/pip/wheels/b0/60/47/8c5aa37c06be5e97879ec467bc2e6a30b315d95f662c63a503\n",
            "  Building wheel for sanitize-ml-labels (setup.py) ... \u001b[?25l\u001b[?25hdone\n",
            "  Created wheel for sanitize-ml-labels: filename=sanitize_ml_labels-1.0.29-py3-none-any.whl size=7878 sha256=6177ac7dd4d94a03784b6bc449015a75cea73d0b664e52de63bccf044871bf1e\n",
            "  Stored in directory: /root/.cache/pip/wheels/c2/f5/71/d1c459da10abec864a1979b449edbf37d4a82ab3e38a3625a8\n",
            "  Building wheel for compress-json (setup.py) ... \u001b[?25l\u001b[?25hdone\n",
            "  Created wheel for compress-json: filename=compress_json-1.0.4-py3-none-any.whl size=4588 sha256=a2136bd9d933f7eeec8db9594f34da31f5d79a64e9b1879734d2211fc2bb4887\n",
            "  Stored in directory: /root/.cache/pip/wheels/1e/ef/1e/5d403c5632b0462471a8d26049d0c138134d0255ec60ce4c14\n",
            "Successfully built plot-keras-history sanitize-ml-labels compress-json\n",
            "Installing collected packages: compress-json, sanitize-ml-labels, plot-keras-history\n",
            "Successfully installed compress-json-1.0.4 plot-keras-history-1.1.30 sanitize-ml-labels-1.0.29\n"
          ]
        }
      ],
      "source": [
        "pip install plot_keras_history"
      ]
    },
    {
      "cell_type": "code",
      "execution_count": null,
      "metadata": {
        "id": "0-Qq9lwGDHVl"
      },
      "outputs": [],
      "source": [
        "from plot_keras_history import plot_history\n",
        "import matplotlib.pyplot as plt"
      ]
    },
    {
      "cell_type": "code",
      "execution_count": null,
      "metadata": {
        "colab": {
          "base_uri": "https://localhost:8080/",
          "height": 385
        },
        "id": "6jS3_xzmDJmk",
        "outputId": "b2bc2c32-4430-4151-a3b5-0ddcb8cd5b4c"
      },
      "outputs": [
        {
          "data": {
            "image/png": "[encoded data removed]",
            "text/plain": [
              "<Figure size 720x360 with 2 Axes>"
            ]
          },
          "metadata": {},
          "output_type": "display_data"
        }
      ],
      "source": [
        "plot_history(history.history, path=\"standard.png\")\n",
        "plt.show()"
      ]
    },
    {
      "cell_type": "markdown",
      "metadata": {
        "id": "8Xy45WzGCkFJ"
      },
      "source": [
        "**Based on the accuracy plot, what do you think the optimal stopping point for your model should\n",
        "have been?**"
      ]
    },
    {
      "cell_type": "markdown",
      "metadata": {
        "id": "uMQJAolZWVLx"
      },
      "source": [
        "### **5. Evaluating the Model on the Test Data**\n",
        "\n",
        "Evaluate the model on the padded test data using the code in the following cell block."
      ]
    },
    {
      "cell_type": "code",
      "execution_count": null,
      "metadata": {
        "colab": {
          "base_uri": "https://localhost:8080/"
        },
        "id": "fi0JmuY-Tlsp",
        "outputId": "c0e0422f-0895-4899-defe-c63ad0f787b6"
      },
      "outputs": [
        {
          "name": "stdout",
          "output_type": "stream",
          "text": [
            "782/782 [==============================] - 114s 144ms/step - loss: 0.3899 - accuracy: 0.8639\n",
            "test_loss: 0.3899438679218292 test_accuracy: 0.8639199733734131\n"
          ]
        }
      ],
      "source": [
        "# YOUR CODE TO EVALUATE THE MODEL ON TEST DATA GOES HERE\n",
        "results = model.evaluate(padded_test_data, test_labels )\n",
        "\n",
        "print('test_loss:', results[0], 'test_accuracy:', results[1])"
      ]
    },
    {
      "cell_type": "markdown",
      "metadata": {
        "id": "zbOcZD6igpxy"
      },
      "source": [
        "###**6. Extracting the Word Embeddings**\n",
        "\n",
        "Extract the word embeddings from the embedding layer model like we did in the last lab. \n",
        "\n",
        "**Hints**\n",
        "\n",
        "*  You can use model.get_layer(layer_name).get_weights()[0] or model.layers[layer_number].get_weights()[0].  The layer number indicates the order in which the layers were added to the model.\n",
        "\n",
        "*  If you didn't explicitly name your layers, you can check layer names and numbers about the order from model.summary() or by calling model.layers"
      ]
    },
    {
      "cell_type": "code",
      "execution_count": null,
      "metadata": {
        "id": "dVG1le_LWBtq"
      },
      "outputs": [],
      "source": [
        "# YOUR CODE GOES HERE\n",
        "word_embeddings = model.get_layer('target_embed_layer').get_weights()[0] "
      ]
    },
    {
      "cell_type": "markdown",
      "metadata": {
        "id": "fXzDQ-7IE5Ou"
      },
      "source": [
        "***Sanity Check***\n",
        "\n",
        "Print the shape of the word embeddings using the line of code below. It should return (VOCAB_SIZE, EMBED_SIZE)"
      ]
    },
    {
      "cell_type": "code",
      "execution_count": null,
      "metadata": {
        "colab": {
          "base_uri": "https://localhost:8080/"
        },
        "id": "swJFPaX_E4f0",
        "outputId": "7044a4b0-8d90-49aa-90d3-7965865c691a"
      },
      "outputs": [
        {
          "name": "stdout",
          "output_type": "stream",
          "text": [
            "Shape of word_embeddings: (10000, 100)\n"
          ]
        }
      ],
      "source": [
        "print('Shape of word_embeddings:', word_embeddings.shape)"
      ]
    },
    {
      "cell_type": "markdown",
      "metadata": {
        "id": "Bwz_8kTZ6UVF"
      },
      "source": [
        "###**7. Visualizing the Reviews**\n",
        "\n",
        "In this section, we will view the effects of padding the dataset. \n",
        "\n",
        "As mentioned before, Keras already preprocessed the corpus. In this preprocessed corpus, all the words have already been mapped to indices and were assigned these numbers in order of their frequency such that index 2 is the 2nd most frequent word in the dataset, and so on. However, when we loaded our training dataset, we reserved the first 3 indices - 0, 1, 2 - for \\<PAD\\>, \\<START\\> and \\<UNK\\>. Additionally, we limited our vocabulary to only the top 10000 most frequent words (9997 if you exclude the padding). We will now visualize what a movie review will look like with these changes\n",
        "\n"
      ]
    },
    {
      "cell_type": "markdown",
      "metadata": {
        "id": "lOmorAwXGZS9"
      },
      "source": [
        "\n",
        "**Step 1: Create a word2idx dictionary**\n",
        "\n",
        "Create the word2idx dictionary using the following lines of code."
      ]
    },
    {
      "cell_type": "code",
      "execution_count": null,
      "metadata": {
        "colab": {
          "base_uri": "https://localhost:8080/"
        },
        "id": "AtU7lOD6GYtB",
        "outputId": "36311476-b370-45b3-e57d-7e19a0f14a1e"
      },
      "outputs": [
        {
          "name": "stdout",
          "output_type": "stream",
          "text": [
            "Downloading data from https://storage.googleapis.com/tensorflow/tf-keras-datasets/imdb_word_index.json\n",
            "1646592/1641221 [==============================] - 0s 0us/step\n",
            "1654784/1641221 [==============================] - 0s 0us/step\n"
          ]
        }
      ],
      "source": [
        "# in this dictionary, the words start from 1, 0 is reserved for padding but \n",
        "# <start> and <unknown> are not accounted for.\n",
        "word_indices = imdb.get_word_index()\n",
        "\n",
        "# so we shift each original word two places to make room for the two new tokens\n",
        "offset = 2\n",
        "word2idx = {k:(v+offset) for k,v in word_indices.items() if v < 9998}\n",
        "word2idx[\"<PAD>\"] = 0\n",
        "word2idx[\"<START>\"] = 1\n",
        "word2idx[\"<UNK>\"] = 2"
      ]
    },
    {
      "cell_type": "markdown",
      "metadata": {
        "id": "H3oZeE74HCvL"
      },
      "source": [
        "\n",
        "**Step 2: Create a the idx2word dictionary**"
      ]
    },
    {
      "cell_type": "code",
      "execution_count": null,
      "metadata": {
        "id": "F0sWRDRIHIzp"
      },
      "outputs": [],
      "source": [
        "# YOUR CODE GOES HERE\n",
        "idx2word ={val: key for key, val in word2idx.items()}"
      ]
    },
    {
      "cell_type": "markdown",
      "metadata": {
        "id": "p7aGrCU1HTN0"
      },
      "source": [
        "\n",
        "**Step 3: Visualize sample review**\n",
        "\n",
        "View a sample review text using the lines of code below:"
      ]
    },
    {
      "cell_type": "code",
      "execution_count": null,
      "metadata": {
        "colab": {
          "base_uri": "https://localhost:8080/"
        },
        "id": "tloaCj_5_-ev",
        "outputId": "14097ee1-73ff-4f94-ad48-cabf179c3495"
      },
      "outputs": [
        {
          "name": "stdout",
          "output_type": "stream",
          "text": [
            "<START> this film was just brilliant casting location scenery story direction everyone's really suited the part they played and you could just imagine being there robert <UNK> is an amazing actor and now the same being director <UNK> father came from the same scottish island as myself so i loved the fact there was a real connection with this film the witty remarks throughout the film were great it was just brilliant so much that i bought the film as soon as it was released for <UNK> and would recommend it to everyone to watch and the fly fishing was amazing really cried at the end it was so sad and you know what they say if you cry at a film it must have been good and this definitely was also <UNK> to the two little boy's that played the <UNK> of norman and paul they were just brilliant children are often left out of the <UNK> list i think because the stars that play them all grown up are such a big profile for the whole film but these children are amazing and should be praised for what they have done don't you think the whole story was so lovely because it was true and was someone's life after all that was shared with us all\n"
          ]
        }
      ],
      "source": [
        "print(' '.join(idx2word[idx] for idx in train_data[0]))"
      ]
    },
    {
      "cell_type": "markdown",
      "metadata": {
        "id": "TFs4QSdFJrWL"
      },
      "source": [
        "###**8. Visualizing the Word_Embeddings**\n",
        "\n",
        "Visualize the word embeddings for 10 of the words using pandas DataFrame like we did in lab 3"
      ]
    },
    {
      "cell_type": "code",
      "execution_count": null,
      "metadata": {
        "colab": {
          "base_uri": "https://localhost:8080/"
        },
        "id": "ONSEdCryAnhL",
        "outputId": "578d799e-8e98-455d-cc70-5af7c5c9e2ad"
      },
      "outputs": [
        {
          "name": "stdout",
          "output_type": "stream",
          "text": [
            "                 0         1         2         3         4         5   \\\n",
            "woods      0.022103  0.013670  0.005605  0.012900 -0.023905  0.017456   \n",
            "hanging   -0.006442 -0.021534 -0.010598 -0.008726 -0.001910 -0.019337   \n",
            "woody     -0.007883  0.018531  0.001383  0.012108  0.015892 -0.015468   \n",
            "arranged  -0.022995  0.000971  0.012031 -0.000012 -0.016869 -0.016737   \n",
            "bringing  -0.014642 -0.000455  0.003752 -0.019112 -0.010297  0.005861   \n",
            "wooden    -0.015468 -0.007645 -0.004949 -0.003168  0.017128 -0.014628   \n",
            "errors     0.002674  0.000014 -0.010848 -0.013019 -0.003370 -0.009553   \n",
            "dialogs   -0.006107  0.021094  0.001076  0.008382  0.021255 -0.001293   \n",
            "kids      -0.010766  0.001916 -0.023115 -0.020534 -0.024691 -0.002750   \n",
            "uplifting  0.008401 -0.011437 -0.011277 -0.017083  0.011684  0.010562   \n",
            "\n",
            "                 6         7         8         9   ...        90        91  \\\n",
            "woods     -0.023880 -0.013796  0.015900  0.011639  ...  0.005483 -0.013494   \n",
            "hanging    0.022106 -0.017206 -0.021874 -0.023334  ... -0.012199  0.011800   \n",
            "woody      0.016544 -0.005664  0.017337  0.003164  ...  0.017448  0.023792   \n",
            "arranged  -0.000908  0.013300 -0.019792  0.012310  ...  0.019368 -0.011985   \n",
            "bringing  -0.024379 -0.014500 -0.009933 -0.009819  ... -0.009207 -0.007067   \n",
            "wooden     0.009813  0.013346  0.013598  0.025698  ... -0.023089 -0.022694   \n",
            "errors    -0.006046  0.001129  0.020476 -0.006261  ...  0.018664 -0.012818   \n",
            "dialogs   -0.006179  0.010650 -0.023382  0.001674  ... -0.010606  0.010333   \n",
            "kids      -0.017368  0.024272  0.024411  0.010218  ... -0.020663 -0.012904   \n",
            "uplifting  0.007035  0.013797  0.019023  0.001225  ... -0.001729 -0.001592   \n",
            "\n",
            "                 92        93        94        95        96        97  \\\n",
            "woods     -0.013926  0.006737  0.011843 -0.023457 -0.005459  0.015354   \n",
            "hanging    0.016656 -0.013266 -0.026259 -0.025134  0.004930 -0.020700   \n",
            "woody     -0.023007 -0.014434 -0.010109  0.006049 -0.005146  0.014856   \n",
            "arranged   0.025658  0.022792 -0.004053  0.001883 -0.017794  0.004092   \n",
            "bringing   0.009878  0.002331  0.007057  0.015541  0.014250  0.012641   \n",
            "wooden     0.011851  0.019835  0.013127 -0.006799 -0.013876  0.006884   \n",
            "errors    -0.013685  0.017580 -0.008788 -0.010927 -0.014800 -0.020542   \n",
            "dialogs   -0.020918 -0.014828  0.009938 -0.026249  0.012176  0.013053   \n",
            "kids       0.037179  0.010875  0.005204  0.007178  0.012081 -0.008970   \n",
            "uplifting  0.014475  0.002433  0.010854  0.004646  0.008348  0.013916   \n",
            "\n",
            "                 98        99  \n",
            "woods      0.000668  0.008319  \n",
            "hanging    0.014899  0.001280  \n",
            "woody      0.016650  0.008190  \n",
            "arranged   0.012098  0.021473  \n",
            "bringing   0.005153 -0.014599  \n",
            "wooden     0.015142  0.016393  \n",
            "errors    -0.017606 -0.021354  \n",
            "dialogs    0.018647 -0.019567  \n",
            "kids       0.015070 -0.000448  \n",
            "uplifting  0.009953 -0.020869  \n",
            "\n",
            "[10 rows x 100 columns]\n"
          ]
        }
      ],
      "source": [
        "# YOUR CODE GOES HERE\n",
        "from pandas import DataFrame\n",
        "print(DataFrame(word_embeddings, index=idx2word.values()).head(10))"
      ]
    },
    {
      "cell_type": "markdown",
      "metadata": {
        "id": "k0fyfgvB90G5"
      },
      "source": [
        "###**9. Plot your Word Embeddings using t-SNE**\n"
      ]
    },
    {
      "cell_type": "code",
      "execution_count": null,
      "metadata": {
        "colab": {
          "base_uri": "https://localhost:8080/",
          "height": 572
        },
        "id": "JRPHIYEgGXRh",
        "outputId": "df569ebc-83e1-4891-e6e8-244fc7d485f6"
      },
      "outputs": [
        {
          "name": "stderr",
          "output_type": "stream",
          "text": [
            "/usr/local/lib/python3.7/dist-packages/sklearn/manifold/_t_sne.py:793: FutureWarning: The default learning rate in TSNE will change from 200.0 to 'auto' in 1.2.\n",
            "  FutureWarning,\n",
            "/usr/local/lib/python3.7/dist-packages/sklearn/manifold/_t_sne.py:986: FutureWarning: The PCA initialization in TSNE will change to have the standard deviation of PC1 equal to 1e-4 in 1.2. This will ensure better convergence.\n",
            "  FutureWarning,\n"
          ]
        },
        {
          "data": {
            "image/png": "[encoded data removed]",
            "text/plain": [
              "<Figure size 1008x576 with 1 Axes>"
            ]
          },
          "metadata": {},
          "output_type": "display_data"
        }
      ],
      "source": [
        "from sklearn.manifold import TSNE\n",
        "import matplotlib.pyplot as plt\n",
        "import numpy as np\n",
        "\n",
        "\n",
        "tsne = TSNE(perplexity=3, n_components=2, init='pca', n_iter=5000, method='exact')\n",
        "np.set_printoptions(suppress=True)\n",
        "plot_only = 50\n",
        "\n",
        "# don't plot the special tokens\n",
        "start = 3\n",
        "T = tsne.fit_transform(word_embeddings[start:plot_only, :])\n",
        "labels = [idx2word[i] for i in range(start, plot_only)]\n",
        "plt.figure(figsize=(14, 8))\n",
        "plt.scatter(T[:, 0], T[:, 1])\n",
        "for label, x, y in zip(labels, T[:, 0], T[:, 1]):\n",
        "    plt.annotate(label, xy=(x+1, y+1), xytext=(0, 0), textcoords='offset points', ha='right', va='bottom')                      \t                        \n"
      ]
    },
    {
      "cell_type": "markdown",
      "metadata": {
        "id": "sHdy4PDVO8TN"
      },
      "source": [
        "###**10. Questions**\n",
        "\n",
        "1. Create a new model that is a copy of the model step 3. To this new model,add two dropout layers, one between the embedding layer and the LSTM layer and another between the LSTM layer and the output layer. Repeat steps 4 and 5 for this model. What do you observe?\n",
        "\n",
        "2. Experiment with training the model with batch sizes of 1, 32, len(training_data). What do you observe?\n",
        "\n",
        "3. (optional) Can you retrain with a Bidirectional LSTM instead of an LSTM? What do you observe about the Bi-LSTM model?\n"
      ]
    },
    {
      "cell_type": "markdown",
      "metadata": {
        "id": "lV93JiubA-N4"
      },
      "source": [
        "#### Q1.\n",
        "Create a new model that is a copy of the model step 3. To this new model,add two dropout layers, one between the embedding layer and the LSTM layer and another between the LSTM layer and the output layer. Repeat steps 4 and 5 for this model. What do you observe?"
      ]
    },
    {
      "cell_type": "code",
      "execution_count": null,
      "metadata": {
        "id": "jLouC2ILBGyx"
      },
      "outputs": [],
      "source": [
        "from keras.layers.core.dropout import Dropout\n",
        "from keras.layers import Input, Embedding, Dense, LSTM\n",
        "from keras.models import Model\n",
        "from keras.layers.core import Reshape\n",
        "EMBED_SIZE = 100\n",
        "# YOUR CODE GOES HERE\n",
        "#Input layer. \n",
        "target_word = Input((MAX_LENGHT,), dtype='int32')\n",
        "\n",
        "#Embedding layer. \n",
        "target_embedding = Embedding(VOCAB_SIZE, EMBED_SIZE, name='target_embed_layer',\n",
        "                        \tembeddings_initializer='glorot_uniform',mask_zero=True ,\n",
        "                         \tinput_length=1)(target_word)\n",
        "                          \n",
        "#Dropout. \n",
        "target_dr1= Dropout(0.2)(target_embedding)\n",
        "\n",
        "#LSTM layer.\n",
        "target_lstm= LSTM(100, return_sequences=False )(target_dr1)\n",
        "\n",
        "#Dropout. \n",
        "target_dr2= Dropout(0.2)(target_lstm)\n",
        "\n",
        "#Output layer. \n",
        "lb = Dense(1, \"sigmoid\")(target_dr2)\n",
        "\n",
        "#Initialise model. \n",
        "model = Model(inputs=target_word, outputs=[lb]) \n",
        "\n",
        "#Compile the model using the <model.compile> command. Use Loss = binary_crossentropy, optimizer = 'adam'.\n",
        "model.compile(loss='binary_crossentropy', optimizer=\"adam\", metrics=[\"accuracy\"])   "
      ]
    },
    {
      "cell_type": "code",
      "execution_count": null,
      "metadata": {
        "colab": {
          "base_uri": "https://localhost:8080/"
        },
        "id": "pnmkBdmIB6iT",
        "outputId": "9a215996-1c8b-4aa0-dc10-92975fd60b70"
      },
      "outputs": [
        {
          "name": "stdout",
          "output_type": "stream",
          "text": [
            "Model: \"model_1\"\n",
            "_________________________________________________________________\n",
            " Layer (type)                Output Shape              Param #   \n",
            "=================================================================\n",
            " input_2 (InputLayer)        [(None, 500)]             0         \n",
            "                                                                 \n",
            " target_embed_layer (Embeddi  (None, 500, 100)         1000000   \n",
            " ng)                                                             \n",
            "                                                                 \n",
            " dropout (Dropout)           (None, 500, 100)          0         \n",
            "                                                                 \n",
            " lstm_1 (LSTM)               (None, 100)               80400     \n",
            "                                                                 \n",
            " dropout_1 (Dropout)         (None, 100)               0         \n",
            "                                                                 \n",
            " dense_1 (Dense)             (None, 1)                 101       \n",
            "                                                                 \n",
            "=================================================================\n",
            "Total params: 1,080,501\n",
            "Trainable params: 1,080,501\n",
            "Non-trainable params: 0\n",
            "_________________________________________________________________\n"
          ]
        }
      ],
      "source": [
        "model.summary()"
      ]
    },
    {
      "cell_type": "code",
      "execution_count": null,
      "metadata": {
        "id": "ZJNWqTSvB8Bv"
      },
      "outputs": [],
      "source": [
        "from sklearn.model_selection import train_test_split\n",
        "\n",
        "train_x, validation_x, train_y, validation_y = train_test_split(padded_train_data, train_labels, test_size=0.08) "
      ]
    },
    {
      "cell_type": "code",
      "execution_count": null,
      "metadata": {
        "colab": {
          "base_uri": "https://localhost:8080/"
        },
        "id": "Ua95LhDxCNxS",
        "outputId": "5664f535-6489-4e27-94f9-154cc88bcb99"
      },
      "outputs": [
        {
          "name": "stdout",
          "output_type": "stream",
          "text": [
            "Epoch 1/6\n",
            "23/23 [==============================] - 276s 12s/step - loss: 0.6388 - accuracy: 0.6529 - val_loss: 0.4822 - val_accuracy: 0.8000\n",
            "Epoch 2/6\n",
            "23/23 [==============================] - 223s 10s/step - loss: 0.3760 - accuracy: 0.8508 - val_loss: 0.3171 - val_accuracy: 0.8785\n",
            "Epoch 3/6\n",
            "23/23 [==============================] - 218s 10s/step - loss: 0.2369 - accuracy: 0.9097 - val_loss: 0.2866 - val_accuracy: 0.8850\n",
            "Epoch 4/6\n",
            "23/23 [==============================] - 218s 9s/step - loss: 0.1975 - accuracy: 0.9289 - val_loss: 0.2726 - val_accuracy: 0.8880\n",
            "Epoch 5/6\n",
            "23/23 [==============================] - 215s 9s/step - loss: 0.1622 - accuracy: 0.9459 - val_loss: 0.2830 - val_accuracy: 0.8930\n",
            "Epoch 6/6\n",
            "23/23 [==============================] - 214s 9s/step - loss: 0.1233 - accuracy: 0.9614 - val_loss: 0.3303 - val_accuracy: 0.8865\n"
          ]
        }
      ],
      "source": [
        "history = model.fit(train_x, train_y, epochs=6, batch_size=1000, validation_data=(validation_x, validation_y))"
      ]
    },
    {
      "cell_type": "code",
      "execution_count": null,
      "metadata": {
        "colab": {
          "base_uri": "https://localhost:8080/",
          "height": 385
        },
        "id": "XmvE56SlCaZi",
        "outputId": "b215bbc6-c615-4197-8354-d07cc7f6a818"
      },
      "outputs": [
        {
          "data": {
            "image/png": "[encoded data removed]",
            "text/plain": [
              "<Figure size 720x360 with 2 Axes>"
            ]
          },
          "metadata": {},
          "output_type": "display_data"
        }
      ],
      "source": [
        "plot_history(history.history, path=\"standard.png\")\n",
        "plt.show()"
      ]
    },
    {
      "cell_type": "markdown",
      "metadata": {
        "id": "rO4fqIaLIDCH"
      },
      "source": [
        "#### Q2 \n",
        "Experiment with training the model with batch sizes of 1, 32, len(training_data). What do you observe?"
      ]
    },
    {
      "cell_type": "code",
      "execution_count": null,
      "metadata": {
        "id": "ZzLlHgDlIRrs"
      },
      "outputs": [],
      "source": [
        "# YOUR CODE GOES HERE\n",
        "#Input layer. \n",
        "target_word = Input((MAX_LENGHT,), dtype='int32')\n",
        "\n",
        "#Embedding layer. \n",
        "target_embedding = Embedding(VOCAB_SIZE, EMBED_SIZE, name='target_embed_layer',\n",
        "                        \tembeddings_initializer='glorot_uniform',mask_zero=True ,\n",
        "                         \tinput_length=1)(target_word)\n",
        "#LSTM layer.\n",
        "target_lstm= LSTM(100, return_sequences=False )(target_embedding)\n",
        "\n",
        "#Output layer. \n",
        "lb = Dense(1, \"sigmoid\")(target_lstm)\n",
        "\n",
        "#Initialise model. \n",
        "model = Model(inputs=target_word, outputs=[lb]) \n",
        "\n",
        "#Compile the model using the <model.compile> command. Use Loss = binary_crossentropy, optimizer = 'adam'.\n",
        "model.compile(loss='binary_crossentropy', optimizer=\"adam\", metrics=[\"accuracy\"])  "
      ]
    },
    {
      "cell_type": "markdown",
      "metadata": {
        "id": "eJxxwoVGXHQr"
      },
      "source": [
        "Bath size=1"
      ]
    },
    {
      "cell_type": "code",
      "execution_count": null,
      "metadata": {
        "colab": {
          "background_save": true,
          "base_uri": "https://localhost:8080/"
        },
        "id": "FhTsc9rBIaBX",
        "outputId": "f0a5b38c-d86d-49b5-9dc4-8efb6c1b729d"
      },
      "outputs": [
        {
          "name": "stdout",
          "output_type": "stream",
          "text": [
            "Epoch 1/4\n",
            "23000/23000 [==============================] - 3646s 158ms/step - loss: 0.4026 - accuracy: 0.8107 - val_loss: 0.2525 - val_accuracy: 0.9050\n",
            "Epoch 2/4\n",
            "23000/23000 [==============================] - 3712s 161ms/step - loss: 0.1959 - accuracy: 0.9240 - val_loss: 0.2456 - val_accuracy: 0.9035\n",
            "Epoch 3/4\n",
            "23000/23000 [==============================] - 3683s 160ms/step - loss: 0.1333 - accuracy: 0.9507 - val_loss: 0.2680 - val_accuracy: 0.8970\n",
            "Epoch 4/4\n",
            "23000/23000 [==============================] - 3679s 160ms/step - loss: 0.0933 - accuracy: 0.9677 - val_loss: 0.3369 - val_accuracy: 0.8955\n"
          ]
        }
      ],
      "source": [
        "history = model.fit(train_x, train_y, epochs=4, batch_size=1, validation_data=(validation_x, validation_y))"
      ]
    },
    {
      "cell_type": "code",
      "execution_count": null,
      "metadata": {
        "colab": {
          "base_uri": "https://localhost:8080/",
          "height": 385
        },
        "id": "Nv2HdpNWIg4D",
        "outputId": "cf69d01d-3128-4fe4-877e-6a6dcdc076ec"
      },
      "outputs": [
        {
          "output_type": "display_data",
          "data": {
            "text/plain": [
              "<Figure size 720x360 with 2 Axes>"
            ],
            "image/png": "[encoded data removed]"
          },
          "metadata": {
            "needs_background": "light"
          }
        }
      ],
      "source": [
        "plot_history(history.history, path=\"standard.png\")\n",
        "plt.show()"
      ]
    },
    {
      "cell_type": "markdown",
      "metadata": {
        "id": "EqN8u47sXQTy"
      },
      "source": [
        "Batch size=32"
      ]
    },
    {
      "cell_type": "code",
      "execution_count": null,
      "metadata": {
        "colab": {
          "base_uri": "https://localhost:8080/"
        },
        "id": "09AP_8qsXTEg",
        "outputId": "9d0d0ed0-2d3c-4c23-b516-51834f51b189"
      },
      "outputs": [
        {
          "name": "stdout",
          "output_type": "stream",
          "text": [
            "Epoch 1/4\n",
            "719/719 [==============================] - 293s 402ms/step - loss: 0.4417 - accuracy: 0.7908 - val_loss: 0.3796 - val_accuracy: 0.8315\n",
            "Epoch 2/4\n",
            "719/719 [==============================] - 291s 404ms/step - loss: 0.2567 - accuracy: 0.9013 - val_loss: 0.3681 - val_accuracy: 0.8440\n",
            "Epoch 3/4\n",
            "719/719 [==============================] - 288s 401ms/step - loss: 0.2262 - accuracy: 0.9102 - val_loss: 0.3454 - val_accuracy: 0.8640\n",
            "Epoch 4/4\n",
            "719/719 [==============================] - 294s 408ms/step - loss: 0.1660 - accuracy: 0.9388 - val_loss: 0.3587 - val_accuracy: 0.8730\n"
          ]
        }
      ],
      "source": [
        "history = model.fit(train_x, train_y, epochs=4, batch_size=32, validation_data=(validation_x, validation_y))"
      ]
    },
    {
      "cell_type": "code",
      "execution_count": null,
      "metadata": {
        "colab": {
          "base_uri": "https://localhost:8080/",
          "height": 385
        },
        "id": "22j-nQU9XXvT",
        "outputId": "c291369b-fadc-4204-d5dc-e844266cc84a"
      },
      "outputs": [
        {
          "data": {
            "image/png": "[encoded data removed]",
            "text/plain": [
              "<Figure size 720x360 with 2 Axes>"
            ]
          },
          "metadata": {},
          "output_type": "display_data"
        }
      ],
      "source": [
        "plot_history(history.history, path=\"standard.png\")\n",
        "plt.show()"
      ]
    },
    {
      "cell_type": "markdown",
      "metadata": {
        "id": "pPjimDR4Xax6"
      },
      "source": [
        "Batch size = train length"
      ]
    },
    {
      "cell_type": "code",
      "execution_count": null,
      "metadata": {
        "colab": {
          "base_uri": "https://localhost:8080/"
        },
        "id": "8JWvYM52Xa6S",
        "outputId": "f8ab2071-bd2b-485c-cafa-31a5f823472d"
      },
      "outputs": [
        {
          "output_type": "stream",
          "name": "stdout",
          "text": [
            "Epoch 1/4\n"
          ]
        }
      ],
      "source": [
        "history = model.fit(train_x, train_y, epochs=4, batch_size=len(train_x), validation_data=(validation_x, validation_y))"
      ]
    },
    {
      "cell_type": "code",
      "execution_count": null,
      "metadata": {
        "id": "1ZOinw8PXa_J"
      },
      "outputs": [],
      "source": [
        "plot_history(history.history, path=\"standard.png\")\n",
        "plt.show()"
      ]
    }
  ],
  "metadata": {
    "colab": {
      "collapsed_sections": [],
      "name": "7001_2021_22_lab2_TextClassificationWithLSTMs.ipynb",
      "toc_visible": true,
      "provenance": []
    },
    "kernelspec": {
      "display_name": "Python 3",
      "name": "python3"
    }
  },
  "nbformat": 4,
  "nbformat_minor": 0
}