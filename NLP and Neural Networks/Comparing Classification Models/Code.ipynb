{
  "cells": [
    {
      "cell_type": "markdown",
      "metadata": {
        "id": "hExKCzh6doIW"
      },
      "source": [
        "# Lab 3 - Comparing Classification Models\n",
        "\n",
        "\n",
        "\n",
        "---\n",
        "\n",
        "\n",
        "\n",
        "\n",
        "\n",
        "\n",
        "\n",
        "\n",
        "\n",
        "\n",
        "\n",
        "\n",
        "\n"
      ]
    },
    {
      "cell_type": "markdown",
      "metadata": {
        "id": "HixoFOoCIJ7V"
      },
      "source": [
        "In this session, we demonstrate how to solve a text classification task using simple \n",
        "feedforward neural network classifier. We will use IMDB Large Movie Review Dataset to train a binary classification model, able to predict whether a review is positive or negative. First, our network takes one-hot word vectors as input, averages them to make one vector and trains a \n",
        "fully-connected layer to predict the output. In the second part, we replace the one-hot vectors with the word embeddings and add a layer to see how much that improves the performance.\n",
        "\n",
        "We are going to use Keras Sequential API in this session. The Sequential API allows you to make models layer-by-layer. But it is not straightforward to define models where layers connect to more than just the previous and next layers. "
      ]
    },
    {
      "cell_type": "code",
      "execution_count": 5,
      "metadata": {
        "id": "m8fpBfhBpupy"
      },
      "outputs": [],
      "source": [
        "import tensorflow.keras as tk\n",
        "import numpy as np\n",
        "from keras.layers import Lambda, GlobalAveragePooling1D, Dense, Embedding\n",
        "from keras import backend as K\n",
        "from keras.models import Sequential\n",
        "import matplotlib.pyplot as plt\n"
      ]
    },
    {
      "cell_type": "markdown",
      "metadata": {
        "id": "cqvPQvgvPv1W"
      },
      "source": [
        "### Downloading data"
      ]
    },
    {
      "cell_type": "markdown",
      "metadata": {
        "id": "EundMtGPpCdf"
      },
      "source": [
        "The dataset we will be using is the IMDB Large Movie Review Dataset, which consists of 50000 labeled movie reviews. These are split into 25,000 reviews for training and 25,000 reviews for testing. The  dataset contains an even number of positive and negative reviews, so randomly guessing yields 50% accuracy. The data is preprocessed. For text classification, it is ususal to limit the size of the vocabulary to stop the dataset from becoming too sparse, creating possible overfitting. We keep the top 10,000 most frequently occurring words in the training data.\n"
      ]
    },
    {
      "cell_type": "code",
      "execution_count": 6,
      "metadata": {
        "colab": {
          "base_uri": "https://localhost:8080/"
        },
        "id": "NyuSzkafqNca",
        "outputId": "44178aaa-4622-43e9-da72-f632c3cffb2f"
      },
      "outputs": [
        {
          "output_type": "stream",
          "name": "stdout",
          "text": [
            "Downloading data from https://storage.googleapis.com/tensorflow/tf-keras-datasets/imdb.npz\n",
            "17465344/17464789 [==============================] - 0s 0us/step\n",
            "17473536/17464789 [==============================] - 0s 0us/step\n"
          ]
        }
      ],
      "source": [
        "imdb = tk.datasets.imdb\n",
        "(X_train, y_train), (X_test, y_test) = imdb.load_data(num_words=10000)"
      ]
    },
    {
      "cell_type": "markdown",
      "metadata": {
        "id": "6U4iCV9-rmay"
      },
      "source": [
        "We now can start playing around with the data, let’s first see the length:"
      ]
    },
    {
      "cell_type": "code",
      "execution_count": 7,
      "metadata": {
        "colab": {
          "base_uri": "https://localhost:8080/"
        },
        "id": "h-gjWRAuqg5s",
        "outputId": "3e5f3f19-8d42-412a-a70d-a8a2049dd8c3"
      },
      "outputs": [
        {
          "output_type": "stream",
          "name": "stdout",
          "text": [
            "Training entries: 25000, labels: 25000\n"
          ]
        }
      ],
      "source": [
        "print(\"Training entries: {}, labels: {}\".format(len(X_train), len(y_train)))"
      ]
    },
    {
      "cell_type": "markdown",
      "metadata": {
        "id": "MTRZrpcyr-4x"
      },
      "source": [
        "The  reviews have been converted to integers and each integer represents a  word in a dictionary. "
      ]
    },
    {
      "cell_type": "code",
      "execution_count": 4,
      "metadata": {
        "colab": {
          "base_uri": "https://localhost:8080/",
          "height": 166
        },
        "id": "79Ev72Kgq4XL",
        "outputId": "6c5f7159-a1cc-4bdb-9d5d-8cdbf37e1205"
      },
      "outputs": [
        {
          "output_type": "error",
          "ename": "NameError",
          "evalue": "ignored",
          "traceback": [
            "\u001b[0;31m---------------------------------------------------------------------------\u001b[0m",
            "\u001b[0;31mNameError\u001b[0m                                 Traceback (most recent call last)",
            "\u001b[0;32m<ipython-input-4-9a42d56787d1>\u001b[0m in \u001b[0;36m<module>\u001b[0;34m()\u001b[0m\n\u001b[0;32m----> 1\u001b[0;31m \u001b[0mX_train\u001b[0m\u001b[0;34m[\u001b[0m\u001b[0;36m0\u001b[0m\u001b[0;34m]\u001b[0m\u001b[0;34m[\u001b[0m\u001b[0;34m:\u001b[0m\u001b[0;36m10\u001b[0m\u001b[0;34m]\u001b[0m\u001b[0;34m\u001b[0m\u001b[0;34m\u001b[0m\u001b[0m\n\u001b[0m",
            "\u001b[0;31mNameError\u001b[0m: name 'X_train' is not defined"
          ]
        }
      ],
      "source": [
        " X_train[0][:10]"
      ]
    },
    {
      "cell_type": "markdown",
      "metadata": {
        "id": "Tvuu4KhStqei"
      },
      "source": [
        "We can convert integers back to words by querying a dictionary object that contains the integer to string mapping:"
      ]
    },
    {
      "cell_type": "code",
      "execution_count": 8,
      "metadata": {
        "colab": {
          "base_uri": "https://localhost:8080/"
        },
        "id": "gMCH1OoDrSNR",
        "outputId": "409dc45e-a5db-4fa0-a2ee-2d255de02d87"
      },
      "outputs": [
        {
          "output_type": "stream",
          "name": "stdout",
          "text": [
            "Downloading data from https://storage.googleapis.com/tensorflow/tf-keras-datasets/imdb_word_index.json\n",
            "1646592/1641221 [==============================] - 0s 0us/step\n",
            "1654784/1641221 [==============================] - 0s 0us/step\n"
          ]
        }
      ],
      "source": [
        "word_index = imdb.get_word_index()"
      ]
    },
    {
      "cell_type": "markdown",
      "metadata": {
        "id": "5IreFXgruZot"
      },
      "source": [
        "Index 1 represents the beginning of the sentence and the index 2 is assigned to all unknown tokens. Index 0 will be used for padding."
      ]
    },
    {
      "cell_type": "code",
      "execution_count": 9,
      "metadata": {
        "id": "abIb7Fe5u3GQ"
      },
      "outputs": [],
      "source": [
        "word_index = {k:(v+3) for k,v in word_index.items()}\n",
        "word_index[\"<PAD>\"] = 0\n",
        "word_index[\"<START>\"] = 1\n",
        "word_index[\"<UNK>\"] = 2  \n",
        "word_index[\"<UNUSED>\"] = 3"
      ]
    },
    {
      "cell_type": "markdown",
      "metadata": {
        "id": "9TnnSuspvC5b"
      },
      "source": [
        "To reverse key and values in a dictionary:"
      ]
    },
    {
      "cell_type": "code",
      "execution_count": 10,
      "metadata": {
        "id": "nKOiVVXQu-_I"
      },
      "outputs": [],
      "source": [
        "reverse_word_index = dict([(value, key) for (key, value) in word_index.items()])"
      ]
    },
    {
      "cell_type": "markdown",
      "metadata": {
        "id": "ZmTJEm8xvUvW"
      },
      "source": [
        "To view a word:"
      ]
    },
    {
      "cell_type": "code",
      "execution_count": null,
      "metadata": {
        "colab": {
          "base_uri": "https://localhost:8080/",
          "height": 34
        },
        "id": "SqN5jgVKvJJZ",
        "outputId": "d1b97293-a527-4b53-966a-a84dc658f2af"
      },
      "outputs": [
        {
          "data": {
            "application/vnd.google.colaboratory.intrinsic+json": {
              "type": "string"
            },
            "text/plain": [
              "'you'"
            ]
          },
          "execution_count": 9,
          "metadata": {},
          "output_type": "execute_result"
        }
      ],
      "source": [
        "reverse_word_index[25]"
      ]
    },
    {
      "cell_type": "markdown",
      "metadata": {
        "id": "Q6QjrzgVvrYn"
      },
      "source": [
        "And to recreate the whole sentence from our training data we define decode_review:\n"
      ]
    },
    {
      "cell_type": "code",
      "execution_count": null,
      "metadata": {
        "id": "wvrKeMgxvWlv"
      },
      "outputs": [],
      "source": [
        "def decode_review(text):\n",
        "    return ' '.join([reverse_word_index.get(i, '?') for i in text])"
      ]
    },
    {
      "cell_type": "code",
      "execution_count": null,
      "metadata": {
        "colab": {
          "base_uri": "https://localhost:8080/",
          "height": 121
        },
        "id": "Sxg4YA_NvdRg",
        "outputId": "0a8e4a43-f9e7-42dd-c3cc-736f77d0ccd8"
      },
      "outputs": [
        {
          "data": {
            "application/vnd.google.colaboratory.intrinsic+json": {
              "type": "string"
            },
            "text/plain": [
              "\"<START> french horror cinema has seen something of a revival over the last couple of years with great films such as inside and <UNK> romance <UNK> on to the scene <UNK> <UNK> the revival just slightly but stands head and shoulders over most modern horror titles and is surely one of the best french horror films ever made <UNK> was obviously shot on a low budget but this is made up for in far more ways than one by the originality of the film and this in turn is <UNK> by the excellent writing and acting that ensure the film is a winner the plot focuses on two main ideas prison and black magic the central character is a man named <UNK> sent to prison for fraud he is put in a cell with three others the quietly insane <UNK> body building <UNK> marcus and his retarded boyfriend daisy after a short while in the cell together they stumble upon a hiding place in the wall that contains an old <UNK> after <UNK> part of it they soon realise its magical powers and realise they may be able to use it to break through the prison walls br br black magic is a very interesting topic and i'm actually quite surprised that there aren't more films based on it as there's so much scope for things to do with it it's fair to say that <UNK> makes the best of it's <UNK> as despite it's <UNK> the film never actually feels restrained and manages to flow well throughout director eric <UNK> provides a great atmosphere for the film the fact that most of it takes place inside the central prison cell <UNK> that the film feels very claustrophobic and this immensely benefits the central idea of the prisoners wanting to use magic to break out of the cell it's very easy to get behind them it's often said that the unknown is the thing that really <UNK> people and this film proves that as the director <UNK> that we can never really be sure of exactly what is round the corner and this helps to ensure that <UNK> actually does manage to be quite frightening the film is memorable for a lot of reasons outside the central plot the characters are all very interesting in their own way and the fact that the book itself almost takes on its own character is very well done anyone worried that the film won't deliver by the end won't be disappointed either as the ending both makes sense and manages to be quite horrifying overall <UNK> is a truly great horror film and one of the best of the decade highly recommended viewing\""
            ]
          },
          "execution_count": 11,
          "metadata": {},
          "output_type": "execute_result"
        }
      ],
      "source": [
        "decode_review(X_train[10])"
      ]
    },
    {
      "cell_type": "markdown",
      "metadata": {
        "id": "c8gIzXncfaJK"
      },
      "source": [
        "### Creating One-hot word vectors"
      ]
    },
    {
      "cell_type": "markdown",
      "metadata": {
        "id": "B9W4yb3rv_E0"
      },
      "source": [
        "It is  common to use one-hot representation as input in Natural Language Processing tasks. In Keras, the Embedding layer takes an index as an input and convert it to one-hot vector with the length of the vocabulary size. Then multiplies these vectors by a normal weight matrix. But there is no way to only get a one-hot vector as the output of a layer in Keras. To solve this we use Lambda() layer and a function that creates the one-hot layer. "
      ]
    },
    {
      "cell_type": "code",
      "execution_count": null,
      "metadata": {
        "id": "RPO_pK9zH4C5"
      },
      "outputs": [],
      "source": [
        "def OneHot(input_dim=None, input_length=None):\n",
        "    \n",
        "    if input_dim is None or input_length is None:\n",
        "        raise TypeError(\"input_dim or input_length is not set\")\n",
        "\n",
        "    \n",
        "    def _one_hot(x, num_classes):\n",
        "        return K.one_hot(K.cast(x, 'uint8'),\n",
        "                          num_classes=num_classes)\n",
        "\n",
        "    return Lambda(_one_hot,\n",
        "                  arguments={'num_classes': input_dim},\n",
        "                  input_shape=(input_length,))"
      ]
    },
    {
      "cell_type": "markdown",
      "metadata": {
        "id": "364d3MAw0ez9"
      },
      "source": [
        "input_dim refers to the length of the one-hot vector and input_length refers to the length of the input sequence. Since the input to K.one_hot should be an integer tensor, we cast x to one (Keras passes around float tensors by default).\n",
        "\n"
      ]
    },
    {
      "cell_type": "markdown",
      "metadata": {
        "id": "VHz76GNA2M4r"
      },
      "source": [
        " Each text sequence has in most cases different length of words. Here, we fill sequences with a pad token (0) to fit the size. This special tokens is then masked not to be accounted in averaging, loss calculation etc. We set the maximum length to 256."
      ]
    },
    {
      "cell_type": "markdown",
      "metadata": {
        "id": "9G_o7PsvgSFt"
      },
      "source": [
        "### Preparing input data"
      ]
    },
    {
      "cell_type": "code",
      "execution_count": 11,
      "metadata": {
        "id": "jiFn7sd_wF5j"
      },
      "outputs": [],
      "source": [
        "VOCAB_SIZE = 10000\n",
        "MAX_SEQUENCE_LENGTH = 256\n",
        "\n",
        "X_train_enc = tk.preprocessing.sequence.pad_sequences(X_train,\n",
        "                                                        value=word_index[\"<PAD>\"],\n",
        "                                                        padding='post',\n",
        "                                                        maxlen=256)\n",
        "\n",
        "X_test_enc = tk.preprocessing.sequence.pad_sequences(X_test,\n",
        "                                                       value=word_index[\"<PAD>\"],\n",
        "                                                       padding='post',\n",
        "                                                       maxlen=256)"
      ]
    },
    {
      "cell_type": "markdown",
      "metadata": {
        "id": "kcjFH1wKF_7d"
      },
      "source": [
        "And to view a padded review:"
      ]
    },
    {
      "cell_type": "code",
      "execution_count": null,
      "metadata": {
        "colab": {
          "base_uri": "https://localhost:8080/"
        },
        "id": "zwH4dcfW_a18",
        "outputId": "768115fd-a4c9-4e9d-bb33-21c247908e71"
      },
      "outputs": [
        {
          "name": "stdout",
          "output_type": "stream",
          "text": [
            "[   1  194 1153  194 8255   78  228    5    6 1463 4369 5012  134   26\n",
            "    4  715    8  118 1634   14  394   20   13  119  954  189  102    5\n",
            "  207  110 3103   21   14   69  188    8   30   23    7    4  249  126\n",
            "   93    4  114    9 2300 1523    5  647    4  116    9   35 8163    4\n",
            "  229    9  340 1322    4  118    9    4  130 4901   19    4 1002    5\n",
            "   89   29  952   46   37    4  455    9   45   43   38 1543 1905  398\n",
            "    4 1649   26 6853    5  163   11 3215    2    4 1153    9  194  775\n",
            "    7 8255    2  349 2637  148  605    2 8003   15  123  125   68    2\n",
            " 6853   15  349  165 4362   98    5    4  228    9   43    2 1157   15\n",
            "  299  120    5  120  174   11  220  175  136   50    9 4373  228 8255\n",
            "    5    2  656  245 2350    5    4 9837  131  152  491   18    2   32\n",
            " 7464 1212   14    9    6  371   78   22  625   64 1382    9    8  168\n",
            "  145   23    4 1690   15   16    4 1355    5   28    6   52  154  462\n",
            "   33   89   78  285   16  145   95    0    0    0    0    0    0    0\n",
            "    0    0    0    0    0    0    0    0    0    0    0    0    0    0\n",
            "    0    0    0    0    0    0    0    0    0    0    0    0    0    0\n",
            "    0    0    0    0    0    0    0    0    0    0    0    0    0    0\n",
            "    0    0    0    0    0    0    0    0    0    0    0    0    0    0\n",
            "    0    0    0    0]\n",
            "\n",
            "Length:  25000\n"
          ]
        }
      ],
      "source": [
        "print(X_train_enc[1])\n",
        "print('\\nLength: ',len(X_train_enc))"
      ]
    },
    {
      "cell_type": "markdown",
      "metadata": {
        "id": "F1zcxFwNGepA"
      },
      "source": [
        "Now we want to build the neural network model. We  are going to have a hidden layer with 16 hidden units. \n",
        "\n",
        "First, we want to transform each index to an embedded vector and then average all vectors to a single one. It has been showed that unweighted average of word vectors outperforms many complicated networks that model semantic and syntactic compositionality. As an example you can take a look at this: (http://anthology.aclweb.org/P/P15/P15-1162.pdf)\n",
        "\n",
        "To average we need to ignore padded zeros:"
      ]
    },
    {
      "cell_type": "code",
      "execution_count": 12,
      "metadata": {
        "id": "Yi04MLIvJOGZ"
      },
      "outputs": [],
      "source": [
        "class GlobalAveragePooling1DMasked(GlobalAveragePooling1D):\n",
        "    def call(self, x, mask=None):\n",
        "        if mask != None:\n",
        "            return K.sum(x, axis=1) / K.sum(mask, axis=1)\n",
        "        else:\n",
        "            return super().call(x)\n"
      ]
    },
    {
      "cell_type": "markdown",
      "metadata": {
        "id": "whgIIB5ggjna"
      },
      "source": [
        "# Model 1: Neural averaging network using one-hot vectors"
      ]
    },
    {
      "cell_type": "markdown",
      "metadata": {
        "id": "jlOLnlnSJgrU"
      },
      "source": [
        "The first layer is an one-hot layer. The second layer is to compute average on all word vectors in a sentence without considering padding. The  output vector is piped through a fully-connected layer. The last layer is connected with a single output node with the sigmoid activation function. The final value is a float between 0 and 1. \n",
        "The vocabulary count of the movie reviews (10000) is used as the input shape. At the end we visualize the model summary."
      ]
    },
    {
      "cell_type": "code",
      "execution_count": 13,
      "metadata": {
        "id": "iKuSmbfohY1n"
      },
      "outputs": [],
      "source": [
        "from keras.layers import Input#, Dot , Activation\n",
        "from keras.layers.core import Dense#, Reshape\n",
        "#from keras.layers.embeddings import Embedding\n",
        "from keras.models import Model\n",
        "#from keras.utils.vis_utils import plot_model"
      ]
    },
    {
      "cell_type": "code",
      "execution_count": null,
      "metadata": {
        "colab": {
          "base_uri": "https://localhost:8080/"
        },
        "id": "yh-Chol8hAww",
        "outputId": "b985afc1-22b5-4b07-f16d-d103f716fc3a"
      },
      "outputs": [
        {
          "name": "stdout",
          "output_type": "stream",
          "text": [
            "Model: \"model\"\n",
            "_________________________________________________________________\n",
            " Layer (type)                Output Shape              Param #   \n",
            "=================================================================\n",
            " input_1 (InputLayer)        [(None, 256)]             0         \n",
            "                                                                 \n",
            " lambda (Lambda)             (None, 256, 10000)        0         \n",
            "                                                                 \n",
            " global_average_pooling1d_ma  (None, 10000)            0         \n",
            " sked (GlobalAveragePooling1                                     \n",
            " DMasked)                                                        \n",
            "                                                                 \n",
            " dense (Dense)               (None, 16)                160016    \n",
            "                                                                 \n",
            " dense_1 (Dense)             (None, 1)                 17        \n",
            "                                                                 \n",
            "=================================================================\n",
            "Total params: 160,033\n",
            "Trainable params: 160,033\n",
            "Non-trainable params: 0\n",
            "_________________________________________________________________\n"
          ]
        }
      ],
      "source": [
        "# your code goes here\n",
        "\n",
        "#Input layer. \n",
        "target_word = Input((MAX_SEQUENCE_LENGTH,), dtype='int32')\n",
        "\n",
        "#One hot vectors. \n",
        "one_hot_vec= OneHot(input_dim=VOCAB_SIZE, input_length=MAX_SEQUENCE_LENGTH)(target_word)\n",
        "\n",
        "#Average one hot vectors. \n",
        "global_pol = GlobalAveragePooling1DMasked()(one_hot_vec)\n",
        "\n",
        "#Hidden layer. \n",
        "hidden_layer = Dense(16, activation=\"tanh\")(global_pol)  #Check between tahn, relu... keep the best. \n",
        "\n",
        "#Output\n",
        "output = Dense(1,activation=\"sigmoid\")(hidden_layer)\n",
        "\n",
        "#Initialise model \n",
        "model = Model(inputs=target_word, outputs=[output]) \n",
        "\n",
        "model.summary() "
      ]
    },
    {
      "cell_type": "markdown",
      "metadata": {
        "id": "_Mz96xpCgvTj"
      },
      "source": [
        "### Training the model"
      ]
    },
    {
      "cell_type": "markdown",
      "metadata": {
        "id": "F3HbW_IKLqwT"
      },
      "source": [
        "To compile the model we need a loss function and an optimizer. We use binary_crossentropy loss function which is just a special case of categorical cross entropy. We also use Adam optimizer that can be used instead of the classical stochastic gradient descent procedure to update network weights iterative based in training data. You can read more about it here:\n",
        "(https://arxiv.org/abs/1412.6980v8\n",
        ")\n"
      ]
    },
    {
      "cell_type": "code",
      "execution_count": null,
      "metadata": {
        "id": "qh1PWTNMxjUw"
      },
      "outputs": [],
      "source": [
        "# your code goes here\n",
        "\n",
        "#Compile model. \n",
        "model.compile(optimizer=\"adam\", loss=\"binary_crossentropy\", metrics=[\"accuracy\"])"
      ]
    },
    {
      "cell_type": "markdown",
      "metadata": {
        "id": "E1jwQQqCN5Ia"
      },
      "source": [
        "When training, we want to check the accuracy of the model on data it hasn't seen before. So we create a validation set:"
      ]
    },
    {
      "cell_type": "code",
      "execution_count": null,
      "metadata": {
        "id": "f5lAqzQlxjSM"
      },
      "outputs": [],
      "source": [
        "X_val = np.array(X_train_enc[:10000])\n",
        "partial_X_train = np.array(X_train_enc[10000:])\n",
        "\n",
        "y_val = np.array(y_train[:10000])\n",
        "partial_y_train = np.array(y_train[10000:])"
      ]
    },
    {
      "cell_type": "markdown",
      "metadata": {
        "id": "E8Kpo5G3OJEY"
      },
      "source": [
        "Then we start to train the model for 40 epochs in mini-batches of 512 samples and monitor the model's loss and accuracy on the validation set."
      ]
    },
    {
      "cell_type": "code",
      "execution_count": null,
      "metadata": {
        "colab": {
          "background_save": true,
          "base_uri": "https://localhost:8080/"
        },
        "id": "99_z39KAxjPi",
        "outputId": "83242c39-08da-48a5-e776-4a4770226289"
      },
      "outputs": [
        {
          "name": "stdout",
          "output_type": "stream",
          "text": [
            "Epoch 1/40\n",
            "30/30 [==============================] - 6s 95ms/step - loss: 0.6926 - accuracy: 0.5030 - val_loss: 0.6918 - val_accuracy: 0.4957\n",
            "Epoch 2/40\n",
            "30/30 [==============================] - 3s 89ms/step - loss: 0.6906 - accuracy: 0.6263 - val_loss: 0.6897 - val_accuracy: 0.6461\n",
            "Epoch 3/40\n",
            "30/30 [==============================] - 3s 88ms/step - loss: 0.6882 - accuracy: 0.5711 - val_loss: 0.6870 - val_accuracy: 0.6545\n",
            "Epoch 4/40\n",
            "30/30 [==============================] - 3s 88ms/step - loss: 0.6849 - accuracy: 0.6643 - val_loss: 0.6835 - val_accuracy: 0.6639\n",
            "Epoch 5/40\n",
            "30/30 [==============================] - 3s 88ms/step - loss: 0.6809 - accuracy: 0.6670 - val_loss: 0.6795 - val_accuracy: 0.6658\n",
            "Epoch 6/40\n",
            "30/30 [==============================] - 3s 87ms/step - loss: 0.6762 - accuracy: 0.6760 - val_loss: 0.6746 - val_accuracy: 0.6707\n",
            "Epoch 7/40\n",
            "30/30 [==============================] - 3s 88ms/step - loss: 0.6708 - accuracy: 0.6778 - val_loss: 0.6698 - val_accuracy: 0.6739\n",
            "Epoch 8/40\n",
            "30/30 [==============================] - 3s 88ms/step - loss: 0.6651 - accuracy: 0.6827 - val_loss: 0.6638 - val_accuracy: 0.6775\n",
            "Epoch 9/40\n",
            "30/30 [==============================] - 3s 88ms/step - loss: 0.6592 - accuracy: 0.6823 - val_loss: 0.6582 - val_accuracy: 0.6810\n",
            "Epoch 10/40\n",
            "30/30 [==============================] - 3s 88ms/step - loss: 0.6527 - accuracy: 0.6885 - val_loss: 0.6523 - val_accuracy: 0.6833\n",
            "Epoch 11/40\n",
            "30/30 [==============================] - 3s 88ms/step - loss: 0.6463 - accuracy: 0.6913 - val_loss: 0.6461 - val_accuracy: 0.6845\n",
            "Epoch 12/40\n",
            "30/30 [==============================] - 3s 88ms/step - loss: 0.6399 - accuracy: 0.6931 - val_loss: 0.6405 - val_accuracy: 0.6886\n",
            "Epoch 13/40\n",
            "30/30 [==============================] - 3s 88ms/step - loss: 0.6336 - accuracy: 0.6941 - val_loss: 0.6343 - val_accuracy: 0.6922\n",
            "Epoch 14/40\n",
            "30/30 [==============================] - 3s 87ms/step - loss: 0.6271 - accuracy: 0.6988 - val_loss: 0.6288 - val_accuracy: 0.6980\n",
            "Epoch 15/40\n",
            "30/30 [==============================] - 3s 88ms/step - loss: 0.6209 - accuracy: 0.7015 - val_loss: 0.6227 - val_accuracy: 0.6985\n",
            "Epoch 16/40\n",
            "30/30 [==============================] - 3s 88ms/step - loss: 0.6151 - accuracy: 0.7033 - val_loss: 0.6177 - val_accuracy: 0.7023\n",
            "Epoch 17/40\n",
            "30/30 [==============================] - 3s 88ms/step - loss: 0.6093 - accuracy: 0.7056 - val_loss: 0.6114 - val_accuracy: 0.7047\n",
            "Epoch 18/40\n",
            "30/30 [==============================] - 3s 88ms/step - loss: 0.6034 - accuracy: 0.7115 - val_loss: 0.6063 - val_accuracy: 0.7108\n",
            "Epoch 19/40\n",
            "30/30 [==============================] - 3s 88ms/step - loss: 0.5978 - accuracy: 0.7140 - val_loss: 0.6028 - val_accuracy: 0.7068\n",
            "Epoch 20/40\n",
            "30/30 [==============================] - 3s 88ms/step - loss: 0.5927 - accuracy: 0.7169 - val_loss: 0.5967 - val_accuracy: 0.7140\n",
            "Epoch 21/40\n",
            "30/30 [==============================] - 3s 88ms/step - loss: 0.5873 - accuracy: 0.7215 - val_loss: 0.5915 - val_accuracy: 0.7071\n",
            "Epoch 22/40\n",
            "30/30 [==============================] - 3s 88ms/step - loss: 0.5827 - accuracy: 0.7215 - val_loss: 0.5865 - val_accuracy: 0.7182\n",
            "Epoch 23/40\n",
            "30/30 [==============================] - 3s 88ms/step - loss: 0.5776 - accuracy: 0.7249 - val_loss: 0.5821 - val_accuracy: 0.7195\n",
            "Epoch 24/40\n",
            "30/30 [==============================] - 3s 88ms/step - loss: 0.5730 - accuracy: 0.7254 - val_loss: 0.5779 - val_accuracy: 0.7243\n",
            "Epoch 25/40\n",
            "30/30 [==============================] - 3s 88ms/step - loss: 0.5688 - accuracy: 0.7259 - val_loss: 0.5741 - val_accuracy: 0.7255\n",
            "Epoch 26/40\n",
            "30/30 [==============================] - 3s 88ms/step - loss: 0.5647 - accuracy: 0.7308 - val_loss: 0.5699 - val_accuracy: 0.7267\n",
            "Epoch 27/40\n",
            "30/30 [==============================] - 3s 89ms/step - loss: 0.5611 - accuracy: 0.7311 - val_loss: 0.5666 - val_accuracy: 0.7237\n",
            "Epoch 28/40\n",
            "30/30 [==============================] - 3s 88ms/step - loss: 0.5570 - accuracy: 0.7346 - val_loss: 0.5628 - val_accuracy: 0.7299\n",
            "Epoch 29/40\n",
            "30/30 [==============================] - 3s 88ms/step - loss: 0.5536 - accuracy: 0.7376 - val_loss: 0.5599 - val_accuracy: 0.7297\n",
            "Epoch 30/40\n",
            "30/30 [==============================] - 3s 88ms/step - loss: 0.5505 - accuracy: 0.7393 - val_loss: 0.5565 - val_accuracy: 0.7324\n",
            "Epoch 31/40\n",
            "30/30 [==============================] - 3s 89ms/step - loss: 0.5472 - accuracy: 0.7409 - val_loss: 0.5535 - val_accuracy: 0.7347\n",
            "Epoch 32/40\n",
            "30/30 [==============================] - 3s 88ms/step - loss: 0.5442 - accuracy: 0.7435 - val_loss: 0.5511 - val_accuracy: 0.7355\n",
            "Epoch 33/40\n",
            "30/30 [==============================] - 3s 88ms/step - loss: 0.5415 - accuracy: 0.7435 - val_loss: 0.5485 - val_accuracy: 0.7375\n",
            "Epoch 34/40\n",
            "30/30 [==============================] - 3s 89ms/step - loss: 0.5390 - accuracy: 0.7445 - val_loss: 0.5463 - val_accuracy: 0.7394\n",
            "Epoch 35/40\n",
            "30/30 [==============================] - 3s 89ms/step - loss: 0.5367 - accuracy: 0.7453 - val_loss: 0.5442 - val_accuracy: 0.7395\n",
            "Epoch 36/40\n",
            "30/30 [==============================] - 3s 89ms/step - loss: 0.5343 - accuracy: 0.7453 - val_loss: 0.5436 - val_accuracy: 0.7358\n",
            "Epoch 37/40\n",
            "30/30 [==============================] - 3s 89ms/step - loss: 0.5324 - accuracy: 0.7473 - val_loss: 0.5403 - val_accuracy: 0.7406\n",
            "Epoch 38/40\n",
            "30/30 [==============================] - 3s 89ms/step - loss: 0.5308 - accuracy: 0.7459 - val_loss: 0.5392 - val_accuracy: 0.7394\n",
            "Epoch 39/40\n",
            "30/30 [==============================] - 3s 89ms/step - loss: 0.5288 - accuracy: 0.7474 - val_loss: 0.5363 - val_accuracy: 0.7439\n",
            "Epoch 40/40\n",
            "30/30 [==============================] - 3s 89ms/step - loss: 0.5267 - accuracy: 0.7497 - val_loss: 0.5350 - val_accuracy: 0.7420\n"
          ]
        }
      ],
      "source": [
        "history = model.fit(partial_X_train,\n",
        "                    partial_y_train,\n",
        "                    epochs=40,\n",
        "                    batch_size=512,\n",
        "                    validation_data=(X_val, y_val),\n",
        "                    verbose=1)"
      ]
    },
    {
      "cell_type": "markdown",
      "metadata": {
        "id": "i_9a_rybhG5J"
      },
      "source": [
        "### Evaluating the model"
      ]
    },
    {
      "cell_type": "markdown",
      "metadata": {
        "id": "EYLH8kOgOo9W"
      },
      "source": [
        "To evaulate the model on test data:"
      ]
    },
    {
      "cell_type": "code",
      "execution_count": null,
      "metadata": {
        "colab": {
          "background_save": true,
          "base_uri": "https://localhost:8080/"
        },
        "id": "CFMt2Q7b3taP",
        "outputId": "e9bbc860-2787-482d-965a-3945a5e3a1b9"
      },
      "outputs": [
        {
          "name": "stdout",
          "output_type": "stream",
          "text": [
            "782/782 [==============================] - 4s 5ms/step - loss: 0.5346 - accuracy: 0.7424\n"
          ]
        }
      ],
      "source": [
        "results = model.evaluate(X_test_enc, y_test)"
      ]
    },
    {
      "cell_type": "code",
      "execution_count": null,
      "metadata": {
        "colab": {
          "background_save": true,
          "base_uri": "https://localhost:8080/"
        },
        "id": "9RrKiPHcAmQU",
        "outputId": "c3d57e6b-7bb0-4592-b0c0-3477664c4a98"
      },
      "outputs": [
        {
          "name": "stdout",
          "output_type": "stream",
          "text": [
            "[0.5346466898918152, 0.7423999905586243]\n"
          ]
        }
      ],
      "source": [
        "print(results)\n",
        "# loss, accuracay "
      ]
    },
    {
      "cell_type": "markdown",
      "metadata": {
        "id": "pW7IpHxMO6qp"
      },
      "source": [
        "Our first model accuracy using one-hot vectors is ~68%\n",
        "\n",
        "\n",
        "\n",
        "\n",
        "\n"
      ]
    },
    {
      "cell_type": "markdown",
      "metadata": {
        "id": "OwZk_yoWhPJB"
      },
      "source": [
        "### Plotting the accuracy graph"
      ]
    },
    {
      "cell_type": "markdown",
      "metadata": {
        "id": "JIDPH1J7PMzN"
      },
      "source": [
        "To plot a graph of accuracy and loss over time we can use Matplotlib:"
      ]
    },
    {
      "cell_type": "code",
      "execution_count": 14,
      "metadata": {
        "colab": {
          "base_uri": "https://localhost:8080/"
        },
        "id": "LS9k2vvSAqB7",
        "outputId": "a0a78ed2-49a7-480c-d687-c76c4aa70771"
      },
      "outputs": [
        {
          "output_type": "stream",
          "name": "stdout",
          "text": [
            "Collecting plot_keras_history\n",
            "  Downloading plot_keras_history-1.1.30.tar.gz (8.6 kB)\n",
            "Requirement already satisfied: matplotlib in /usr/local/lib/python3.7/dist-packages (from plot_keras_history) (3.2.2)\n",
            "Requirement already satisfied: pandas in /usr/local/lib/python3.7/dist-packages (from plot_keras_history) (1.3.5)\n",
            "Requirement already satisfied: scipy in /usr/local/lib/python3.7/dist-packages (from plot_keras_history) (1.4.1)\n",
            "Collecting sanitize_ml_labels>=1.0.28\n",
            "  Downloading sanitize_ml_labels-1.0.29.tar.gz (7.4 kB)\n",
            "Collecting compress_json\n",
            "  Downloading compress_json-1.0.4.tar.gz (4.7 kB)\n",
            "Requirement already satisfied: kiwisolver>=1.0.1 in /usr/local/lib/python3.7/dist-packages (from matplotlib->plot_keras_history) (1.3.2)\n",
            "Requirement already satisfied: python-dateutil>=2.1 in /usr/local/lib/python3.7/dist-packages (from matplotlib->plot_keras_history) (2.8.2)\n",
            "Requirement already satisfied: numpy>=1.11 in /usr/local/lib/python3.7/dist-packages (from matplotlib->plot_keras_history) (1.21.5)\n",
            "Requirement already satisfied: cycler>=0.10 in /usr/local/lib/python3.7/dist-packages (from matplotlib->plot_keras_history) (0.11.0)\n",
            "Requirement already satisfied: pyparsing!=2.0.4,!=2.1.2,!=2.1.6,>=2.0.1 in /usr/local/lib/python3.7/dist-packages (from matplotlib->plot_keras_history) (3.0.7)\n",
            "Requirement already satisfied: six>=1.5 in /usr/local/lib/python3.7/dist-packages (from python-dateutil>=2.1->matplotlib->plot_keras_history) (1.15.0)\n",
            "Requirement already satisfied: pytz>=2017.3 in /usr/local/lib/python3.7/dist-packages (from pandas->plot_keras_history) (2018.9)\n",
            "Building wheels for collected packages: plot-keras-history, sanitize-ml-labels, compress-json\n",
            "  Building wheel for plot-keras-history (setup.py) ... \u001b[?25l\u001b[?25hdone\n",
            "  Created wheel for plot-keras-history: filename=plot_keras_history-1.1.30-py3-none-any.whl size=8794 sha256=2d1d1977ef766e9ce81696c15d7949c1bb3ade08e48575999eccc17bb84b6542\n",
            "  Stored in directory: /root/.cache/pip/wheels/b0/60/47/8c5aa37c06be5e97879ec467bc2e6a30b315d95f662c63a503\n",
            "  Building wheel for sanitize-ml-labels (setup.py) ... \u001b[?25l\u001b[?25hdone\n",
            "  Created wheel for sanitize-ml-labels: filename=sanitize_ml_labels-1.0.29-py3-none-any.whl size=7878 sha256=e7d5fd49b5c28aa77a1c37a9cbeaec3a117228dbb321d560a889ca4aac16c97b\n",
            "  Stored in directory: /root/.cache/pip/wheels/c2/f5/71/d1c459da10abec864a1979b449edbf37d4a82ab3e38a3625a8\n",
            "  Building wheel for compress-json (setup.py) ... \u001b[?25l\u001b[?25hdone\n",
            "  Created wheel for compress-json: filename=compress_json-1.0.4-py3-none-any.whl size=4588 sha256=f99287fa0c0b8636c48ae2b5d6cb96cb5d270a623ba92034ff8f4697e95b0174\n",
            "  Stored in directory: /root/.cache/pip/wheels/1e/ef/1e/5d403c5632b0462471a8d26049d0c138134d0255ec60ce4c14\n",
            "Successfully built plot-keras-history sanitize-ml-labels compress-json\n",
            "Installing collected packages: compress-json, sanitize-ml-labels, plot-keras-history\n",
            "Successfully installed compress-json-1.0.4 plot-keras-history-1.1.30 sanitize-ml-labels-1.0.29\n"
          ]
        }
      ],
      "source": [
        "# your code goes here\n",
        "!pip install plot_keras_history"
      ]
    },
    {
      "cell_type": "code",
      "execution_count": 16,
      "metadata": {
        "id": "OGe5Oq12n0wX"
      },
      "outputs": [],
      "source": [
        "from plot_keras_history import plot_history\n",
        "import matplotlib.pyplot as plt\n",
        "\n",
        "plot_history(history.history, path=\"standard.png\")\n",
        "plt.show()"
      ]
    },
    {
      "cell_type": "markdown",
      "metadata": {
        "id": "a7OwOQw4h8RX"
      },
      "source": [
        "# Model 2: Neural averaging network using embedding layer"
      ]
    },
    {
      "cell_type": "markdown",
      "metadata": {
        "id": "l-QzOMO_P4jc"
      },
      "source": [
        "Now instead of one-hot vectors, we want to use embedding. We change our first layer in model1 to an Embedding layer. This layer takes the integer-encoded vocabulary and looks up the embedding vector for each word-index. These vectors are learned as the model trains. The vectors add a dimension to the output array. The resulting dimensions are: (batch, sequence, embedding)."
      ]
    },
    {
      "cell_type": "code",
      "execution_count": null,
      "metadata": {
        "colab": {
          "background_save": true,
          "base_uri": "https://localhost:8080/"
        },
        "id": "MFrCsL-NBFVL",
        "outputId": "1271bc10-569b-47d1-97a0-93133dc38878"
      },
      "outputs": [
        {
          "name": "stdout",
          "output_type": "stream",
          "text": [
            "Model: \"model_1\"\n",
            "_________________________________________________________________\n",
            " Layer (type)                Output Shape              Param #   \n",
            "=================================================================\n",
            " input_2 (InputLayer)        [(None, 256)]             0         \n",
            "                                                                 \n",
            " target_embed_layer (Embeddi  (None, 256, 256)         2560000   \n",
            " ng)                                                             \n",
            "                                                                 \n",
            " global_average_pooling1d_ma  (None, 256)              0         \n",
            " sked_1 (GlobalAveragePoolin                                     \n",
            " g1DMasked)                                                      \n",
            "                                                                 \n",
            " dense_2 (Dense)             (None, 16)                4112      \n",
            "                                                                 \n",
            " dense_3 (Dense)             (None, 1)                 17        \n",
            "                                                                 \n",
            "=================================================================\n",
            "Total params: 2,564,129\n",
            "Trainable params: 2,564,129\n",
            "Non-trainable params: 0\n",
            "_________________________________________________________________\n",
            "Epoch 1/40\n",
            "30/30 [==============================] - 1s 16ms/step - loss: 0.7133 - accuracy: 0.5035 - val_loss: 0.6939 - val_accuracy: 0.4947\n",
            "Epoch 2/40\n",
            "30/30 [==============================] - 0s 11ms/step - loss: 0.6880 - accuracy: 0.5709 - val_loss: 0.6822 - val_accuracy: 0.6482\n",
            "Epoch 3/40\n",
            "30/30 [==============================] - 0s 11ms/step - loss: 0.6743 - accuracy: 0.7189 - val_loss: 0.6654 - val_accuracy: 0.7550\n",
            "Epoch 4/40\n",
            "30/30 [==============================] - 0s 11ms/step - loss: 0.6480 - accuracy: 0.7721 - val_loss: 0.6325 - val_accuracy: 0.7641\n",
            "Epoch 5/40\n",
            "30/30 [==============================] - 0s 11ms/step - loss: 0.6042 - accuracy: 0.7817 - val_loss: 0.5858 - val_accuracy: 0.7771\n",
            "Epoch 6/40\n",
            "30/30 [==============================] - 0s 11ms/step - loss: 0.5491 - accuracy: 0.8028 - val_loss: 0.5321 - val_accuracy: 0.8016\n",
            "Epoch 7/40\n",
            "30/30 [==============================] - 0s 11ms/step - loss: 0.4905 - accuracy: 0.8311 - val_loss: 0.4790 - val_accuracy: 0.8250\n",
            "Epoch 8/40\n",
            "30/30 [==============================] - 0s 11ms/step - loss: 0.4358 - accuracy: 0.8547 - val_loss: 0.4349 - val_accuracy: 0.8387\n",
            "Epoch 9/40\n",
            "30/30 [==============================] - 0s 11ms/step - loss: 0.3885 - accuracy: 0.8699 - val_loss: 0.3960 - val_accuracy: 0.8545\n",
            "Epoch 10/40\n",
            "30/30 [==============================] - 0s 11ms/step - loss: 0.3498 - accuracy: 0.8834 - val_loss: 0.3690 - val_accuracy: 0.8621\n",
            "Epoch 11/40\n",
            "30/30 [==============================] - 0s 11ms/step - loss: 0.3186 - accuracy: 0.8931 - val_loss: 0.3476 - val_accuracy: 0.8670\n",
            "Epoch 12/40\n",
            "30/30 [==============================] - 0s 11ms/step - loss: 0.2929 - accuracy: 0.9016 - val_loss: 0.3317 - val_accuracy: 0.8725\n",
            "Epoch 13/40\n",
            "30/30 [==============================] - 0s 11ms/step - loss: 0.2700 - accuracy: 0.9094 - val_loss: 0.3188 - val_accuracy: 0.8755\n",
            "Epoch 14/40\n",
            "30/30 [==============================] - 0s 11ms/step - loss: 0.2505 - accuracy: 0.9164 - val_loss: 0.3103 - val_accuracy: 0.8775\n",
            "Epoch 15/40\n",
            "30/30 [==============================] - 0s 11ms/step - loss: 0.2333 - accuracy: 0.9225 - val_loss: 0.3015 - val_accuracy: 0.8797\n",
            "Epoch 16/40\n",
            "30/30 [==============================] - 0s 11ms/step - loss: 0.2178 - accuracy: 0.9284 - val_loss: 0.2968 - val_accuracy: 0.8801\n",
            "Epoch 17/40\n",
            "30/30 [==============================] - 0s 11ms/step - loss: 0.2033 - accuracy: 0.9338 - val_loss: 0.2924 - val_accuracy: 0.8817\n",
            "Epoch 18/40\n",
            "30/30 [==============================] - 0s 11ms/step - loss: 0.1905 - accuracy: 0.9404 - val_loss: 0.2894 - val_accuracy: 0.8833\n",
            "Epoch 19/40\n",
            "30/30 [==============================] - 0s 11ms/step - loss: 0.1786 - accuracy: 0.9451 - val_loss: 0.2888 - val_accuracy: 0.8821\n",
            "Epoch 20/40\n",
            "30/30 [==============================] - 0s 11ms/step - loss: 0.1675 - accuracy: 0.9497 - val_loss: 0.2861 - val_accuracy: 0.8847\n",
            "Epoch 21/40\n",
            "30/30 [==============================] - 0s 11ms/step - loss: 0.1570 - accuracy: 0.9539 - val_loss: 0.2861 - val_accuracy: 0.8863\n",
            "Epoch 22/40\n",
            "30/30 [==============================] - 0s 14ms/step - loss: 0.1478 - accuracy: 0.9583 - val_loss: 0.2870 - val_accuracy: 0.8858\n",
            "Epoch 23/40\n",
            "30/30 [==============================] - 0s 11ms/step - loss: 0.1390 - accuracy: 0.9605 - val_loss: 0.2890 - val_accuracy: 0.8853\n",
            "Epoch 24/40\n",
            "30/30 [==============================] - 0s 11ms/step - loss: 0.1308 - accuracy: 0.9645 - val_loss: 0.2918 - val_accuracy: 0.8845\n",
            "Epoch 25/40\n",
            "30/30 [==============================] - 0s 14ms/step - loss: 0.1251 - accuracy: 0.9659 - val_loss: 0.2942 - val_accuracy: 0.8834\n",
            "Epoch 26/40\n",
            "30/30 [==============================] - 0s 11ms/step - loss: 0.1170 - accuracy: 0.9691 - val_loss: 0.2974 - val_accuracy: 0.8819\n",
            "Epoch 27/40\n",
            "30/30 [==============================] - 0s 11ms/step - loss: 0.1096 - accuracy: 0.9724 - val_loss: 0.2986 - val_accuracy: 0.8830\n",
            "Epoch 28/40\n",
            "30/30 [==============================] - 0s 11ms/step - loss: 0.1039 - accuracy: 0.9741 - val_loss: 0.3021 - val_accuracy: 0.8818\n",
            "Epoch 29/40\n",
            "30/30 [==============================] - 0s 11ms/step - loss: 0.0995 - accuracy: 0.9752 - val_loss: 0.3079 - val_accuracy: 0.8805\n",
            "Epoch 30/40\n",
            "30/30 [==============================] - 0s 11ms/step - loss: 0.0929 - accuracy: 0.9788 - val_loss: 0.3110 - val_accuracy: 0.8797\n",
            "Epoch 31/40\n",
            "30/30 [==============================] - 0s 11ms/step - loss: 0.0869 - accuracy: 0.9811 - val_loss: 0.3156 - val_accuracy: 0.8794\n",
            "Epoch 32/40\n",
            "30/30 [==============================] - 0s 11ms/step - loss: 0.0825 - accuracy: 0.9828 - val_loss: 0.3211 - val_accuracy: 0.8776\n",
            "Epoch 33/40\n",
            "30/30 [==============================] - 0s 11ms/step - loss: 0.0775 - accuracy: 0.9845 - val_loss: 0.3253 - val_accuracy: 0.8778\n",
            "Epoch 34/40\n",
            "30/30 [==============================] - 0s 11ms/step - loss: 0.0734 - accuracy: 0.9853 - val_loss: 0.3297 - val_accuracy: 0.8763\n",
            "Epoch 35/40\n",
            "30/30 [==============================] - 0s 11ms/step - loss: 0.0698 - accuracy: 0.9866 - val_loss: 0.3363 - val_accuracy: 0.8750\n",
            "Epoch 36/40\n",
            "30/30 [==============================] - 0s 11ms/step - loss: 0.0657 - accuracy: 0.9879 - val_loss: 0.3412 - val_accuracy: 0.8744\n",
            "Epoch 37/40\n",
            "30/30 [==============================] - 0s 11ms/step - loss: 0.0629 - accuracy: 0.9891 - val_loss: 0.3464 - val_accuracy: 0.8756\n",
            "Epoch 38/40\n",
            "30/30 [==============================] - 0s 11ms/step - loss: 0.0589 - accuracy: 0.9903 - val_loss: 0.3521 - val_accuracy: 0.8742\n",
            "Epoch 39/40\n",
            "30/30 [==============================] - 0s 11ms/step - loss: 0.0559 - accuracy: 0.9911 - val_loss: 0.3579 - val_accuracy: 0.8741\n",
            "Epoch 40/40\n",
            "30/30 [==============================] - 0s 12ms/step - loss: 0.0527 - accuracy: 0.9927 - val_loss: 0.3646 - val_accuracy: 0.8733\n"
          ]
        }
      ],
      "source": [
        "# your code goes here\n",
        "\n",
        "#Input layer. \n",
        "target_word = Input((MAX_SEQUENCE_LENGTH,), dtype='int32')\n",
        "\n",
        "#Embedding layer. \n",
        "target_embedding = Embedding(VOCAB_SIZE, MAX_SEQUENCE_LENGTH, name='target_embed_layer',\n",
        "                        \tembeddings_initializer='glorot_uniform',\n",
        "                         \tinput_length=1)(target_word)\n",
        "\n",
        "#Average one hot vectors. \n",
        "global_pol = GlobalAveragePooling1DMasked()(target_embedding)\n",
        "\n",
        "#Hidden layer. \n",
        "hidden_layer = Dense(16, activation=\"sigmoid\")(global_pol)  #Check between tahn, relu... keep the best. \n",
        "\n",
        "#Output\n",
        "output = Dense(1,activation=\"sigmoid\")(hidden_layer)\n",
        "\n",
        "#Initialise model \n",
        "model = Model(inputs=target_word, outputs=[output]) \n",
        "\n",
        "model.summary() \n",
        "\n",
        "\n",
        "#Compile model. \n",
        "model.compile(optimizer=\"adam\", loss=\"binary_crossentropy\", metrics=[\"accuracy\"])\n",
        "\n",
        "history = model.fit(partial_X_train, partial_y_train,\n",
        "                    epochs=40,\n",
        "                    batch_size=512,\n",
        "                    validation_data=(X_val, y_val),\n",
        "                    verbose=1)\n"
      ]
    },
    {
      "cell_type": "code",
      "execution_count": null,
      "metadata": {
        "id": "cEb2LIUXPkOa",
        "outputId": "0fab4bee-6b38-4006-b37e-0f2f0d227f0c"
      },
      "outputs": [
        {
          "data": {
            "image/png": "[encoded data removed]",
            "text/plain": [
              "<Figure size 720x360 with 2 Axes>"
            ]
          },
          "metadata": {},
          "output_type": "display_data"
        }
      ],
      "source": [
        "plot_history(history.history, path=\"standard.png\")\n",
        "plt.show()"
      ]
    },
    {
      "cell_type": "code",
      "execution_count": null,
      "metadata": {
        "colab": {
          "base_uri": "https://localhost:8080/"
        },
        "id": "I4zIPJDcTPq3",
        "outputId": "a93679c8-5434-49ba-b2b0-c27099520a7e"
      },
      "outputs": [
        {
          "name": "stdout",
          "output_type": "stream",
          "text": [
            "782/782 [==============================] - 7s 9ms/step - loss: 0.3564 - accuracy: 0.8674: 0s - loss: 0.354\n"
          ]
        }
      ],
      "source": [
        "results = model.evaluate(X_test_enc, y_test)"
      ]
    },
    {
      "cell_type": "code",
      "execution_count": null,
      "metadata": {
        "colab": {
          "base_uri": "https://localhost:8080/"
        },
        "id": "waS96edDTRyL",
        "outputId": "3a13a203-4998-4575-fa12-d608209a50a8"
      },
      "outputs": [
        {
          "name": "stdout",
          "output_type": "stream",
          "text": [
            "[0.3563762605190277, 0.8674399852752686]\n"
          ]
        }
      ],
      "source": [
        "print (results)"
      ]
    },
    {
      "cell_type": "markdown",
      "metadata": {
        "id": "7FBpTc_rXGvQ"
      },
      "source": [
        "The accuracy of model2 is 87%. Using Embedding layer instead of one-hot layer improved the performance."
      ]
    },
    {
      "cell_type": "markdown",
      "metadata": {
        "id": "--020hfG6rN2"
      },
      "source": [
        "# Model 3: Using pre-trained word embeddings"
      ]
    },
    {
      "cell_type": "markdown",
      "metadata": {
        "id": "7GdY2-64YG1B"
      },
      "source": [
        "### Preparing pre-trained word embeddings (GLOVE)"
      ]
    },
    {
      "cell_type": "markdown",
      "metadata": {
        "id": "J4gBeOyi4gkM"
      },
      "source": [
        "The Embedding layer can be used to load a pre-trained word embedding model. We are going to use GloVe embeddings, which you can read about it here (https://nlp.stanford.edu/projects/glove/). GloVe stands for \"Global Vectors for Word Representation\". It's a somewhat popular embedding technique based on factorizing a matrix of word co-occurence statistics. You can download GloVe and we can seed the Keras Embedding layer with weights from the pre-trained embedding for the words in your dataset.\n",
        "First, we need to read GloVe and map words to GloVe:\n"
      ]
    },
    {
      "cell_type": "code",
      "execution_count": 17,
      "metadata": {
        "id": "f_PypdqG9Iis"
      },
      "outputs": [],
      "source": [
        "def readGloveFile(gloveFile):\n",
        "    with open(gloveFile, 'r') as f:\n",
        "        wordToGlove = {}  \n",
        "        wordToIndex = {}  \n",
        "        indexToWord = {}  \n",
        "\n",
        "        for line in f:\n",
        "            record = line.strip().split()\n",
        "            token = record[0] \n",
        "            wordToGlove[token] = np.array(record[1:], dtype=np.float64) \n",
        "            \n",
        "            \n",
        "        tokens = sorted(wordToGlove.keys())\n",
        "        for idx, tok in enumerate(tokens):\n",
        "            kerasIdx = idx + 1  \n",
        "            wordToIndex[tok] = kerasIdx \n",
        "            indexToWord[kerasIdx] = tok \n",
        "\n",
        "    return wordToIndex, indexToWord, wordToGlove"
      ]
    },
    {
      "cell_type": "markdown",
      "metadata": {
        "id": "ZcIZ3dq59bCh"
      },
      "source": [
        "Now, we create our pre-trained Embedding layer:"
      ]
    },
    {
      "cell_type": "code",
      "execution_count": 18,
      "metadata": {
        "id": "gembn7VM3ex8"
      },
      "outputs": [],
      "source": [
        "from keras.initializers import Constant\n",
        "\n",
        "def createPretrainedEmbeddingLayer(wordToGlove, wordToIndex, isTrainable):\n",
        "    vocabLen = len(wordToIndex) + 1  \n",
        "    embDim = next(iter(wordToGlove.values())).shape[0]  \n",
        "   \n",
        "    embeddingMatrix = np.zeros((vocabLen, embDim))  \n",
        "    for word, index in wordToIndex.items():\n",
        "        embeddingMatrix[index, :] = wordToGlove[word] \n",
        "\n",
        "    embeddingLayer = Embedding(vocabLen, embDim, embeddings_initializer=Constant(embeddingMatrix), trainable=isTrainable, name='GloVe_Embeddings')\n",
        "    return embeddingLayer"
      ]
    },
    {
      "cell_type": "code",
      "execution_count": 19,
      "metadata": {
        "colab": {
          "base_uri": "https://localhost:8080/"
        },
        "id": "8OC1wuctdFvA",
        "outputId": "8ffc6883-93a6-429f-e6f9-822e308f383d"
      },
      "outputs": [
        {
          "output_type": "stream",
          "name": "stdout",
          "text": [
            "--2022-03-07 17:34:25--  http://nlp.stanford.edu/data/glove.6B.zip\n",
            "Resolving nlp.stanford.edu (nlp.stanford.edu)... 171.64.67.140\n",
            "Connecting to nlp.stanford.edu (nlp.stanford.edu)|171.64.67.140|:80... connected.\n",
            "HTTP request sent, awaiting response... 302 Found\n",
            "Location: https://nlp.stanford.edu/data/glove.6B.zip [following]\n",
            "--2022-03-07 17:34:25--  https://nlp.stanford.edu/data/glove.6B.zip\n",
            "Connecting to nlp.stanford.edu (nlp.stanford.edu)|171.64.67.140|:443... connected.\n",
            "HTTP request sent, awaiting response... 301 Moved Permanently\n",
            "Location: http://downloads.cs.stanford.edu/nlp/data/glove.6B.zip [following]\n",
            "--2022-03-07 17:34:26--  http://downloads.cs.stanford.edu/nlp/data/glove.6B.zip\n",
            "Resolving downloads.cs.stanford.edu (downloads.cs.stanford.edu)... 171.64.64.22\n",
            "Connecting to downloads.cs.stanford.edu (downloads.cs.stanford.edu)|171.64.64.22|:80... connected.\n",
            "HTTP request sent, awaiting response... 200 OK\n",
            "Length: 862182613 (822M) [application/zip]\n",
            "Saving to: ‘glove.6B.zip’\n",
            "\n",
            "glove.6B.zip        100%[===================>] 822.24M  5.14MB/s    in 2m 42s  \n",
            "\n",
            "2022-03-07 17:37:08 (5.09 MB/s) - ‘glove.6B.zip’ saved [862182613/862182613]\n",
            "\n",
            "Archive:  /content/glove.6B.zip\n",
            "  inflating: glove.6B.50d.txt        \n",
            "  inflating: glove.6B.100d.txt       \n",
            "  inflating: glove.6B.200d.txt       \n",
            "  inflating: glove.6B.300d.txt       \n"
          ]
        }
      ],
      "source": [
        "!wget http://nlp.stanford.edu/data/glove.6B.zip\n",
        "!unzip '/content/glove.6B.zip'"
      ]
    },
    {
      "cell_type": "markdown",
      "metadata": {
        "id": "HGxciLK4-xOr"
      },
      "source": [
        "We freeze the weights. To create the model: "
      ]
    },
    {
      "cell_type": "code",
      "execution_count": 20,
      "metadata": {
        "colab": {
          "base_uri": "https://localhost:8080/"
        },
        "id": "PZCPUM0W_Drc",
        "outputId": "49a697e0-3091-4f06-ee40-64c90569ec79"
      },
      "outputs": [
        {
          "output_type": "stream",
          "name": "stdout",
          "text": [
            "Size of Embedding:  300\n"
          ]
        }
      ],
      "source": [
        "# wordToIndex,indexToWord,wordToGlove=readGloveFile('/content/glove.6B.50d.txt')\n",
        "# wordToIndex,indexToWord,wordToGlove=readGloveFile('/content/glove.6B.100d.txt')\n",
        "wordToIndex,indexToWord,wordToGlove=readGloveFile('/content/glove.6B.300d.txt')\n",
        "\n",
        "# vocabLen = len(wordToIndex) + 1 \n",
        "\n",
        "EMBED_SIZE = next(iter(wordToGlove.values())).shape[0]\n",
        "print('Size of Embedding: ',EMBED_SIZE)\n",
        "\n",
        "embeddingLayer=createPretrainedEmbeddingLayer(wordToGlove,wordToIndex,isTrainable=False)"
      ]
    },
    {
      "cell_type": "markdown",
      "metadata": {
        "id": "vdZ4nl08vp9A"
      },
      "source": [
        "## Model 3-1: Neural bag of words using pre-trained word embeddings"
      ]
    },
    {
      "cell_type": "markdown",
      "metadata": {
        "id": "2gyCwXFj_R5w"
      },
      "source": [
        "Now we change our model to use GloVe:"
      ]
    },
    {
      "cell_type": "code",
      "execution_count": null,
      "metadata": {
        "id": "MFGhxUiYrYl3"
      },
      "outputs": [],
      "source": [
        "# your code goes here\n",
        "\n",
        "#Input layer. \n",
        "target_word = Input((MAX_SEQUENCE_LENGTH,), dtype='int32')\n",
        "\n",
        "#Embedding layer. \n",
        "target_embedding = embeddingLayer(target_word)\n",
        "\n",
        "#Average one hot vectors. \n",
        "global_pol = GlobalAveragePooling1DMasked()(target_embedding)\n",
        "\n",
        "#Hidden layer. \n",
        "hidden_layer = Dense(16, activation=\"sigmoid\")(global_pol)  #Check between tahn, relu... keep the best. \n",
        "\n",
        "#Output\n",
        "output = Dense(1,activation=\"sigmoid\")(hidden_layer)\n",
        "\n",
        "#Initialise model \n",
        "model = Model(inputs=target_word, outputs=[output]) \n",
        "\n",
        "model.summary() \n",
        "\n"
      ]
    },
    {
      "cell_type": "code",
      "execution_count": null,
      "metadata": {
        "colab": {
          "background_save": true
        },
        "id": "r6sj_FnOD9Sb",
        "outputId": "a5862a3e-373e-40d7-de3b-5f43daf360dd"
      },
      "outputs": [
        {
          "name": "stdout",
          "output_type": "stream",
          "text": [
            "Epoch 1/40\n",
            "30/30 [==============================] - 4s 125ms/step - loss: 0.5313 - accuracy: 0.9361 - val_loss: 0.4503 - val_accuracy: 0.8635\n",
            "Epoch 2/40\n",
            "30/30 [==============================] - 3s 116ms/step - loss: 0.3038 - accuracy: 0.9965 - val_loss: 0.3545 - val_accuracy: 0.8642\n",
            "Epoch 3/40\n",
            "30/30 [==============================] - 4s 118ms/step - loss: 0.1977 - accuracy: 0.9963 - val_loss: 0.3217 - val_accuracy: 0.8674\n",
            "Epoch 4/40\n",
            "30/30 [==============================] - 4s 118ms/step - loss: 0.1421 - accuracy: 0.9973 - val_loss: 0.3131 - val_accuracy: 0.8696\n",
            "Epoch 5/40\n",
            "30/30 [==============================] - 4s 118ms/step - loss: 0.1091 - accuracy: 0.9974 - val_loss: 0.3152 - val_accuracy: 0.8715\n",
            "Epoch 6/40\n",
            "30/30 [==============================] - 4s 118ms/step - loss: 0.0875 - accuracy: 0.9973 - val_loss: 0.3227 - val_accuracy: 0.8719\n",
            "Epoch 7/40\n",
            "30/30 [==============================] - 3s 116ms/step - loss: 0.0724 - accuracy: 0.9974 - val_loss: 0.3331 - val_accuracy: 0.8699\n",
            "Epoch 8/40\n",
            "30/30 [==============================] - 4s 118ms/step - loss: 0.0609 - accuracy: 0.9978 - val_loss: 0.3440 - val_accuracy: 0.8700\n",
            "Epoch 9/40\n",
            "30/30 [==============================] - 4s 117ms/step - loss: 0.0522 - accuracy: 0.9980 - val_loss: 0.3566 - val_accuracy: 0.8692\n",
            "Epoch 10/40\n",
            "30/30 [==============================] - 4s 117ms/step - loss: 0.0455 - accuracy: 0.9983 - val_loss: 0.3690 - val_accuracy: 0.8699\n",
            "Epoch 11/40\n",
            "30/30 [==============================] - 3s 116ms/step - loss: 0.0398 - accuracy: 0.9984 - val_loss: 0.3813 - val_accuracy: 0.8686\n",
            "Epoch 12/40\n",
            "30/30 [==============================] - 4s 118ms/step - loss: 0.0351 - accuracy: 0.9985 - val_loss: 0.3950 - val_accuracy: 0.8668\n",
            "Epoch 13/40\n",
            "30/30 [==============================] - 4s 117ms/step - loss: 0.0315 - accuracy: 0.9987 - val_loss: 0.4076 - val_accuracy: 0.8666\n",
            "Epoch 14/40\n",
            "30/30 [==============================] - 4s 117ms/step - loss: 0.0281 - accuracy: 0.9988 - val_loss: 0.4189 - val_accuracy: 0.8676\n",
            "Epoch 15/40\n",
            "30/30 [==============================] - 3s 117ms/step - loss: 0.0256 - accuracy: 0.9989 - val_loss: 0.4321 - val_accuracy: 0.8665\n",
            "Epoch 16/40\n",
            "30/30 [==============================] - 3s 116ms/step - loss: 0.0230 - accuracy: 0.9990 - val_loss: 0.4430 - val_accuracy: 0.8670\n",
            "Epoch 17/40\n",
            "30/30 [==============================] - 4s 118ms/step - loss: 0.0209 - accuracy: 0.9991 - val_loss: 0.4552 - val_accuracy: 0.8654\n",
            "Epoch 18/40\n",
            "30/30 [==============================] - 4s 118ms/step - loss: 0.0191 - accuracy: 0.9992 - val_loss: 0.4663 - val_accuracy: 0.8663\n",
            "Epoch 19/40\n",
            "30/30 [==============================] - 4s 118ms/step - loss: 0.0175 - accuracy: 0.9992 - val_loss: 0.4770 - val_accuracy: 0.8665\n",
            "Epoch 20/40\n",
            "30/30 [==============================] - 4s 117ms/step - loss: 0.0162 - accuracy: 0.9993 - val_loss: 0.4885 - val_accuracy: 0.8654\n",
            "Epoch 21/40\n",
            "30/30 [==============================] - 4s 117ms/step - loss: 0.0149 - accuracy: 0.9993 - val_loss: 0.4980 - val_accuracy: 0.8655\n",
            "Epoch 22/40\n",
            "30/30 [==============================] - 4s 118ms/step - loss: 0.0139 - accuracy: 0.9995 - val_loss: 0.5088 - val_accuracy: 0.8654\n",
            "Epoch 23/40\n",
            "30/30 [==============================] - 3s 117ms/step - loss: 0.0127 - accuracy: 0.9994 - val_loss: 0.5182 - val_accuracy: 0.8651\n",
            "Epoch 24/40\n",
            "30/30 [==============================] - 4s 117ms/step - loss: 0.0121 - accuracy: 0.9994 - val_loss: 0.5282 - val_accuracy: 0.8650\n",
            "Epoch 25/40\n",
            "30/30 [==============================] - 3s 116ms/step - loss: 0.0110 - accuracy: 0.9995 - val_loss: 0.5377 - val_accuracy: 0.8650\n",
            "Epoch 26/40\n",
            "30/30 [==============================] - 3s 116ms/step - loss: 0.0104 - accuracy: 0.9995 - val_loss: 0.5481 - val_accuracy: 0.8648\n",
            "Epoch 27/40\n",
            "30/30 [==============================] - 4s 118ms/step - loss: 0.0096 - accuracy: 0.9996 - val_loss: 0.5563 - val_accuracy: 0.8648\n",
            "Epoch 28/40\n",
            "30/30 [==============================] - 3s 116ms/step - loss: 0.0091 - accuracy: 0.9997 - val_loss: 0.5651 - val_accuracy: 0.8642\n",
            "Epoch 29/40\n",
            "30/30 [==============================] - 3s 116ms/step - loss: 0.0086 - accuracy: 0.9996 - val_loss: 0.5728 - val_accuracy: 0.8637\n",
            "Epoch 30/40\n",
            "30/30 [==============================] - 3s 116ms/step - loss: 0.0082 - accuracy: 0.9997 - val_loss: 0.5810 - val_accuracy: 0.8644\n",
            "Epoch 31/40\n",
            "30/30 [==============================] - 4s 117ms/step - loss: 0.0077 - accuracy: 0.9997 - val_loss: 0.5899 - val_accuracy: 0.8636\n",
            "Epoch 32/40\n",
            "30/30 [==============================] - 4s 118ms/step - loss: 0.0072 - accuracy: 0.9997 - val_loss: 0.5977 - val_accuracy: 0.8641\n",
            "Epoch 33/40\n",
            "30/30 [==============================] - 4s 118ms/step - loss: 0.0069 - accuracy: 0.9997 - val_loss: 0.6054 - val_accuracy: 0.8634\n",
            "Epoch 34/40\n",
            "30/30 [==============================] - 4s 117ms/step - loss: 0.0066 - accuracy: 0.9997 - val_loss: 0.6135 - val_accuracy: 0.8623\n",
            "Epoch 35/40\n",
            "30/30 [==============================] - 4s 117ms/step - loss: 0.0062 - accuracy: 0.9997 - val_loss: 0.6206 - val_accuracy: 0.8636\n",
            "Epoch 36/40\n",
            "30/30 [==============================] - 4s 117ms/step - loss: 0.0058 - accuracy: 0.9997 - val_loss: 0.6273 - val_accuracy: 0.8637\n",
            "Epoch 37/40\n",
            "30/30 [==============================] - 4s 118ms/step - loss: 0.0055 - accuracy: 0.9997 - val_loss: 0.6345 - val_accuracy: 0.8634\n",
            "Epoch 38/40\n",
            "30/30 [==============================] - 4s 119ms/step - loss: 0.0053 - accuracy: 0.9998 - val_loss: 0.6412 - val_accuracy: 0.8623\n",
            "Epoch 39/40\n",
            "30/30 [==============================] - 4s 118ms/step - loss: 0.0051 - accuracy: 0.9997 - val_loss: 0.6483 - val_accuracy: 0.8627\n",
            "Epoch 40/40\n",
            "30/30 [==============================] - 4s 118ms/step - loss: 0.0049 - accuracy: 0.9998 - val_loss: 0.6547 - val_accuracy: 0.8627\n"
          ]
        }
      ],
      "source": [
        "# Train and test the model\n",
        "\n",
        "#Compile model. \n",
        "model.compile(optimizer=\"adam\", loss=\"binary_crossentropy\", metrics=[\"accuracy\"])\n",
        "\n",
        "history = model.fit(partial_X_train, partial_y_train,\n",
        "                    epochs=40,\n",
        "                    batch_size=512,\n",
        "                    validation_data=(X_val, y_val),\n",
        "                    verbose=1)\n",
        "\n"
      ]
    },
    {
      "cell_type": "code",
      "execution_count": null,
      "metadata": {
        "colab": {
          "background_save": true,
          "base_uri": "https://localhost:8080/"
        },
        "id": "Td9SyqN4YFla",
        "outputId": "bd48309b-626c-4813-acdc-6921d58f6712"
      },
      "outputs": [
        {
          "name": "stdout",
          "output_type": "stream",
          "text": [
            "782/782 [==============================] - 2s 3ms/step - loss: 0.6990 - accuracy: 0.8489\n"
          ]
        }
      ],
      "source": [
        "results = model.evaluate(X_test_enc, y_test)\n"
      ]
    },
    {
      "cell_type": "code",
      "execution_count": null,
      "metadata": {
        "colab": {
          "background_save": true,
          "base_uri": "https://localhost:8080/"
        },
        "id": "4_O4T2zUYLnb",
        "outputId": "7f044fa3-198d-46e7-e3ee-014bde21fc89"
      },
      "outputs": [
        {
          "name": "stdout",
          "output_type": "stream",
          "text": [
            "[0.6990035772323608, 0.8489199876785278]\n"
          ]
        }
      ],
      "source": [
        "print(results)"
      ]
    },
    {
      "cell_type": "markdown",
      "metadata": {
        "id": "wxJhlT3whoDE"
      },
      "source": [
        "To compare freezing and fine-tuning the pre-train embedding weights, we fine-tune the weights here:"
      ]
    },
    {
      "cell_type": "code",
      "execution_count": 21,
      "metadata": {
        "colab": {
          "base_uri": "https://localhost:8080/"
        },
        "id": "u_xmeuuhhtbH",
        "outputId": "65a7e2d4-d0a2-404d-fdbf-9fc1b15c0a0f"
      },
      "outputs": [
        {
          "output_type": "stream",
          "name": "stdout",
          "text": [
            "Model: \"model\"\n",
            "_________________________________________________________________\n",
            " Layer (type)                Output Shape              Param #   \n",
            "=================================================================\n",
            " input_1 (InputLayer)        [(None, 256)]             0         \n",
            "                                                                 \n",
            " GloVe_Embeddings (Embedding  (None, 256, 300)         120000300 \n",
            " )                                                               \n",
            "                                                                 \n",
            " global_average_pooling1d_ma  (None, 300)              0         \n",
            " sked (GlobalAveragePooling1                                     \n",
            " DMasked)                                                        \n",
            "                                                                 \n",
            " dense (Dense)               (None, 16)                4816      \n",
            "                                                                 \n",
            " dense_1 (Dense)             (None, 1)                 17        \n",
            "                                                                 \n",
            "=================================================================\n",
            "Total params: 120,005,133\n",
            "Trainable params: 120,005,133\n",
            "Non-trainable params: 0\n",
            "_________________________________________________________________\n"
          ]
        }
      ],
      "source": [
        "# your code goes here\n",
        "#Not frozen --> fine-tuning (isTrainable=True)\n",
        "embeddingLayer=createPretrainedEmbeddingLayer(wordToGlove,wordToIndex,isTrainable=True)\n",
        "\n",
        "#Input layer. \n",
        "target_word = Input((MAX_SEQUENCE_LENGTH,), dtype='int32')\n",
        "\n",
        "#Embedding layer. \n",
        "target_embedding = embeddingLayer(target_word)\n",
        "\n",
        "#Average one hot vectors. \n",
        "global_pol = GlobalAveragePooling1DMasked()(target_embedding)\n",
        "\n",
        "#Hidden layer. \n",
        "hidden_layer = Dense(16, activation=\"sigmoid\")(global_pol)  #Check between tahn, relu... keep the best. \n",
        "\n",
        "#Output\n",
        "output = Dense(1,activation=\"sigmoid\")(hidden_layer)\n",
        "\n",
        "#Initialise model \n",
        "model3 = Model(inputs=target_word, outputs=[output]) \n",
        "\n",
        "model3.summary() \n",
        "\n"
      ]
    },
    {
      "cell_type": "code",
      "execution_count": null,
      "metadata": {
        "colab": {
          "base_uri": "https://localhost:8080/"
        },
        "id": "3rz8MEm6iHj6",
        "outputId": "39e63600-529b-4d6e-b2fa-d39647a2c7cb"
      },
      "outputs": [
        {
          "name": "stdout",
          "output_type": "stream",
          "text": [
            "Epoch 1/40\n",
            "30/30 [==============================] - 3s 82ms/step - loss: 0.6956 - accuracy: 0.5090 - val_loss: 0.6899 - val_accuracy: 0.5333\n",
            "Epoch 2/40\n",
            "30/30 [==============================] - 2s 77ms/step - loss: 0.6857 - accuracy: 0.5965 - val_loss: 0.6821 - val_accuracy: 0.6263\n",
            "Epoch 3/40\n",
            "30/30 [==============================] - 2s 75ms/step - loss: 0.6751 - accuracy: 0.6535 - val_loss: 0.6690 - val_accuracy: 0.6582\n",
            "Epoch 4/40\n",
            "30/30 [==============================] - 2s 75ms/step - loss: 0.6560 - accuracy: 0.6816 - val_loss: 0.6457 - val_accuracy: 0.6773\n",
            "Epoch 5/40\n",
            "30/30 [==============================] - 2s 79ms/step - loss: 0.6256 - accuracy: 0.7101 - val_loss: 0.6117 - val_accuracy: 0.7172\n",
            "Epoch 6/40\n",
            "30/30 [==============================] - 2s 77ms/step - loss: 0.5834 - accuracy: 0.7469 - val_loss: 0.5678 - val_accuracy: 0.7552\n",
            "Epoch 7/40\n",
            "30/30 [==============================] - 2s 80ms/step - loss: 0.5311 - accuracy: 0.7843 - val_loss: 0.5163 - val_accuracy: 0.7944\n",
            "Epoch 8/40\n",
            "30/30 [==============================] - 2s 77ms/step - loss: 0.4752 - accuracy: 0.8195 - val_loss: 0.4665 - val_accuracy: 0.8120\n",
            "Epoch 9/40\n",
            "30/30 [==============================] - 2s 82ms/step - loss: 0.4226 - accuracy: 0.8483 - val_loss: 0.4219 - val_accuracy: 0.8372\n",
            "Epoch 10/40\n",
            "30/30 [==============================] - 2s 75ms/step - loss: 0.3787 - accuracy: 0.8645 - val_loss: 0.3885 - val_accuracy: 0.8489\n",
            "Epoch 11/40\n",
            "30/30 [==============================] - 2s 77ms/step - loss: 0.3434 - accuracy: 0.8791 - val_loss: 0.3634 - val_accuracy: 0.8601\n",
            "Epoch 12/40\n",
            "30/30 [==============================] - 2s 77ms/step - loss: 0.3154 - accuracy: 0.8877 - val_loss: 0.3454 - val_accuracy: 0.8649\n",
            "Epoch 13/40\n",
            "30/30 [==============================] - 2s 80ms/step - loss: 0.2908 - accuracy: 0.8979 - val_loss: 0.3302 - val_accuracy: 0.8704\n",
            "Epoch 14/40\n",
            "30/30 [==============================] - 2s 78ms/step - loss: 0.2700 - accuracy: 0.9051 - val_loss: 0.3193 - val_accuracy: 0.8733\n",
            "Epoch 15/40\n",
            "30/30 [==============================] - 2s 77ms/step - loss: 0.2524 - accuracy: 0.9112 - val_loss: 0.3089 - val_accuracy: 0.8770\n",
            "Epoch 16/40\n",
            "30/30 [==============================] - 2s 77ms/step - loss: 0.2351 - accuracy: 0.9193 - val_loss: 0.3020 - val_accuracy: 0.8788\n",
            "Epoch 17/40\n",
            "30/30 [==============================] - 2s 75ms/step - loss: 0.2201 - accuracy: 0.9250 - val_loss: 0.2976 - val_accuracy: 0.8789\n",
            "Epoch 18/40\n",
            "30/30 [==============================] - 2s 78ms/step - loss: 0.2090 - accuracy: 0.9282 - val_loss: 0.2948 - val_accuracy: 0.8787\n",
            "Epoch 19/40\n",
            "30/30 [==============================] - 2s 78ms/step - loss: 0.1951 - accuracy: 0.9355 - val_loss: 0.2894 - val_accuracy: 0.8828\n",
            "Epoch 20/40\n",
            "30/30 [==============================] - 2s 77ms/step - loss: 0.1834 - accuracy: 0.9408 - val_loss: 0.2874 - val_accuracy: 0.8840\n",
            "Epoch 21/40\n",
            "30/30 [==============================] - 2s 75ms/step - loss: 0.1732 - accuracy: 0.9455 - val_loss: 0.2868 - val_accuracy: 0.8854\n",
            "Epoch 22/40\n",
            "30/30 [==============================] - 2s 78ms/step - loss: 0.1635 - accuracy: 0.9500 - val_loss: 0.2862 - val_accuracy: 0.8843\n",
            "Epoch 23/40\n",
            "30/30 [==============================] - 2s 77ms/step - loss: 0.1543 - accuracy: 0.9533 - val_loss: 0.2870 - val_accuracy: 0.8852\n",
            "Epoch 24/40\n",
            "30/30 [==============================] - 2s 78ms/step - loss: 0.1465 - accuracy: 0.9567 - val_loss: 0.2879 - val_accuracy: 0.8849\n",
            "Epoch 25/40\n",
            "30/30 [==============================] - 2s 77ms/step - loss: 0.1382 - accuracy: 0.9600 - val_loss: 0.2891 - val_accuracy: 0.8833\n",
            "Epoch 26/40\n",
            "30/30 [==============================] - 2s 75ms/step - loss: 0.1303 - accuracy: 0.9635 - val_loss: 0.2910 - val_accuracy: 0.8844\n",
            "Epoch 27/40\n",
            "30/30 [==============================] - 2s 75ms/step - loss: 0.1235 - accuracy: 0.9657 - val_loss: 0.2923 - val_accuracy: 0.8841\n",
            "Epoch 28/40\n",
            "30/30 [==============================] - 2s 76ms/step - loss: 0.1174 - accuracy: 0.9689 - val_loss: 0.2954 - val_accuracy: 0.8832\n",
            "Epoch 29/40\n",
            "30/30 [==============================] - 2s 78ms/step - loss: 0.1120 - accuracy: 0.9702 - val_loss: 0.2993 - val_accuracy: 0.8825\n",
            "Epoch 30/40\n",
            "30/30 [==============================] - 2s 75ms/step - loss: 0.1054 - accuracy: 0.9724 - val_loss: 0.3024 - val_accuracy: 0.8815\n",
            "Epoch 31/40\n",
            "30/30 [==============================] - 2s 75ms/step - loss: 0.1002 - accuracy: 0.9749 - val_loss: 0.3069 - val_accuracy: 0.8815\n",
            "Epoch 32/40\n",
            "30/30 [==============================] - 2s 75ms/step - loss: 0.0957 - accuracy: 0.9759 - val_loss: 0.3093 - val_accuracy: 0.8804\n",
            "Epoch 33/40\n",
            "30/30 [==============================] - 2s 77ms/step - loss: 0.0904 - accuracy: 0.9781 - val_loss: 0.3140 - val_accuracy: 0.8798\n",
            "Epoch 34/40\n",
            "30/30 [==============================] - 2s 77ms/step - loss: 0.0858 - accuracy: 0.9800 - val_loss: 0.3175 - val_accuracy: 0.8792\n",
            "Epoch 35/40\n",
            "30/30 [==============================] - 2s 74ms/step - loss: 0.0812 - accuracy: 0.9816 - val_loss: 0.3232 - val_accuracy: 0.8790\n",
            "Epoch 36/40\n",
            "30/30 [==============================] - 2s 75ms/step - loss: 0.0771 - accuracy: 0.9835 - val_loss: 0.3271 - val_accuracy: 0.8769\n",
            "Epoch 37/40\n",
            "30/30 [==============================] - 2s 74ms/step - loss: 0.0732 - accuracy: 0.9845 - val_loss: 0.3333 - val_accuracy: 0.8772\n",
            "Epoch 38/40\n",
            "30/30 [==============================] - 2s 77ms/step - loss: 0.0701 - accuracy: 0.9851 - val_loss: 0.3374 - val_accuracy: 0.8765\n",
            "Epoch 39/40\n",
            "30/30 [==============================] - 2s 77ms/step - loss: 0.0663 - accuracy: 0.9871 - val_loss: 0.3428 - val_accuracy: 0.8765\n",
            "Epoch 40/40\n",
            "30/30 [==============================] - 2s 77ms/step - loss: 0.0626 - accuracy: 0.9884 - val_loss: 0.3498 - val_accuracy: 0.8755\n"
          ]
        }
      ],
      "source": [
        "# Train and test the model\n",
        "# Train and test the model\n",
        "\n",
        "#Compile model. \n",
        "model3.compile(optimizer=\"adam\", loss=\"binary_crossentropy\", metrics=[\"accuracy\"])\n",
        "\n",
        "history = model3.fit(partial_X_train, partial_y_train,\n",
        "                    epochs=40,\n",
        "                    batch_size=512,\n",
        "                    validation_data=(X_val, y_val),\n",
        "                    verbose=1)\n"
      ]
    },
    {
      "cell_type": "code",
      "execution_count": null,
      "metadata": {
        "colab": {
          "base_uri": "https://localhost:8080/"
        },
        "id": "J1p8xesuj8Po",
        "outputId": "76dc169a-8555-4874-8fe5-0b606876a1e0"
      },
      "outputs": [
        {
          "name": "stdout",
          "output_type": "stream",
          "text": [
            "782/782 [==============================] - 3s 4ms/step - loss: 0.3731 - accuracy: 0.8665\n"
          ]
        }
      ],
      "source": [
        "results = model3.evaluate(X_test_enc, y_test)"
      ]
    },
    {
      "cell_type": "code",
      "execution_count": null,
      "metadata": {
        "colab": {
          "base_uri": "https://localhost:8080/"
        },
        "id": "thUvAhqmkAie",
        "outputId": "fa3a03b7-69fc-4e31-dac1-50af004ab482"
      },
      "outputs": [
        {
          "name": "stdout",
          "output_type": "stream",
          "text": [
            "[0.373094767332077, 0.8664799928665161]\n"
          ]
        }
      ],
      "source": [
        "print(results)"
      ]
    },
    {
      "cell_type": "markdown",
      "metadata": {
        "id": "cAdOh2IHnKuT"
      },
      "source": [
        "Experiments here show that fine-tuning the pre-trained embeddings would obtain better accuracy.\n",
        "\n",
        "Note that although fine-tuning the pre-trained embeddings is better here, we do not fine-tune it in other models. You could conduct extra experiments to compare the results."
      ]
    },
    {
      "cell_type": "markdown",
      "metadata": {
        "id": "xZ1KWFKvcagS"
      },
      "source": [
        "##  Model 3-2: LSTM with pre-trained word embeddings"
      ]
    },
    {
      "cell_type": "markdown",
      "metadata": {
        "id": "S1lKisy3kb60"
      },
      "source": [
        "In previous labs, we have conducted an experiment based on LSTM. Now, we replace its embeddings with the GloVe pre-trained embeddings."
      ]
    },
    {
      "cell_type": "code",
      "execution_count": 43,
      "metadata": {
        "colab": {
          "base_uri": "https://localhost:8080/"
        },
        "id": "KG5oTQaYkbFI",
        "outputId": "5558607d-4ec0-4689-f80a-ca1acd2f9f79"
      },
      "outputs": [
        {
          "output_type": "stream",
          "name": "stdout",
          "text": [
            "Model: \"model_9\"\n",
            "_________________________________________________________________\n",
            " Layer (type)                Output Shape              Param #   \n",
            "=================================================================\n",
            " input_10 (InputLayer)       [(None, 256)]             0         \n",
            "                                                                 \n",
            " GloVe_Embeddings (Embedding  (None, 256, 300)         120000300 \n",
            " )                                                               \n",
            "                                                                 \n",
            " lstm_8 (LSTM)               (None, 100)               160400    \n",
            "                                                                 \n",
            " dense_10 (Dense)            (None, 1)                 101       \n",
            "                                                                 \n",
            "=================================================================\n",
            "Total params: 120,160,801\n",
            "Trainable params: 120,160,801\n",
            "Non-trainable params: 0\n",
            "_________________________________________________________________\n"
          ]
        }
      ],
      "source": [
        "from keras.layers import LSTM\n",
        "# your code goes here #fine tuning.\n",
        "embeddingLayer=createPretrainedEmbeddingLayer(wordToGlove,wordToIndex,isTrainable=True)\n",
        "#Input layer. \n",
        "target_word = Input((MAX_SEQUENCE_LENGTH,), dtype='int32')\n",
        "\n",
        "#Embedding layer. \n",
        "target_embedding = embeddingLayer(target_word)\n",
        "\n",
        "#Hidden layer. \n",
        "LSTM_layer = LSTM(100)(target_embedding)  \n",
        "\n",
        "#Output\n",
        "output = Dense(1,activation=\"sigmoid\")(LSTM_layer)\n",
        "\n",
        "#Initialise model \n",
        "model7 = Model(inputs=target_word, outputs=[output]) \n",
        "\n",
        "model7.summary() "
      ]
    },
    {
      "cell_type": "code",
      "execution_count": 44,
      "metadata": {
        "colab": {
          "base_uri": "https://localhost:8080/"
        },
        "id": "EqyL_rhaUElx",
        "outputId": "aca0cf36-90e5-4233-bbb4-9d4b340791d5"
      },
      "outputs": [
        {
          "output_type": "stream",
          "name": "stdout",
          "text": [
            "Epoch 1/40\n",
            "30/30 [==============================] - 11s 295ms/step - loss: 0.6894 - accuracy: 0.5179 - val_loss: 0.6808 - val_accuracy: 0.5364\n",
            "Epoch 2/40\n",
            "30/30 [==============================] - 8s 276ms/step - loss: 0.6640 - accuracy: 0.5771 - val_loss: 0.6770 - val_accuracy: 0.5528\n",
            "Epoch 3/40\n",
            "30/30 [==============================] - 8s 276ms/step - loss: 0.6480 - accuracy: 0.5871 - val_loss: 0.6339 - val_accuracy: 0.6107\n",
            "Epoch 4/40\n",
            "30/30 [==============================] - 8s 275ms/step - loss: 0.6695 - accuracy: 0.5876 - val_loss: 0.6696 - val_accuracy: 0.5487\n",
            "Epoch 5/40\n",
            "30/30 [==============================] - 8s 276ms/step - loss: 0.6387 - accuracy: 0.5853 - val_loss: 0.6602 - val_accuracy: 0.5584\n",
            "Epoch 6/40\n",
            "30/30 [==============================] - 8s 275ms/step - loss: 0.6085 - accuracy: 0.6122 - val_loss: 0.6875 - val_accuracy: 0.5481\n",
            "Epoch 7/40\n",
            "30/30 [==============================] - 8s 277ms/step - loss: 0.5842 - accuracy: 0.6254 - val_loss: 0.6279 - val_accuracy: 0.6208\n",
            "Epoch 8/40\n",
            "30/30 [==============================] - 8s 275ms/step - loss: 0.5605 - accuracy: 0.6644 - val_loss: 0.6394 - val_accuracy: 0.5856\n",
            "Epoch 9/40\n",
            "30/30 [==============================] - 8s 276ms/step - loss: 0.5303 - accuracy: 0.6750 - val_loss: 0.5008 - val_accuracy: 0.7940\n",
            "Epoch 10/40\n",
            "30/30 [==============================] - 8s 276ms/step - loss: 0.5175 - accuracy: 0.7640 - val_loss: 0.6970 - val_accuracy: 0.5901\n",
            "Epoch 11/40\n",
            "30/30 [==============================] - 8s 276ms/step - loss: 0.6165 - accuracy: 0.5961 - val_loss: 0.6618 - val_accuracy: 0.5596\n",
            "Epoch 12/40\n",
            "30/30 [==============================] - 8s 275ms/step - loss: 0.5598 - accuracy: 0.6325 - val_loss: 0.6462 - val_accuracy: 0.5850\n",
            "Epoch 13/40\n",
            "30/30 [==============================] - 8s 276ms/step - loss: 0.5302 - accuracy: 0.6434 - val_loss: 0.6279 - val_accuracy: 0.6053\n",
            "Epoch 14/40\n",
            "30/30 [==============================] - 8s 277ms/step - loss: 0.5405 - accuracy: 0.6700 - val_loss: 0.7570 - val_accuracy: 0.5632\n",
            "Epoch 15/40\n",
            "30/30 [==============================] - 8s 277ms/step - loss: 0.5876 - accuracy: 0.6247 - val_loss: 0.6605 - val_accuracy: 0.5657\n",
            "Epoch 16/40\n",
            "30/30 [==============================] - 8s 275ms/step - loss: 0.5348 - accuracy: 0.6457 - val_loss: 0.6483 - val_accuracy: 0.5831\n",
            "Epoch 17/40\n",
            "30/30 [==============================] - 8s 277ms/step - loss: 0.5032 - accuracy: 0.6729 - val_loss: 0.8192 - val_accuracy: 0.5400\n",
            "Epoch 18/40\n",
            "30/30 [==============================] - 8s 275ms/step - loss: 0.5317 - accuracy: 0.6851 - val_loss: 0.6202 - val_accuracy: 0.7569\n",
            "Epoch 19/40\n",
            "30/30 [==============================] - 8s 275ms/step - loss: 0.4153 - accuracy: 0.8396 - val_loss: 0.5630 - val_accuracy: 0.7525\n",
            "Epoch 20/40\n",
            "30/30 [==============================] - 8s 275ms/step - loss: 0.3779 - accuracy: 0.8515 - val_loss: 0.5460 - val_accuracy: 0.7955\n",
            "Epoch 21/40\n",
            "30/30 [==============================] - 8s 277ms/step - loss: 0.3629 - accuracy: 0.8596 - val_loss: 0.5591 - val_accuracy: 0.7694\n",
            "Epoch 22/40\n",
            "30/30 [==============================] - 8s 275ms/step - loss: 0.3495 - accuracy: 0.8627 - val_loss: 0.5498 - val_accuracy: 0.7957\n",
            "Epoch 23/40\n",
            "30/30 [==============================] - 8s 275ms/step - loss: 0.3886 - accuracy: 0.8493 - val_loss: 1.3554 - val_accuracy: 0.4988\n",
            "Epoch 24/40\n",
            "30/30 [==============================] - 8s 276ms/step - loss: 0.7949 - accuracy: 0.5311 - val_loss: 0.6857 - val_accuracy: 0.5323\n",
            "Epoch 25/40\n",
            "30/30 [==============================] - 8s 275ms/step - loss: 0.6225 - accuracy: 0.6005 - val_loss: 0.6585 - val_accuracy: 0.5567\n",
            "Epoch 26/40\n",
            "30/30 [==============================] - 8s 274ms/step - loss: 0.5723 - accuracy: 0.6355 - val_loss: 0.6261 - val_accuracy: 0.5872\n",
            "Epoch 27/40\n",
            "30/30 [==============================] - 8s 275ms/step - loss: 0.5290 - accuracy: 0.6573 - val_loss: 0.6190 - val_accuracy: 0.6172\n",
            "Epoch 28/40\n",
            "30/30 [==============================] - 8s 276ms/step - loss: 0.4779 - accuracy: 0.7293 - val_loss: 0.7145 - val_accuracy: 0.6870\n",
            "Epoch 29/40\n",
            "30/30 [==============================] - 8s 274ms/step - loss: 0.5593 - accuracy: 0.6547 - val_loss: 0.6258 - val_accuracy: 0.6112\n",
            "Epoch 30/40\n",
            "30/30 [==============================] - 8s 275ms/step - loss: 0.4913 - accuracy: 0.6737 - val_loss: 0.6307 - val_accuracy: 0.5985\n",
            "Epoch 31/40\n",
            "30/30 [==============================] - 8s 275ms/step - loss: 0.4729 - accuracy: 0.7477 - val_loss: 0.6128 - val_accuracy: 0.6911\n",
            "Epoch 32/40\n",
            "30/30 [==============================] - 8s 277ms/step - loss: 0.4738 - accuracy: 0.8216 - val_loss: 0.5314 - val_accuracy: 0.7712\n",
            "Epoch 33/40\n",
            "30/30 [==============================] - 8s 276ms/step - loss: 0.3876 - accuracy: 0.8501 - val_loss: 0.5493 - val_accuracy: 0.7713\n",
            "Epoch 34/40\n",
            "30/30 [==============================] - 8s 276ms/step - loss: 0.4699 - accuracy: 0.7615 - val_loss: 0.6138 - val_accuracy: 0.7356\n",
            "Epoch 35/40\n",
            "30/30 [==============================] - 8s 276ms/step - loss: 0.3801 - accuracy: 0.8409 - val_loss: 0.5275 - val_accuracy: 0.7952\n",
            "Epoch 36/40\n",
            "30/30 [==============================] - 8s 275ms/step - loss: 0.3598 - accuracy: 0.8659 - val_loss: 0.5180 - val_accuracy: 0.7987\n",
            "Epoch 37/40\n",
            "30/30 [==============================] - 8s 275ms/step - loss: 0.3321 - accuracy: 0.8759 - val_loss: 0.5286 - val_accuracy: 0.7928\n",
            "Epoch 38/40\n",
            "30/30 [==============================] - 8s 275ms/step - loss: 0.3396 - accuracy: 0.8679 - val_loss: 0.5545 - val_accuracy: 0.7970\n",
            "Epoch 39/40\n",
            "30/30 [==============================] - 8s 276ms/step - loss: 0.6296 - accuracy: 0.6544 - val_loss: 0.6875 - val_accuracy: 0.5580\n",
            "Epoch 40/40\n",
            "30/30 [==============================] - 8s 275ms/step - loss: 0.5688 - accuracy: 0.6351 - val_loss: 0.6662 - val_accuracy: 0.5746\n"
          ]
        }
      ],
      "source": [
        "# Train and test the model\n",
        "#Compile model. \n",
        "model7.compile(optimizer=\"adam\", loss=\"binary_crossentropy\", metrics=[\"accuracy\"])\n",
        "\n",
        "history = model7.fit(partial_X_train, partial_y_train,\n",
        "                    epochs=40,\n",
        "                    batch_size=512,\n",
        "                    validation_data=(X_val, y_val),\n",
        "                    verbose=1)\n"
      ]
    },
    {
      "cell_type": "code",
      "execution_count": 45,
      "metadata": {
        "colab": {
          "base_uri": "https://localhost:8080/"
        },
        "id": "l0r82yTenT2Y",
        "outputId": "d982a428-f02c-4897-c26d-15567afa92fb"
      },
      "outputs": [
        {
          "output_type": "stream",
          "name": "stdout",
          "text": [
            "782/782 [==============================] - 16s 21ms/step - loss: 0.6705 - accuracy: 0.5702\n"
          ]
        }
      ],
      "source": [
        "results = model7.evaluate(X_test_enc, y_test)"
      ]
    },
    {
      "cell_type": "code",
      "execution_count": 46,
      "metadata": {
        "colab": {
          "base_uri": "https://localhost:8080/"
        },
        "id": "xCR1FCofnWE2",
        "outputId": "ec113fcf-ab8a-495e-8b1a-5dd4f5321051"
      },
      "outputs": [
        {
          "output_type": "stream",
          "name": "stdout",
          "text": [
            "[0.6705185770988464, 0.5702000260353088]\n"
          ]
        }
      ],
      "source": [
        "print(results)"
      ]
    },
    {
      "cell_type": "markdown",
      "metadata": {
        "id": "CA-5s1h_nYAV"
      },
      "source": [
        "Freezing "
      ]
    },
    {
      "cell_type": "code",
      "execution_count": 37,
      "metadata": {
        "colab": {
          "base_uri": "https://localhost:8080/"
        },
        "id": "06f0YSPMnhHE",
        "outputId": "31fd1f88-3549-47a2-bdcb-8ad4a3e42c84"
      },
      "outputs": [
        {
          "output_type": "stream",
          "name": "stdout",
          "text": [
            "Model: \"model_7\"\n",
            "_________________________________________________________________\n",
            " Layer (type)                Output Shape              Param #   \n",
            "=================================================================\n",
            " input_8 (InputLayer)        [(None, 256)]             0         \n",
            "                                                                 \n",
            " GloVe_Embeddings (Embedding  (None, 256, 300)         120000300 \n",
            " )                                                               \n",
            "                                                                 \n",
            " lstm_6 (LSTM)               (None, 100)               160400    \n",
            "                                                                 \n",
            " dense_8 (Dense)             (None, 1)                 101       \n",
            "                                                                 \n",
            "=================================================================\n",
            "Total params: 120,160,801\n",
            "Trainable params: 160,501\n",
            "Non-trainable params: 120,000,300\n",
            "_________________________________________________________________\n"
          ]
        }
      ],
      "source": [
        "from keras.layers import LSTM\n",
        "# your code goes here #freezing.\n",
        "embeddingLayer=createPretrainedEmbeddingLayer(wordToGlove,wordToIndex,isTrainable=False)\n",
        "#Input layer. \n",
        "target_word = Input((MAX_SEQUENCE_LENGTH,), dtype='int32')\n",
        "\n",
        "#Embedding layer. \n",
        "target_embedding = embeddingLayer(target_word)\n",
        "\n",
        "#Hidden layer. \n",
        "LSTM_layer = LSTM(100)(target_embedding)  \n",
        "\n",
        "#Output\n",
        "output = Dense(1,activation=\"sigmoid\")(LSTM_layer)\n",
        "\n",
        "#Initialise model \n",
        "model7 = Model(inputs=target_word, outputs=[output]) \n",
        "\n",
        "model7.summary() "
      ]
    },
    {
      "cell_type": "code",
      "execution_count": 38,
      "metadata": {
        "colab": {
          "base_uri": "https://localhost:8080/"
        },
        "id": "bd7En9AqnhHJ",
        "outputId": "6d295e09-6722-4c1b-fb26-84a4cbe9ca97"
      },
      "outputs": [
        {
          "output_type": "stream",
          "name": "stdout",
          "text": [
            "Epoch 1/40\n",
            "30/30 [==============================] - 39s 200ms/step - loss: 0.6892 - accuracy: 0.5173 - val_loss: 0.6806 - val_accuracy: 0.5339\n",
            "Epoch 2/40\n",
            "30/30 [==============================] - 5s 180ms/step - loss: 0.6789 - accuracy: 0.5445 - val_loss: 0.6809 - val_accuracy: 0.5324\n",
            "Epoch 3/40\n",
            "30/30 [==============================] - 5s 180ms/step - loss: 0.6668 - accuracy: 0.5623 - val_loss: 0.6819 - val_accuracy: 0.5778\n",
            "Epoch 4/40\n",
            "30/30 [==============================] - 5s 179ms/step - loss: 0.6603 - accuracy: 0.5973 - val_loss: 0.6758 - val_accuracy: 0.5511\n",
            "Epoch 5/40\n",
            "30/30 [==============================] - 5s 181ms/step - loss: 0.6568 - accuracy: 0.5792 - val_loss: 0.6568 - val_accuracy: 0.5845\n",
            "Epoch 6/40\n",
            "30/30 [==============================] - 5s 180ms/step - loss: 0.6278 - accuracy: 0.6629 - val_loss: 0.6165 - val_accuracy: 0.6748\n",
            "Epoch 7/40\n",
            "30/30 [==============================] - 5s 182ms/step - loss: 0.6545 - accuracy: 0.6022 - val_loss: 0.6807 - val_accuracy: 0.5312\n",
            "Epoch 8/40\n",
            "30/30 [==============================] - 5s 180ms/step - loss: 0.6632 - accuracy: 0.5643 - val_loss: 0.6753 - val_accuracy: 0.5361\n",
            "Epoch 9/40\n",
            "30/30 [==============================] - 5s 180ms/step - loss: 0.6529 - accuracy: 0.5733 - val_loss: 0.6654 - val_accuracy: 0.5916\n",
            "Epoch 10/40\n",
            "30/30 [==============================] - 5s 179ms/step - loss: 0.6203 - accuracy: 0.6458 - val_loss: 0.6680 - val_accuracy: 0.6188\n",
            "Epoch 11/40\n",
            "30/30 [==============================] - 5s 179ms/step - loss: 0.6573 - accuracy: 0.5879 - val_loss: 0.6793 - val_accuracy: 0.5265\n",
            "Epoch 12/40\n",
            "30/30 [==============================] - 5s 178ms/step - loss: 0.6567 - accuracy: 0.5713 - val_loss: 0.6738 - val_accuracy: 0.5376\n",
            "Epoch 13/40\n",
            "30/30 [==============================] - 6s 191ms/step - loss: 0.6478 - accuracy: 0.5700 - val_loss: 0.6685 - val_accuracy: 0.5501\n",
            "Epoch 14/40\n",
            "30/30 [==============================] - 5s 180ms/step - loss: 0.6323 - accuracy: 0.5980 - val_loss: 0.6295 - val_accuracy: 0.6914\n",
            "Epoch 15/40\n",
            "30/30 [==============================] - 5s 180ms/step - loss: 0.6499 - accuracy: 0.5929 - val_loss: 0.6771 - val_accuracy: 0.5332\n",
            "Epoch 16/40\n",
            "30/30 [==============================] - 5s 178ms/step - loss: 0.6489 - accuracy: 0.5796 - val_loss: 0.6724 - val_accuracy: 0.5349\n",
            "Epoch 17/40\n",
            "30/30 [==============================] - 5s 180ms/step - loss: 0.6389 - accuracy: 0.5883 - val_loss: 0.6693 - val_accuracy: 0.5438\n",
            "Epoch 18/40\n",
            "30/30 [==============================] - 5s 178ms/step - loss: 0.6272 - accuracy: 0.5910 - val_loss: 0.6622 - val_accuracy: 0.5864\n",
            "Epoch 19/40\n",
            "30/30 [==============================] - 5s 179ms/step - loss: 0.5981 - accuracy: 0.6633 - val_loss: 0.6462 - val_accuracy: 0.6033\n",
            "Epoch 20/40\n",
            "30/30 [==============================] - 5s 180ms/step - loss: 0.6259 - accuracy: 0.6077 - val_loss: 0.6687 - val_accuracy: 0.5531\n",
            "Epoch 21/40\n",
            "30/30 [==============================] - 5s 181ms/step - loss: 0.6073 - accuracy: 0.6606 - val_loss: 0.7519 - val_accuracy: 0.5993\n",
            "Epoch 22/40\n",
            "30/30 [==============================] - 5s 180ms/step - loss: 0.6066 - accuracy: 0.6493 - val_loss: 0.6579 - val_accuracy: 0.6140\n",
            "Epoch 23/40\n",
            "30/30 [==============================] - 5s 180ms/step - loss: 0.6054 - accuracy: 0.6522 - val_loss: 0.6598 - val_accuracy: 0.5923\n",
            "Epoch 24/40\n",
            "30/30 [==============================] - 5s 179ms/step - loss: 0.6394 - accuracy: 0.6017 - val_loss: 0.6681 - val_accuracy: 0.5853\n",
            "Epoch 25/40\n",
            "30/30 [==============================] - 5s 180ms/step - loss: 0.6002 - accuracy: 0.6799 - val_loss: 0.6811 - val_accuracy: 0.6043\n",
            "Epoch 26/40\n",
            "30/30 [==============================] - 5s 179ms/step - loss: 0.6021 - accuracy: 0.6837 - val_loss: 0.6408 - val_accuracy: 0.6536\n",
            "Epoch 27/40\n",
            "30/30 [==============================] - 5s 180ms/step - loss: 0.6026 - accuracy: 0.6645 - val_loss: 0.6483 - val_accuracy: 0.6285\n",
            "Epoch 28/40\n",
            "30/30 [==============================] - 5s 180ms/step - loss: 0.6156 - accuracy: 0.6218 - val_loss: 0.6580 - val_accuracy: 0.5829\n",
            "Epoch 29/40\n",
            "30/30 [==============================] - 5s 180ms/step - loss: 0.5974 - accuracy: 0.6695 - val_loss: 0.6447 - val_accuracy: 0.6285\n",
            "Epoch 30/40\n",
            "30/30 [==============================] - 5s 180ms/step - loss: 0.5856 - accuracy: 0.6731 - val_loss: 0.6447 - val_accuracy: 0.6195\n",
            "Epoch 31/40\n",
            "30/30 [==============================] - 5s 180ms/step - loss: 0.5891 - accuracy: 0.6458 - val_loss: 0.6574 - val_accuracy: 0.5841\n",
            "Epoch 32/40\n",
            "30/30 [==============================] - 5s 179ms/step - loss: 0.5757 - accuracy: 0.6745 - val_loss: 0.6392 - val_accuracy: 0.6608\n",
            "Epoch 33/40\n",
            "30/30 [==============================] - 5s 180ms/step - loss: 0.5527 - accuracy: 0.7144 - val_loss: 0.6271 - val_accuracy: 0.6736\n",
            "Epoch 34/40\n",
            "30/30 [==============================] - 5s 179ms/step - loss: 0.5532 - accuracy: 0.7281 - val_loss: 0.6521 - val_accuracy: 0.6695\n",
            "Epoch 35/40\n",
            "30/30 [==============================] - 5s 180ms/step - loss: 0.6069 - accuracy: 0.6645 - val_loss: 0.7195 - val_accuracy: 0.5169\n",
            "Epoch 36/40\n",
            "30/30 [==============================] - 5s 179ms/step - loss: 0.6398 - accuracy: 0.5851 - val_loss: 0.6828 - val_accuracy: 0.5329\n",
            "Epoch 37/40\n",
            "30/30 [==============================] - 5s 181ms/step - loss: 0.6176 - accuracy: 0.6055 - val_loss: 0.6846 - val_accuracy: 0.5343\n",
            "Epoch 38/40\n",
            "30/30 [==============================] - 5s 180ms/step - loss: 0.6073 - accuracy: 0.6111 - val_loss: 0.6857 - val_accuracy: 0.5346\n",
            "Epoch 39/40\n",
            "30/30 [==============================] - 5s 181ms/step - loss: 0.5987 - accuracy: 0.6135 - val_loss: 0.6883 - val_accuracy: 0.5368\n",
            "Epoch 40/40\n",
            "30/30 [==============================] - 5s 179ms/step - loss: 0.5905 - accuracy: 0.6263 - val_loss: 0.6879 - val_accuracy: 0.5839\n"
          ]
        }
      ],
      "source": [
        "# Train and test the model\n",
        "#Compile model. \n",
        "model7.compile(optimizer=\"adam\", loss=\"binary_crossentropy\", metrics=[\"accuracy\"])\n",
        "\n",
        "history = model7.fit(partial_X_train, partial_y_train,\n",
        "                    epochs=40,\n",
        "                    batch_size=512,\n",
        "                    validation_data=(X_val, y_val),\n",
        "                    verbose=1)\n"
      ]
    },
    {
      "cell_type": "code",
      "execution_count": 39,
      "metadata": {
        "colab": {
          "base_uri": "https://localhost:8080/"
        },
        "id": "WE3w-0sRnhHK",
        "outputId": "982ed15a-5ba6-43e8-a2c4-7925e5d1510b"
      },
      "outputs": [
        {
          "output_type": "stream",
          "name": "stdout",
          "text": [
            "782/782 [==============================] - 17s 21ms/step - loss: 0.6864 - accuracy: 0.5901\n"
          ]
        }
      ],
      "source": [
        "results = model7.evaluate(X_test_enc, y_test)"
      ]
    },
    {
      "cell_type": "code",
      "execution_count": 40,
      "metadata": {
        "colab": {
          "base_uri": "https://localhost:8080/"
        },
        "id": "c0nsGl8pnhHK",
        "outputId": "bc50f93e-4ea3-4e12-eae4-6efbbd1f11a4"
      },
      "outputs": [
        {
          "output_type": "stream",
          "name": "stdout",
          "text": [
            "[0.6863669753074646, 0.5901200175285339]\n"
          ]
        }
      ],
      "source": [
        "print(results)"
      ]
    },
    {
      "cell_type": "markdown",
      "metadata": {
        "id": "XOqePi5-I1Xq"
      },
      "source": [
        "Experiment show that simply replacing the lab 2 model embeddings with pre-trained word embeddings (GloVe) will cause performance to drop significantly. \n",
        "What can you do to improve the situation?"
      ]
    },
    {
      "cell_type": "markdown",
      "metadata": {
        "id": "M-bZ5SCHiIMl"
      },
      "source": [
        "#  Model 4: Adding extra dense layer into Neural averaging network model"
      ]
    },
    {
      "cell_type": "markdown",
      "metadata": {
        "id": "G85QM3lSV7qp"
      },
      "source": [
        "We add extra dense layers into model 3-1 (neural network model) to evaluate extra dense layers' contribution. We start by adding one layer, then add two. All parameters are the same as model 3-1."
      ]
    },
    {
      "cell_type": "markdown",
      "metadata": {
        "id": "ExgX8bxpVgps"
      },
      "source": [
        "### Adding one extra dense layer"
      ]
    },
    {
      "cell_type": "code",
      "execution_count": 47,
      "metadata": {
        "colab": {
          "base_uri": "https://localhost:8080/"
        },
        "id": "dTgD_gMzXa1z",
        "outputId": "d594f050-eaaa-4481-e568-9a9778c431bb"
      },
      "outputs": [
        {
          "output_type": "stream",
          "name": "stdout",
          "text": [
            "Model: \"model_10\"\n",
            "_________________________________________________________________\n",
            " Layer (type)                Output Shape              Param #   \n",
            "=================================================================\n",
            " input_11 (InputLayer)       [(None, 256)]             0         \n",
            "                                                                 \n",
            " GloVe_Embeddings (Embedding  (None, 256, 300)         120000300 \n",
            " )                                                               \n",
            "                                                                 \n",
            " global_average_pooling1d_ma  (None, 300)              0         \n",
            " sked_1 (GlobalAveragePoolin                                     \n",
            " g1DMasked)                                                      \n",
            "                                                                 \n",
            " dense_11 (Dense)            (None, 100)               30100     \n",
            "                                                                 \n",
            " dense_12 (Dense)            (None, 16)                1616      \n",
            "                                                                 \n",
            " dense_13 (Dense)            (None, 1)                 17        \n",
            "                                                                 \n",
            "=================================================================\n",
            "Total params: 120,032,033\n",
            "Trainable params: 120,032,033\n",
            "Non-trainable params: 0\n",
            "_________________________________________________________________\n"
          ]
        }
      ],
      "source": [
        "# Inspect model performance with 1 hidden layer, pre-trained embeddings\n",
        "# your code goes here\n",
        "#Input layer. \n",
        "target_word = Input((MAX_SEQUENCE_LENGTH,), dtype='int32')\n",
        "\n",
        "#Embedding layer. \n",
        "target_embedding = embeddingLayer(target_word)\n",
        "\n",
        "#Average one hot vectors. \n",
        "global_pol = GlobalAveragePooling1DMasked()(target_embedding)\n",
        "\n",
        "#Extra dense layer. \n",
        "extra_dense_layer = Dense(100, activation=\"sigmoid\")(global_pol)  \n",
        "\n",
        "#Hidden layer. \n",
        "hidden_layer = Dense(16, activation=\"sigmoid\")(extra_dense_layer) \n",
        "#Output\n",
        "output = Dense(1,activation=\"sigmoid\")(hidden_layer)\n",
        "\n",
        "#Initialise model \n",
        "model7 = Model(inputs=target_word, outputs=[output]) \n",
        "\n",
        "model7.summary()"
      ]
    },
    {
      "cell_type": "code",
      "execution_count": 48,
      "metadata": {
        "colab": {
          "base_uri": "https://localhost:8080/"
        },
        "id": "nAQtKxqdqAVu",
        "outputId": "f862cc92-d334-4581-f01d-9ff47f205030"
      },
      "outputs": [
        {
          "output_type": "stream",
          "name": "stdout",
          "text": [
            "Epoch 1/40\n",
            "30/30 [==============================] - 4s 124ms/step - loss: 0.7026 - accuracy: 0.5053 - val_loss: 0.6876 - val_accuracy: 0.5870\n",
            "Epoch 2/40\n",
            "30/30 [==============================] - 4s 118ms/step - loss: 0.6826 - accuracy: 0.6415 - val_loss: 0.6770 - val_accuracy: 0.7443\n",
            "Epoch 3/40\n",
            "30/30 [==============================] - 4s 118ms/step - loss: 0.6647 - accuracy: 0.7619 - val_loss: 0.6527 - val_accuracy: 0.7635\n",
            "Epoch 4/40\n",
            "30/30 [==============================] - 4s 118ms/step - loss: 0.6244 - accuracy: 0.7713 - val_loss: 0.5982 - val_accuracy: 0.7728\n",
            "Epoch 5/40\n",
            "30/30 [==============================] - 3s 117ms/step - loss: 0.5465 - accuracy: 0.8043 - val_loss: 0.5107 - val_accuracy: 0.8109\n",
            "Epoch 6/40\n",
            "30/30 [==============================] - 4s 118ms/step - loss: 0.4464 - accuracy: 0.8459 - val_loss: 0.4220 - val_accuracy: 0.8439\n",
            "Epoch 7/40\n",
            "30/30 [==============================] - 4s 118ms/step - loss: 0.3618 - accuracy: 0.8769 - val_loss: 0.3649 - val_accuracy: 0.8599\n",
            "Epoch 8/40\n",
            "30/30 [==============================] - 4s 118ms/step - loss: 0.3078 - accuracy: 0.8911 - val_loss: 0.3327 - val_accuracy: 0.8706\n",
            "Epoch 9/40\n",
            "30/30 [==============================] - 3s 117ms/step - loss: 0.2712 - accuracy: 0.9036 - val_loss: 0.3142 - val_accuracy: 0.8752\n",
            "Epoch 10/40\n",
            "30/30 [==============================] - 3s 117ms/step - loss: 0.2431 - accuracy: 0.9137 - val_loss: 0.3029 - val_accuracy: 0.8799\n",
            "Epoch 11/40\n",
            "30/30 [==============================] - 4s 117ms/step - loss: 0.2212 - accuracy: 0.9249 - val_loss: 0.2959 - val_accuracy: 0.8829\n",
            "Epoch 12/40\n",
            "30/30 [==============================] - 4s 118ms/step - loss: 0.2003 - accuracy: 0.9329 - val_loss: 0.2932 - val_accuracy: 0.8805\n",
            "Epoch 13/40\n",
            "30/30 [==============================] - 4s 117ms/step - loss: 0.1815 - accuracy: 0.9404 - val_loss: 0.2898 - val_accuracy: 0.8855\n",
            "Epoch 14/40\n",
            "30/30 [==============================] - 3s 117ms/step - loss: 0.1654 - accuracy: 0.9488 - val_loss: 0.2892 - val_accuracy: 0.8848\n",
            "Epoch 15/40\n",
            "30/30 [==============================] - 4s 118ms/step - loss: 0.1518 - accuracy: 0.9529 - val_loss: 0.2910 - val_accuracy: 0.8850\n",
            "Epoch 16/40\n",
            "30/30 [==============================] - 3s 117ms/step - loss: 0.1392 - accuracy: 0.9585 - val_loss: 0.2982 - val_accuracy: 0.8839\n",
            "Epoch 17/40\n",
            "30/30 [==============================] - 3s 116ms/step - loss: 0.1289 - accuracy: 0.9622 - val_loss: 0.3043 - val_accuracy: 0.8809\n",
            "Epoch 18/40\n",
            "30/30 [==============================] - 4s 118ms/step - loss: 0.1189 - accuracy: 0.9661 - val_loss: 0.3042 - val_accuracy: 0.8834\n",
            "Epoch 19/40\n",
            "30/30 [==============================] - 4s 118ms/step - loss: 0.1063 - accuracy: 0.9720 - val_loss: 0.3114 - val_accuracy: 0.8823\n",
            "Epoch 20/40\n",
            "30/30 [==============================] - 4s 117ms/step - loss: 0.0974 - accuracy: 0.9749 - val_loss: 0.3153 - val_accuracy: 0.8815\n",
            "Epoch 21/40\n",
            "30/30 [==============================] - 3s 117ms/step - loss: 0.0898 - accuracy: 0.9783 - val_loss: 0.3229 - val_accuracy: 0.8815\n",
            "Epoch 22/40\n",
            "30/30 [==============================] - 3s 116ms/step - loss: 0.0823 - accuracy: 0.9809 - val_loss: 0.3317 - val_accuracy: 0.8813\n",
            "Epoch 23/40\n",
            "30/30 [==============================] - 3s 117ms/step - loss: 0.0763 - accuracy: 0.9834 - val_loss: 0.3400 - val_accuracy: 0.8813\n",
            "Epoch 24/40\n",
            "30/30 [==============================] - 4s 118ms/step - loss: 0.0683 - accuracy: 0.9861 - val_loss: 0.3484 - val_accuracy: 0.8806\n",
            "Epoch 25/40\n",
            "30/30 [==============================] - 4s 118ms/step - loss: 0.0631 - accuracy: 0.9885 - val_loss: 0.3540 - val_accuracy: 0.8792\n",
            "Epoch 26/40\n",
            "30/30 [==============================] - 3s 116ms/step - loss: 0.0582 - accuracy: 0.9898 - val_loss: 0.3633 - val_accuracy: 0.8794\n",
            "Epoch 27/40\n",
            "30/30 [==============================] - 3s 117ms/step - loss: 0.0541 - accuracy: 0.9907 - val_loss: 0.3724 - val_accuracy: 0.8777\n",
            "Epoch 28/40\n",
            "30/30 [==============================] - 3s 116ms/step - loss: 0.0501 - accuracy: 0.9919 - val_loss: 0.3828 - val_accuracy: 0.8765\n",
            "Epoch 29/40\n",
            "30/30 [==============================] - 4s 118ms/step - loss: 0.0476 - accuracy: 0.9925 - val_loss: 0.3891 - val_accuracy: 0.8754\n",
            "Epoch 30/40\n",
            "30/30 [==============================] - 4s 118ms/step - loss: 0.0433 - accuracy: 0.9939 - val_loss: 0.3989 - val_accuracy: 0.8743\n",
            "Epoch 31/40\n",
            "30/30 [==============================] - 4s 118ms/step - loss: 0.0410 - accuracy: 0.9941 - val_loss: 0.4091 - val_accuracy: 0.8745\n",
            "Epoch 32/40\n",
            "30/30 [==============================] - 4s 118ms/step - loss: 0.0384 - accuracy: 0.9947 - val_loss: 0.4168 - val_accuracy: 0.8726\n",
            "Epoch 33/40\n",
            "30/30 [==============================] - 4s 118ms/step - loss: 0.0362 - accuracy: 0.9953 - val_loss: 0.4265 - val_accuracy: 0.8719\n",
            "Epoch 34/40\n",
            "30/30 [==============================] - 4s 117ms/step - loss: 0.0341 - accuracy: 0.9955 - val_loss: 0.4325 - val_accuracy: 0.8719\n",
            "Epoch 35/40\n",
            "30/30 [==============================] - 4s 117ms/step - loss: 0.0325 - accuracy: 0.9959 - val_loss: 0.4395 - val_accuracy: 0.8709\n",
            "Epoch 36/40\n",
            "30/30 [==============================] - 3s 117ms/step - loss: 0.0311 - accuracy: 0.9963 - val_loss: 0.4506 - val_accuracy: 0.8697\n",
            "Epoch 37/40\n",
            "30/30 [==============================] - 4s 118ms/step - loss: 0.0301 - accuracy: 0.9963 - val_loss: 0.4549 - val_accuracy: 0.8700\n",
            "Epoch 38/40\n",
            "30/30 [==============================] - 4s 117ms/step - loss: 0.0287 - accuracy: 0.9963 - val_loss: 0.4625 - val_accuracy: 0.8698\n",
            "Epoch 39/40\n",
            "30/30 [==============================] - 4s 117ms/step - loss: 0.0279 - accuracy: 0.9966 - val_loss: 0.4659 - val_accuracy: 0.8714\n",
            "Epoch 40/40\n",
            "30/30 [==============================] - 4s 118ms/step - loss: 0.0267 - accuracy: 0.9965 - val_loss: 0.4724 - val_accuracy: 0.8717\n",
            "782/782 [==============================] - 2s 3ms/step - loss: 0.5130 - accuracy: 0.8572\n",
            "[0.5129744410514832, 0.8572400212287903]\n"
          ]
        }
      ],
      "source": [
        "# Train and test the model\n",
        "#Compile model. \n",
        "model7.compile(optimizer=\"adam\", loss=\"binary_crossentropy\", metrics=[\"accuracy\"])\n",
        "\n",
        "history = model7.fit(partial_X_train, partial_y_train,\n",
        "                    epochs=40,\n",
        "                    batch_size=512,\n",
        "                    validation_data=(X_val, y_val),\n",
        "                    verbose=1)\n",
        "results = model7.evaluate(X_test_enc, y_test)\n",
        "print(results)"
      ]
    },
    {
      "cell_type": "markdown",
      "metadata": {
        "id": "K0npTvFuVt5R"
      },
      "source": [
        "### Adding two extra dense layers"
      ]
    },
    {
      "cell_type": "code",
      "execution_count": 52,
      "metadata": {
        "colab": {
          "base_uri": "https://localhost:8080/"
        },
        "id": "PowyhyRqcdDA",
        "outputId": "0da5b6ad-f3d5-4485-fc7c-7340a050e624"
      },
      "outputs": [
        {
          "output_type": "stream",
          "name": "stdout",
          "text": [
            "Model: \"model_12\"\n",
            "_________________________________________________________________\n",
            " Layer (type)                Output Shape              Param #   \n",
            "=================================================================\n",
            " input_13 (InputLayer)       [(None, 256)]             0         \n",
            "                                                                 \n",
            " GloVe_Embeddings (Embedding  (None, 256, 300)         120000300 \n",
            " )                                                               \n",
            "                                                                 \n",
            " global_average_pooling1d_ma  (None, 300)              0         \n",
            " sked_3 (GlobalAveragePoolin                                     \n",
            " g1DMasked)                                                      \n",
            "                                                                 \n",
            " dense_18 (Dense)            (None, 300)               90300     \n",
            "                                                                 \n",
            " dense_19 (Dense)            (None, 100)               30100     \n",
            "                                                                 \n",
            " dense_20 (Dense)            (None, 16)                1616      \n",
            "                                                                 \n",
            " dense_21 (Dense)            (None, 1)                 17        \n",
            "                                                                 \n",
            "=================================================================\n",
            "Total params: 120,122,333\n",
            "Trainable params: 120,122,333\n",
            "Non-trainable params: 0\n",
            "_________________________________________________________________\n"
          ]
        }
      ],
      "source": [
        "# Inspect model performance with 1 hidden layer, pre-trained embeddings\n",
        "# your code goes here\n",
        "#Input layer. \n",
        "target_word = Input((MAX_SEQUENCE_LENGTH,), dtype='int32')\n",
        "\n",
        "#Embedding layer. \n",
        "target_embedding = embeddingLayer(target_word)\n",
        "\n",
        "#Average one hot vectors. \n",
        "global_pol = GlobalAveragePooling1DMasked()(target_embedding)\n",
        "\n",
        "#Extra dense layer 1. \n",
        "extra_dense_1 = Dense(300, activation=\"sigmoid\")(global_pol)  \n",
        "\n",
        "#Extra dense layer 2. \n",
        "extra_dense_2 = Dense(100, activation=\"sigmoid\")(extra_dense_1)\n",
        "\n",
        "#Hidden layer. \n",
        "hidden_layer = Dense(16, activation=\"sigmoid\")(extra_dense_2)  #Check between tahn, relu... keep the best.\n",
        "\n",
        "#Output\n",
        "output = Dense(1,activation=\"sigmoid\")(hidden_layer)\n",
        "\n",
        "#Initialise model \n",
        "model7 = Model(inputs=target_word, outputs=[output]) \n",
        "\n",
        "model7.summary()"
      ]
    },
    {
      "cell_type": "code",
      "execution_count": 53,
      "metadata": {
        "colab": {
          "base_uri": "https://localhost:8080/"
        },
        "id": "mOasVi7XqUM-",
        "outputId": "e3c8308a-51c9-42a3-e3a3-21a83785ff89"
      },
      "outputs": [
        {
          "output_type": "stream",
          "name": "stdout",
          "text": [
            "Epoch 1/40\n",
            "30/30 [==============================] - 4s 124ms/step - loss: 0.6834 - accuracy: 0.6014 - val_loss: 0.6661 - val_accuracy: 0.6611\n",
            "Epoch 2/40\n",
            "30/30 [==============================] - 4s 118ms/step - loss: 0.5753 - accuracy: 0.8944 - val_loss: 0.4742 - val_accuracy: 0.8584\n",
            "Epoch 3/40\n",
            "30/30 [==============================] - 3s 116ms/step - loss: 0.3001 - accuracy: 0.9641 - val_loss: 0.3358 - val_accuracy: 0.8732\n",
            "Epoch 4/40\n",
            "30/30 [==============================] - 3s 116ms/step - loss: 0.1585 - accuracy: 0.9893 - val_loss: 0.3231 - val_accuracy: 0.8750\n",
            "Epoch 5/40\n",
            "30/30 [==============================] - 3s 117ms/step - loss: 0.1051 - accuracy: 0.9958 - val_loss: 0.3315 - val_accuracy: 0.8740\n",
            "Epoch 6/40\n",
            "30/30 [==============================] - 4s 118ms/step - loss: 0.0790 - accuracy: 0.9972 - val_loss: 0.3453 - val_accuracy: 0.8736\n",
            "Epoch 7/40\n",
            "30/30 [==============================] - 3s 116ms/step - loss: 0.0639 - accuracy: 0.9975 - val_loss: 0.3594 - val_accuracy: 0.8725\n",
            "Epoch 8/40\n",
            "30/30 [==============================] - 3s 116ms/step - loss: 0.0539 - accuracy: 0.9976 - val_loss: 0.3731 - val_accuracy: 0.8715\n",
            "Epoch 9/40\n",
            "30/30 [==============================] - 4s 118ms/step - loss: 0.0472 - accuracy: 0.9977 - val_loss: 0.3853 - val_accuracy: 0.8707\n",
            "Epoch 10/40\n",
            "30/30 [==============================] - 4s 117ms/step - loss: 0.0420 - accuracy: 0.9977 - val_loss: 0.3992 - val_accuracy: 0.8723\n",
            "Epoch 11/40\n",
            "30/30 [==============================] - 4s 117ms/step - loss: 0.0382 - accuracy: 0.9975 - val_loss: 0.4086 - val_accuracy: 0.8715\n",
            "Epoch 12/40\n",
            "30/30 [==============================] - 4s 117ms/step - loss: 0.0350 - accuracy: 0.9977 - val_loss: 0.4188 - val_accuracy: 0.8699\n",
            "Epoch 13/40\n",
            "30/30 [==============================] - 4s 118ms/step - loss: 0.0325 - accuracy: 0.9977 - val_loss: 0.4329 - val_accuracy: 0.8707\n",
            "Epoch 14/40\n",
            "30/30 [==============================] - 4s 118ms/step - loss: 0.0304 - accuracy: 0.9977 - val_loss: 0.4390 - val_accuracy: 0.8707\n",
            "Epoch 15/40\n",
            "30/30 [==============================] - 4s 118ms/step - loss: 0.0287 - accuracy: 0.9977 - val_loss: 0.4500 - val_accuracy: 0.8709\n",
            "Epoch 16/40\n",
            "30/30 [==============================] - 4s 118ms/step - loss: 0.0273 - accuracy: 0.9977 - val_loss: 0.4565 - val_accuracy: 0.8697\n",
            "Epoch 17/40\n",
            "30/30 [==============================] - 4s 118ms/step - loss: 0.0260 - accuracy: 0.9977 - val_loss: 0.4658 - val_accuracy: 0.8715\n",
            "Epoch 18/40\n",
            "30/30 [==============================] - 4s 117ms/step - loss: 0.0249 - accuracy: 0.9977 - val_loss: 0.4745 - val_accuracy: 0.8713\n",
            "Epoch 19/40\n",
            "30/30 [==============================] - 3s 116ms/step - loss: 0.0240 - accuracy: 0.9977 - val_loss: 0.4812 - val_accuracy: 0.8709\n",
            "Epoch 20/40\n",
            "30/30 [==============================] - 3s 117ms/step - loss: 0.0232 - accuracy: 0.9977 - val_loss: 0.4892 - val_accuracy: 0.8707\n",
            "Epoch 21/40\n",
            "30/30 [==============================] - 3s 116ms/step - loss: 0.0225 - accuracy: 0.9977 - val_loss: 0.4963 - val_accuracy: 0.8714\n",
            "Epoch 22/40\n",
            "30/30 [==============================] - 3s 116ms/step - loss: 0.0219 - accuracy: 0.9977 - val_loss: 0.5022 - val_accuracy: 0.8703\n",
            "Epoch 23/40\n",
            "30/30 [==============================] - 3s 116ms/step - loss: 0.0213 - accuracy: 0.9977 - val_loss: 0.5087 - val_accuracy: 0.8707\n",
            "Epoch 24/40\n",
            "30/30 [==============================] - 4s 118ms/step - loss: 0.0208 - accuracy: 0.9977 - val_loss: 0.5150 - val_accuracy: 0.8705\n",
            "Epoch 25/40\n",
            "30/30 [==============================] - 3s 116ms/step - loss: 0.0204 - accuracy: 0.9977 - val_loss: 0.5223 - val_accuracy: 0.8708\n",
            "Epoch 26/40\n",
            "30/30 [==============================] - 4s 118ms/step - loss: 0.0200 - accuracy: 0.9977 - val_loss: 0.5275 - val_accuracy: 0.8705\n",
            "Epoch 27/40\n",
            "30/30 [==============================] - 4s 118ms/step - loss: 0.0197 - accuracy: 0.9977 - val_loss: 0.5323 - val_accuracy: 0.8699\n",
            "Epoch 28/40\n",
            "30/30 [==============================] - 3s 116ms/step - loss: 0.0193 - accuracy: 0.9977 - val_loss: 0.5377 - val_accuracy: 0.8698\n",
            "Epoch 29/40\n",
            "30/30 [==============================] - 4s 118ms/step - loss: 0.0191 - accuracy: 0.9977 - val_loss: 0.5428 - val_accuracy: 0.8698\n",
            "Epoch 30/40\n",
            "30/30 [==============================] - 4s 117ms/step - loss: 0.0188 - accuracy: 0.9977 - val_loss: 0.5483 - val_accuracy: 0.8700\n",
            "Epoch 31/40\n",
            "30/30 [==============================] - 4s 117ms/step - loss: 0.0186 - accuracy: 0.9977 - val_loss: 0.5534 - val_accuracy: 0.8698\n",
            "Epoch 32/40\n",
            "30/30 [==============================] - 4s 118ms/step - loss: 0.0184 - accuracy: 0.9977 - val_loss: 0.5577 - val_accuracy: 0.8700\n",
            "Epoch 33/40\n",
            "30/30 [==============================] - 4s 118ms/step - loss: 0.0182 - accuracy: 0.9977 - val_loss: 0.5628 - val_accuracy: 0.8702\n",
            "Epoch 34/40\n",
            "30/30 [==============================] - 4s 118ms/step - loss: 0.0180 - accuracy: 0.9977 - val_loss: 0.5671 - val_accuracy: 0.8700\n",
            "Epoch 35/40\n",
            "30/30 [==============================] - 4s 117ms/step - loss: 0.0178 - accuracy: 0.9977 - val_loss: 0.5724 - val_accuracy: 0.8700\n",
            "Epoch 36/40\n",
            "30/30 [==============================] - 3s 116ms/step - loss: 0.0177 - accuracy: 0.9977 - val_loss: 0.5758 - val_accuracy: 0.8697\n",
            "Epoch 37/40\n",
            "30/30 [==============================] - 3s 117ms/step - loss: 0.0175 - accuracy: 0.9977 - val_loss: 0.5800 - val_accuracy: 0.8702\n",
            "Epoch 38/40\n",
            "30/30 [==============================] - 3s 116ms/step - loss: 0.0174 - accuracy: 0.9977 - val_loss: 0.5842 - val_accuracy: 0.8702\n",
            "Epoch 39/40\n",
            "30/30 [==============================] - 4s 117ms/step - loss: 0.0173 - accuracy: 0.9977 - val_loss: 0.5887 - val_accuracy: 0.8700\n",
            "Epoch 40/40\n",
            "30/30 [==============================] - 3s 116ms/step - loss: 0.0172 - accuracy: 0.9977 - val_loss: 0.5921 - val_accuracy: 0.8701\n",
            "782/782 [==============================] - 2s 3ms/step - loss: 0.6366 - accuracy: 0.8572\n",
            "[0.6366241574287415, 0.8571599721908569]\n"
          ]
        }
      ],
      "source": [
        "model7.compile(optimizer=\"adam\", loss=\"binary_crossentropy\", metrics=[\"accuracy\"])\n",
        "\n",
        "history = model7.fit(partial_X_train, partial_y_train,\n",
        "                    epochs=40,\n",
        "                    batch_size=512,\n",
        "                    validation_data=(X_val, y_val),\n",
        "                    verbose=1)\n",
        "results = model7.evaluate(X_test_enc, y_test)\n",
        "print(results)"
      ]
    },
    {
      "cell_type": "markdown",
      "metadata": {
        "id": "XisS32PaTATf"
      },
      "source": [
        "These two experiments show that adding extra dense layers can slightly improve accuracy over model 3-1.\n",
        "\n",
        "---\n",
        "\n"
      ]
    },
    {
      "cell_type": "markdown",
      "metadata": {
        "id": "CrfC9Mu-RHID"
      },
      "source": [
        "#  Model 5: CNN for Text Classification"
      ]
    },
    {
      "cell_type": "markdown",
      "metadata": {
        "id": "EPaFmFk1BMFf"
      },
      "source": [
        "In this section, we build a Convolutional Neural Network (CNN) for text classification. We start by using one CNN layer and then adding another layer. You could use embeddings from pre-trained or scratch."
      ]
    },
    {
      "cell_type": "markdown",
      "metadata": {
        "id": "zjOJrGCzwGM5"
      },
      "source": [
        "##  Model 5-1: Basic CNN model for Text Classification "
      ]
    },
    {
      "cell_type": "code",
      "execution_count": 54,
      "metadata": {
        "colab": {
          "base_uri": "https://localhost:8080/"
        },
        "id": "rXBstOw0sCYF",
        "outputId": "eee6ce61-672f-4f33-9c7c-b587aa20b7c9"
      },
      "outputs": [
        {
          "output_type": "stream",
          "name": "stdout",
          "text": [
            "Model: \"model_13\"\n",
            "_________________________________________________________________\n",
            " Layer (type)                Output Shape              Param #   \n",
            "=================================================================\n",
            " input_14 (InputLayer)       [(None, 256)]             0         \n",
            "                                                                 \n",
            " target_embed_layer (Embeddi  (None, 256, 300)         3000000   \n",
            " ng)                                                             \n",
            "                                                                 \n",
            " conv1d (Conv1D)             (None, 251, 100)          180100    \n",
            "                                                                 \n",
            " global_average_pooling1d_ma  (None, 100)              0         \n",
            " sked_4 (GlobalAveragePoolin                                     \n",
            " g1DMasked)                                                      \n",
            "                                                                 \n",
            " dense_22 (Dense)            (None, 1)                 101       \n",
            "                                                                 \n",
            "=================================================================\n",
            "Total params: 3,180,201\n",
            "Trainable params: 3,180,201\n",
            "Non-trainable params: 0\n",
            "_________________________________________________________________\n"
          ]
        }
      ],
      "source": [
        "hidden_layer=16\n",
        "from keras.layers import Conv1D, MaxPooling1D\n",
        "# your code goes here\n",
        "#Input layer. \n",
        "target_word = Input((MAX_SEQUENCE_LENGTH,), dtype='int32')\n",
        "\n",
        "#Embedding layer. \n",
        "target_embedding = Embedding(VOCAB_SIZE, EMBED_SIZE, name='target_embed_layer',\n",
        "                        \tembeddings_initializer='glorot_uniform',\n",
        "                         \tinput_length=1)(target_word)\n",
        "                          \n",
        "#Convolutional layer\n",
        "CNN1D = Conv1D(100, kernel_size=6)(target_embedding)\n",
        "\n",
        "#Max pooling \n",
        "MaxPool=GlobalAveragePooling1DMasked()(CNN1D)\n",
        "\n",
        "#Output\n",
        "output = Dense(1,activation=\"sigmoid\")(MaxPool)\n",
        "\n",
        "#Initialise model \n",
        "model4 = Model(inputs=target_word, outputs=[output]) \n",
        "\n",
        "model4.summary()"
      ]
    },
    {
      "cell_type": "code",
      "execution_count": 55,
      "metadata": {
        "colab": {
          "base_uri": "https://localhost:8080/"
        },
        "id": "-G5MrDPJFBzK",
        "outputId": "84966e7c-53b7-458a-f86c-f41fa461e84f"
      },
      "outputs": [
        {
          "output_type": "stream",
          "name": "stdout",
          "text": [
            "Epoch 1/40\n",
            "30/30 [==============================] - 12s 174ms/step - loss: 0.6447 - accuracy: 0.6385 - val_loss: 0.5295 - val_accuracy: 0.7558\n",
            "Epoch 2/40\n",
            "30/30 [==============================] - 4s 130ms/step - loss: 0.3796 - accuracy: 0.8493 - val_loss: 0.3263 - val_accuracy: 0.8672\n",
            "Epoch 3/40\n",
            "30/30 [==============================] - 4s 131ms/step - loss: 0.2357 - accuracy: 0.9075 - val_loss: 0.2949 - val_accuracy: 0.8839\n",
            "Epoch 4/40\n",
            "30/30 [==============================] - 4s 131ms/step - loss: 0.1631 - accuracy: 0.9430 - val_loss: 0.3033 - val_accuracy: 0.8826\n",
            "Epoch 5/40\n",
            "30/30 [==============================] - 4s 131ms/step - loss: 0.1201 - accuracy: 0.9601 - val_loss: 0.3419 - val_accuracy: 0.8762\n",
            "Epoch 6/40\n",
            "30/30 [==============================] - 4s 131ms/step - loss: 0.0896 - accuracy: 0.9737 - val_loss: 0.3943 - val_accuracy: 0.8703\n",
            "Epoch 7/40\n",
            "30/30 [==============================] - 4s 131ms/step - loss: 0.0649 - accuracy: 0.9819 - val_loss: 0.4447 - val_accuracy: 0.8692\n",
            "Epoch 8/40\n",
            "30/30 [==============================] - 4s 131ms/step - loss: 0.0453 - accuracy: 0.9896 - val_loss: 0.4965 - val_accuracy: 0.8679\n",
            "Epoch 9/40\n",
            "30/30 [==============================] - 4s 130ms/step - loss: 0.0299 - accuracy: 0.9948 - val_loss: 0.5564 - val_accuracy: 0.8629\n",
            "Epoch 10/40\n",
            "30/30 [==============================] - 4s 130ms/step - loss: 0.0210 - accuracy: 0.9970 - val_loss: 0.6136 - val_accuracy: 0.8618\n",
            "Epoch 11/40\n",
            "30/30 [==============================] - 4s 130ms/step - loss: 0.0151 - accuracy: 0.9983 - val_loss: 0.6726 - val_accuracy: 0.8616\n",
            "Epoch 12/40\n",
            "30/30 [==============================] - 4s 129ms/step - loss: 0.0116 - accuracy: 0.9987 - val_loss: 0.7266 - val_accuracy: 0.8586\n",
            "Epoch 13/40\n",
            "30/30 [==============================] - 4s 129ms/step - loss: 0.0088 - accuracy: 0.9991 - val_loss: 0.7745 - val_accuracy: 0.8592\n",
            "Epoch 14/40\n",
            "30/30 [==============================] - 4s 130ms/step - loss: 0.0066 - accuracy: 0.9997 - val_loss: 0.8105 - val_accuracy: 0.8601\n",
            "Epoch 15/40\n",
            "30/30 [==============================] - 4s 130ms/step - loss: 0.0049 - accuracy: 0.9998 - val_loss: 0.8498 - val_accuracy: 0.8589\n",
            "Epoch 16/40\n",
            "30/30 [==============================] - 4s 130ms/step - loss: 0.0037 - accuracy: 0.9999 - val_loss: 0.8917 - val_accuracy: 0.8574\n",
            "Epoch 17/40\n",
            "30/30 [==============================] - 4s 130ms/step - loss: 0.0028 - accuracy: 0.9999 - val_loss: 0.9098 - val_accuracy: 0.8587\n",
            "Epoch 18/40\n",
            "30/30 [==============================] - 4s 129ms/step - loss: 0.0023 - accuracy: 0.9999 - val_loss: 0.9357 - val_accuracy: 0.8577\n",
            "Epoch 19/40\n",
            "30/30 [==============================] - 4s 129ms/step - loss: 0.0021 - accuracy: 0.9999 - val_loss: 0.9613 - val_accuracy: 0.8566\n",
            "Epoch 20/40\n",
            "30/30 [==============================] - 4s 129ms/step - loss: 0.0018 - accuracy: 0.9999 - val_loss: 0.9828 - val_accuracy: 0.8577\n",
            "Epoch 21/40\n",
            "30/30 [==============================] - 4s 128ms/step - loss: 0.0015 - accuracy: 0.9999 - val_loss: 1.0067 - val_accuracy: 0.8552\n",
            "Epoch 22/40\n",
            "30/30 [==============================] - 4s 128ms/step - loss: 0.0013 - accuracy: 0.9999 - val_loss: 1.0248 - val_accuracy: 0.8555\n",
            "Epoch 23/40\n",
            "30/30 [==============================] - 4s 129ms/step - loss: 0.0012 - accuracy: 0.9999 - val_loss: 1.0435 - val_accuracy: 0.8552\n",
            "Epoch 24/40\n",
            "30/30 [==============================] - 4s 129ms/step - loss: 0.0014 - accuracy: 0.9999 - val_loss: 1.0668 - val_accuracy: 0.8553\n",
            "Epoch 25/40\n",
            "30/30 [==============================] - 4s 129ms/step - loss: 9.1243e-04 - accuracy: 1.0000 - val_loss: 1.0805 - val_accuracy: 0.8553\n",
            "Epoch 26/40\n",
            "30/30 [==============================] - 4s 134ms/step - loss: 8.0159e-04 - accuracy: 0.9999 - val_loss: 1.0963 - val_accuracy: 0.8554\n",
            "Epoch 27/40\n",
            "30/30 [==============================] - 4s 128ms/step - loss: 7.2410e-04 - accuracy: 1.0000 - val_loss: 1.1083 - val_accuracy: 0.8563\n",
            "Epoch 28/40\n",
            "30/30 [==============================] - 4s 128ms/step - loss: 7.4043e-04 - accuracy: 0.9999 - val_loss: 1.1241 - val_accuracy: 0.8545\n",
            "Epoch 29/40\n",
            "30/30 [==============================] - 4s 134ms/step - loss: 6.1910e-04 - accuracy: 1.0000 - val_loss: 1.1392 - val_accuracy: 0.8563\n",
            "Epoch 30/40\n",
            "30/30 [==============================] - 4s 128ms/step - loss: 6.2356e-04 - accuracy: 1.0000 - val_loss: 1.1531 - val_accuracy: 0.8553\n",
            "Epoch 31/40\n",
            "30/30 [==============================] - 4s 128ms/step - loss: 6.2919e-04 - accuracy: 0.9999 - val_loss: 1.1750 - val_accuracy: 0.8538\n",
            "Epoch 32/40\n",
            "30/30 [==============================] - 4s 128ms/step - loss: 5.2497e-04 - accuracy: 1.0000 - val_loss: 1.1801 - val_accuracy: 0.8552\n",
            "Epoch 33/40\n",
            "30/30 [==============================] - 4s 128ms/step - loss: 4.8428e-04 - accuracy: 1.0000 - val_loss: 1.1948 - val_accuracy: 0.8543\n",
            "Epoch 34/40\n",
            "30/30 [==============================] - 4s 128ms/step - loss: 4.3612e-04 - accuracy: 1.0000 - val_loss: 1.2078 - val_accuracy: 0.8542\n",
            "Epoch 35/40\n",
            "30/30 [==============================] - 4s 128ms/step - loss: 3.7587e-04 - accuracy: 1.0000 - val_loss: 1.2164 - val_accuracy: 0.8552\n",
            "Epoch 36/40\n",
            "30/30 [==============================] - 4s 129ms/step - loss: 3.5803e-04 - accuracy: 1.0000 - val_loss: 1.2289 - val_accuracy: 0.8539\n",
            "Epoch 37/40\n",
            "30/30 [==============================] - 4s 128ms/step - loss: 3.2641e-04 - accuracy: 1.0000 - val_loss: 1.2387 - val_accuracy: 0.8536\n",
            "Epoch 38/40\n",
            "30/30 [==============================] - 4s 128ms/step - loss: 3.0504e-04 - accuracy: 1.0000 - val_loss: 1.2475 - val_accuracy: 0.8547\n",
            "Epoch 39/40\n",
            "30/30 [==============================] - 4s 128ms/step - loss: 2.8947e-04 - accuracy: 1.0000 - val_loss: 1.2601 - val_accuracy: 0.8536\n",
            "Epoch 40/40\n",
            "30/30 [==============================] - 4s 133ms/step - loss: 2.7056e-04 - accuracy: 1.0000 - val_loss: 1.2683 - val_accuracy: 0.8535\n",
            "782/782 [==============================] - 4s 6ms/step - loss: 1.3594 - accuracy: 0.8417\n",
            "[1.3593778610229492, 0.8416799902915955]\n"
          ]
        }
      ],
      "source": [
        "# Train and test the model\n",
        "\n",
        "# your code goes here\n",
        "model4.compile(optimizer=\"adam\", loss=\"binary_crossentropy\", metrics=[\"accuracy\"])\n",
        "\n",
        "history = model4.fit(partial_X_train, partial_y_train,\n",
        "                    epochs=40,\n",
        "                    batch_size=512,\n",
        "                    validation_data=(X_val, y_val),\n",
        "                    verbose=1)\n",
        "\n",
        "results = model4.evaluate(X_test_enc, y_test)\n",
        "print(results)"
      ]
    },
    {
      "cell_type": "code",
      "execution_count": 56,
      "metadata": {
        "colab": {
          "base_uri": "https://localhost:8080/",
          "height": 265
        },
        "id": "gkMat0XJtLNk",
        "outputId": "b788a513-9d19-43fc-e655-d672f9f39708"
      },
      "outputs": [
        {
          "output_type": "display_data",
          "data": {
            "image/png": "[encoded data removed]",
            "text/plain": [
              "<Figure size 432x288 with 1 Axes>"
            ]
          },
          "metadata": {
            "needs_background": "light"
          }
        }
      ],
      "source": [
        "# your code goes here\n",
        "plt.plot(history.history['loss'], linestyle=\"\",marker=\"o\")\n",
        "plt.show()"
      ]
    },
    {
      "cell_type": "markdown",
      "metadata": {
        "id": "XkQMLxw-wWG6"
      },
      "source": [
        "## Model 5-2: Adding extra convolutional layer"
      ]
    },
    {
      "cell_type": "code",
      "execution_count": 57,
      "metadata": {
        "colab": {
          "base_uri": "https://localhost:8080/"
        },
        "id": "7w-y_uobvHuE",
        "outputId": "52d10d07-5814-454b-9a2d-a1a16965c920"
      },
      "outputs": [
        {
          "output_type": "stream",
          "name": "stdout",
          "text": [
            "Model: \"model_14\"\n",
            "_________________________________________________________________\n",
            " Layer (type)                Output Shape              Param #   \n",
            "=================================================================\n",
            " input_15 (InputLayer)       [(None, 256)]             0         \n",
            "                                                                 \n",
            " target_embed_layer (Embeddi  (None, 256, 300)         3000000   \n",
            " ng)                                                             \n",
            "                                                                 \n",
            " conv1d_1 (Conv1D)           (None, 251, 100)          180100    \n",
            "                                                                 \n",
            " conv1d_2 (Conv1D)           (None, 246, 100)          60100     \n",
            "                                                                 \n",
            " global_average_pooling1d_ma  (None, 100)              0         \n",
            " sked_5 (GlobalAveragePoolin                                     \n",
            " g1DMasked)                                                      \n",
            "                                                                 \n",
            " dense_23 (Dense)            (None, 1)                 101       \n",
            "                                                                 \n",
            "=================================================================\n",
            "Total params: 3,240,301\n",
            "Trainable params: 3,240,301\n",
            "Non-trainable params: 0\n",
            "_________________________________________________________________\n"
          ]
        }
      ],
      "source": [
        "#Input layer. \n",
        "target_word = Input((MAX_SEQUENCE_LENGTH,), dtype='int32')\n",
        "\n",
        "#Embedding layer. \n",
        "target_embedding = Embedding(VOCAB_SIZE, EMBED_SIZE, name='target_embed_layer',\n",
        "                        \tembeddings_initializer='glorot_uniform',\n",
        "                         \tinput_length=1)(target_word)\n",
        "                          \n",
        "#Convolutional layer\n",
        "CNN1D = Conv1D(100, kernel_size=6)(target_embedding)\n",
        "\n",
        "#Convolutional layer\n",
        "CNN2D = Conv1D(100, kernel_size=6)(CNN1D)\n",
        "\n",
        "#Max pooling \n",
        "MaxPool=GlobalAveragePooling1DMasked()(CNN2D)\n",
        "\n",
        "#Output\n",
        "output = Dense(1,activation=\"sigmoid\")(MaxPool)\n",
        "\n",
        "#Initialise model \n",
        "model6 = Model(inputs=target_word, outputs=[output]) \n",
        "\n",
        "model6.summary()"
      ]
    },
    {
      "cell_type": "code",
      "execution_count": 58,
      "metadata": {
        "colab": {
          "base_uri": "https://localhost:8080/"
        },
        "id": "hx8JLl4xPlua",
        "outputId": "1dd4fcfb-f49e-4300-f4a8-9ce9e098ea99"
      },
      "outputs": [
        {
          "output_type": "stream",
          "name": "stdout",
          "text": [
            "Epoch 1/40\n",
            "30/30 [==============================] - 7s 186ms/step - loss: 0.5712 - accuracy: 0.6813 - val_loss: 0.3449 - val_accuracy: 0.8570\n",
            "Epoch 2/40\n",
            "30/30 [==============================] - 5s 181ms/step - loss: 0.2609 - accuracy: 0.8963 - val_loss: 0.3049 - val_accuracy: 0.8748\n",
            "Epoch 3/40\n",
            "30/30 [==============================] - 5s 178ms/step - loss: 0.1579 - accuracy: 0.9429 - val_loss: 0.3649 - val_accuracy: 0.8754\n",
            "Epoch 4/40\n",
            "30/30 [==============================] - 5s 180ms/step - loss: 0.0975 - accuracy: 0.9654 - val_loss: 0.5076 - val_accuracy: 0.8588\n",
            "Epoch 5/40\n",
            "30/30 [==============================] - 5s 171ms/step - loss: 0.0630 - accuracy: 0.9789 - val_loss: 0.6777 - val_accuracy: 0.8561\n",
            "Epoch 6/40\n",
            "30/30 [==============================] - 5s 171ms/step - loss: 0.0445 - accuracy: 0.9833 - val_loss: 0.8602 - val_accuracy: 0.8460\n",
            "Epoch 7/40\n",
            "30/30 [==============================] - 5s 171ms/step - loss: 0.0338 - accuracy: 0.9867 - val_loss: 0.9355 - val_accuracy: 0.8564\n",
            "Epoch 8/40\n",
            "30/30 [==============================] - 5s 171ms/step - loss: 0.0205 - accuracy: 0.9928 - val_loss: 1.1029 - val_accuracy: 0.8531\n",
            "Epoch 9/40\n",
            "30/30 [==============================] - 5s 170ms/step - loss: 0.0166 - accuracy: 0.9938 - val_loss: 1.2701 - val_accuracy: 0.8507\n",
            "Epoch 10/40\n",
            "30/30 [==============================] - 5s 169ms/step - loss: 0.0190 - accuracy: 0.9931 - val_loss: 1.3594 - val_accuracy: 0.8494\n",
            "Epoch 11/40\n",
            "30/30 [==============================] - 5s 169ms/step - loss: 0.0186 - accuracy: 0.9928 - val_loss: 1.4359 - val_accuracy: 0.8464\n",
            "Epoch 12/40\n",
            "30/30 [==============================] - 5s 169ms/step - loss: 0.0175 - accuracy: 0.9933 - val_loss: 1.5156 - val_accuracy: 0.8482\n",
            "Epoch 13/40\n",
            "30/30 [==============================] - 5s 169ms/step - loss: 0.0248 - accuracy: 0.9904 - val_loss: 1.5558 - val_accuracy: 0.8432\n",
            "Epoch 14/40\n",
            "30/30 [==============================] - 5s 169ms/step - loss: 0.0275 - accuracy: 0.9888 - val_loss: 1.4029 - val_accuracy: 0.8490\n",
            "Epoch 15/40\n",
            "30/30 [==============================] - 5s 169ms/step - loss: 0.0162 - accuracy: 0.9937 - val_loss: 1.4539 - val_accuracy: 0.8464\n",
            "Epoch 16/40\n",
            "30/30 [==============================] - 5s 169ms/step - loss: 0.0090 - accuracy: 0.9973 - val_loss: 1.6133 - val_accuracy: 0.8448\n",
            "Epoch 17/40\n",
            "30/30 [==============================] - 5s 170ms/step - loss: 0.0050 - accuracy: 0.9987 - val_loss: 1.8322 - val_accuracy: 0.8447\n",
            "Epoch 18/40\n",
            "30/30 [==============================] - 5s 169ms/step - loss: 0.0027 - accuracy: 0.9994 - val_loss: 1.9665 - val_accuracy: 0.8450\n",
            "Epoch 19/40\n",
            "30/30 [==============================] - 6s 189ms/step - loss: 0.0018 - accuracy: 0.9997 - val_loss: 2.0964 - val_accuracy: 0.8449\n",
            "Epoch 20/40\n",
            "30/30 [==============================] - 5s 167ms/step - loss: 0.0038 - accuracy: 0.9991 - val_loss: 2.1445 - val_accuracy: 0.8465\n",
            "Epoch 21/40\n",
            "30/30 [==============================] - 5s 167ms/step - loss: 6.2187e-04 - accuracy: 0.9998 - val_loss: 2.2223 - val_accuracy: 0.8485\n",
            "Epoch 22/40\n",
            "30/30 [==============================] - 5s 167ms/step - loss: 2.7069e-04 - accuracy: 0.9999 - val_loss: 2.2811 - val_accuracy: 0.8468\n",
            "Epoch 23/40\n",
            "30/30 [==============================] - 5s 168ms/step - loss: 2.1680e-04 - accuracy: 1.0000 - val_loss: 2.3232 - val_accuracy: 0.8484\n",
            "Epoch 24/40\n",
            "30/30 [==============================] - 5s 167ms/step - loss: 8.2464e-05 - accuracy: 1.0000 - val_loss: 2.3471 - val_accuracy: 0.8471\n",
            "Epoch 25/40\n",
            "30/30 [==============================] - 5s 167ms/step - loss: 2.1403e-04 - accuracy: 1.0000 - val_loss: 2.3849 - val_accuracy: 0.8481\n",
            "Epoch 26/40\n",
            "30/30 [==============================] - 5s 168ms/step - loss: 5.8552e-05 - accuracy: 1.0000 - val_loss: 2.4096 - val_accuracy: 0.8477\n",
            "Epoch 27/40\n",
            "30/30 [==============================] - 5s 167ms/step - loss: 4.5653e-05 - accuracy: 1.0000 - val_loss: 2.4258 - val_accuracy: 0.8480\n",
            "Epoch 28/40\n",
            "30/30 [==============================] - 5s 167ms/step - loss: 4.8287e-05 - accuracy: 1.0000 - val_loss: 2.4417 - val_accuracy: 0.8473\n",
            "Epoch 29/40\n",
            "30/30 [==============================] - 5s 167ms/step - loss: 5.1484e-05 - accuracy: 1.0000 - val_loss: 2.4602 - val_accuracy: 0.8482\n",
            "Epoch 30/40\n",
            "30/30 [==============================] - 5s 167ms/step - loss: 3.4321e-05 - accuracy: 1.0000 - val_loss: 2.4759 - val_accuracy: 0.8474\n",
            "Epoch 31/40\n",
            "30/30 [==============================] - 5s 167ms/step - loss: 3.1594e-05 - accuracy: 1.0000 - val_loss: 2.4905 - val_accuracy: 0.8478\n",
            "Epoch 32/40\n",
            "30/30 [==============================] - 5s 166ms/step - loss: 2.9328e-05 - accuracy: 1.0000 - val_loss: 2.5051 - val_accuracy: 0.8478\n",
            "Epoch 33/40\n",
            "30/30 [==============================] - 5s 167ms/step - loss: 2.7786e-05 - accuracy: 1.0000 - val_loss: 2.5195 - val_accuracy: 0.8475\n",
            "Epoch 34/40\n",
            "30/30 [==============================] - 5s 167ms/step - loss: 2.5142e-05 - accuracy: 1.0000 - val_loss: 2.5308 - val_accuracy: 0.8475\n",
            "Epoch 35/40\n",
            "30/30 [==============================] - 5s 167ms/step - loss: 2.3401e-05 - accuracy: 1.0000 - val_loss: 2.5446 - val_accuracy: 0.8478\n",
            "Epoch 36/40\n",
            "30/30 [==============================] - 5s 167ms/step - loss: 2.1712e-05 - accuracy: 1.0000 - val_loss: 2.5545 - val_accuracy: 0.8473\n",
            "Epoch 37/40\n",
            "30/30 [==============================] - 6s 188ms/step - loss: 2.1128e-05 - accuracy: 1.0000 - val_loss: 2.5670 - val_accuracy: 0.8478\n",
            "Epoch 38/40\n",
            "30/30 [==============================] - 5s 167ms/step - loss: 2.0845e-05 - accuracy: 1.0000 - val_loss: 2.5785 - val_accuracy: 0.8476\n",
            "Epoch 39/40\n",
            "30/30 [==============================] - 5s 167ms/step - loss: 1.9097e-05 - accuracy: 1.0000 - val_loss: 2.5904 - val_accuracy: 0.8478\n",
            "Epoch 40/40\n",
            "30/30 [==============================] - 5s 166ms/step - loss: 1.7474e-05 - accuracy: 1.0000 - val_loss: 2.6008 - val_accuracy: 0.8475\n",
            "782/782 [==============================] - 5s 7ms/step - loss: 2.8493 - accuracy: 0.8292\n",
            "[2.849324941635132, 0.829200029373169]\n"
          ]
        }
      ],
      "source": [
        "# Train and test the model\n",
        "# your code goes here\n",
        "model6.compile(optimizer=\"adam\", loss=\"binary_crossentropy\", metrics=[\"accuracy\"])\n",
        "\n",
        "history = model6.fit(partial_X_train, partial_y_train,\n",
        "                    epochs=40,\n",
        "                    batch_size=512,\n",
        "                    validation_data=(X_val, y_val),\n",
        "                    verbose=1)\n",
        "\n",
        "results = model6.evaluate(X_test_enc, y_test)\n",
        "print(results)\n"
      ]
    },
    {
      "cell_type": "code",
      "execution_count": null,
      "metadata": {
        "colab": {
          "base_uri": "https://localhost:8080/",
          "height": 265
        },
        "id": "8QsvE6z5vakL",
        "outputId": "08e02921-425d-4a07-d933-36263321edb0"
      },
      "outputs": [
        {
          "data": {
            "image/png": "[encoded data removed]",
            "text/plain": [
              "<Figure size 432x288 with 1 Axes>"
            ]
          },
          "metadata": {},
          "output_type": "display_data"
        }
      ],
      "source": [
        "# your code goes here\n",
        "plt.plot(history.history['loss'], linestyle=\"\",marker=\"o\")\n",
        "plt.show()"
      ]
    },
    {
      "cell_type": "markdown",
      "metadata": {
        "id": "Kx--Ytk3ZbLo"
      },
      "source": [
        "Although adding layer here reduces the training loss, the evaluation accuracy is worse than the model without the extra convolutional layer.\n",
        "\n",
        "Adding more layers can help you to extract more features. But we can do that up to a certain extent. After some point, instead of extracting features, we tend to overfit the data. Overfitting can lead to errors in on form or another, such as false positives. It is not easy to choose the number of units in a hidden layer or the number of hidden layers in a neural network. For many applications, one hidden layer is enough. As a general rule, the number of units in that hidden layer is between the number of inputs and the number of outputs.\n",
        " The best way to decide on the number of units and hidden layers is to try various parameters. Train several neural networks with different numbers of hidden layers and neurons, and monitor the performance of them. You will have to experiment using a series of different architectures. \n",
        "\n",
        "\n",
        "\n"
      ]
    },
    {
      "cell_type": "markdown",
      "metadata": {
        "id": "gn2GSV4ioyO2"
      },
      "source": [
        "\n",
        "\n",
        "---\n",
        "\n"
      ]
    }
  ],
  "metadata": {
    "accelerator": "GPU",
    "colab": {
      "collapsed_sections": [
        "c8gIzXncfaJK",
        "i_9a_rybhG5J",
        "7GdY2-64YG1B"
      ],
      "machine_shape": "hm",
      "name": "Lab3_mySolution.ipynb",
      "toc_visible": true,
      "provenance": []
    },
    "kernelspec": {
      "display_name": "Python 3 (ipykernel)",
      "language": "python",
      "name": "python3"
    },
    "language_info": {
      "codemirror_mode": {
        "name": "ipython",
        "version": 3
      },
      "file_extension": ".py",
      "mimetype": "text/x-python",
      "name": "python",
      "nbconvert_exporter": "python",
      "pygments_lexer": "ipython3",
      "version": "3.9.7"
    }
  },
  "nbformat": 4,
  "nbformat_minor": 0
}